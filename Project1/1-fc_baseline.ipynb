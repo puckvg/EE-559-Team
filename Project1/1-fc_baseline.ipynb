{
 "cells": [
  {
   "cell_type": "markdown",
   "metadata": {},
   "source": [
    "# Fully-connected baseline"
   ]
  },
  {
   "cell_type": "code",
   "execution_count": 1,
   "metadata": {},
   "outputs": [],
   "source": [
    "from src.dlc_practical_prologue import generate_pair_sets\n",
    "from src.utils import load_class_data, load_target_data, load_all_data, print_param_count\n",
    "from src.models import *\n",
    "from src.trainer import Trainer\n",
    "import matplotlib.pyplot as plt"
   ]
  },
  {
   "cell_type": "code",
   "execution_count": 2,
   "metadata": {},
   "outputs": [],
   "source": [
    "# Import data\n",
    "dl_train_target, dl_val_target, dl_test_target = load_target_data()"
   ]
  },
  {
   "cell_type": "markdown",
   "metadata": {},
   "source": [
    "# Let's run it"
   ]
  },
  {
   "cell_type": "code",
   "execution_count": 3,
   "metadata": {},
   "outputs": [
    {
     "name": "stdout",
     "output_type": "stream",
     "text": [
      "Total number of parameters:     70722\n",
      "Number of trainable parameters: 70722\n"
     ]
    }
   ],
   "source": [
    "# Check the number of parameters of the model\n",
    "model = LinearBaseline()\n",
    "print_param_count(model)"
   ]
  },
  {
   "cell_type": "code",
   "execution_count": 4,
   "metadata": {},
   "outputs": [
    {
     "name": "stdout",
     "output_type": "stream",
     "text": [
      "Run 1/10\n",
      "Run 2/10\n",
      "Run 3/10\n",
      "Run 4/10\n",
      "Run 5/10\n",
      "Run 6/10\n",
      "Run 7/10\n",
      "Run 8/10\n",
      "Run 9/10\n",
      "Run 10/10\n"
     ]
    }
   ],
   "source": [
    "# Trainer\n",
    "trainer = Trainer(nb_epochs=25, verbose=False)\n",
    "\n",
    "results = []\n",
    "for i in range(10):\n",
    "    print(f\"Run {i+1}/10\")\n",
    "\n",
    "    # Model\n",
    "    model = LinearBaseline()\n",
    "\n",
    "    # Training\n",
    "    trainer.fit(model, dl_train_target, dl_val_target, verbose=False)\n",
    "\n",
    "    # Testing\n",
    "    acc = trainer.test(model, dl_test_target, test_verbose=False, return_acc=True)\n",
    "    results.extend([acc])"
   ]
  },
  {
   "cell_type": "code",
   "execution_count": 5,
   "metadata": {},
   "outputs": [
    {
     "name": "stdout",
     "output_type": "stream",
     "text": [
      "Average accuracy:   79.88\n",
      "Standard deviation: 0.85\n"
     ]
    }
   ],
   "source": [
    "# Print results\n",
    "results = torch.Tensor(results)\n",
    "print(\"Average accuracy:   {:.2f}\".format(results.mean()))\n",
    "print(\"Standard deviation: {:.2f}\".format(results.std()))"
   ]
  },
  {
   "cell_type": "code",
   "execution_count": null,
   "metadata": {},
   "outputs": [],
   "source": []
  }
 ],
 "metadata": {
  "kernelspec": {
   "display_name": "Python 3",
   "language": "python",
   "name": "python3"
  },
  "language_info": {
   "codemirror_mode": {
    "name": "ipython",
    "version": 3
   },
   "file_extension": ".py",
   "mimetype": "text/x-python",
   "name": "python",
   "nbconvert_exporter": "python",
   "pygments_lexer": "ipython3",
   "version": "3.8.3"
  }
 },
 "nbformat": 4,
 "nbformat_minor": 2
}
