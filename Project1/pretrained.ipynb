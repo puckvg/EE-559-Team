{
 "metadata": {
  "language_info": {
   "codemirror_mode": {
    "name": "ipython",
    "version": 3
   },
   "file_extension": ".py",
   "mimetype": "text/x-python",
   "name": "python",
   "nbconvert_exporter": "python",
   "pygments_lexer": "ipython3",
   "version": "3.8.0-final"
  },
  "orig_nbformat": 2,
  "kernelspec": {
   "name": "python380jvsc74a57bd0aee8b7b246df8f9039afb4144a1f6fd8d2ca17a180786b69acc140d282b71a49",
   "display_name": "Python 3.8.0 64-bit"
  }
 },
 "nbformat": 4,
 "nbformat_minor": 2,
 "cells": [
  {
   "cell_type": "code",
   "execution_count": 1,
   "metadata": {},
   "outputs": [],
   "source": [
    "from src.dlc_practical_prologue import generate_pair_sets\n",
    "from src.utils import load_class_data, load_target_data, load_all_data\n",
    "from src.models import *\n",
    "from src.trainer import Trainer\n",
    "import matplotlib.pyplot as plt"
   ]
  },
  {
   "cell_type": "code",
   "execution_count": 2,
   "metadata": {},
   "outputs": [],
   "source": [
    "# Load data with class and larget than as targets\n",
    "dl_train_all, dl_val_all, dl_test_all = load_all_data()\n",
    "\n",
    "# Load data with class as target\n",
    "dl_train_class, dl_val_class, dl_test_class = load_class_data()"
   ]
  },
  {
   "cell_type": "code",
   "execution_count": 11,
   "metadata": {},
   "outputs": [
    {
     "output_type": "stream",
     "name": "stdout",
     "text": [
      "# Epoch 1/10:\t loss=1.48\t loss_val=0.6\t acc_val=82.21\n",
      "# Epoch 2/10:\t loss=0.38\t loss_val=0.33\t acc_val=90.62\n",
      "# Epoch 3/10:\t loss=0.22\t loss_val=0.25\t acc_val=92.31\n",
      "# Epoch 4/10:\t loss=0.15\t loss_val=0.27\t acc_val=92.79\n",
      "# Epoch 5/10:\t loss=0.1\t loss_val=0.25\t acc_val=92.07\n",
      "# Epoch 6/10:\t loss=0.08\t loss_val=0.18\t acc_val=93.51\n",
      "# Epoch 7/10:\t loss=0.06\t loss_val=0.17\t acc_val=94.71\n",
      "# Epoch 8/10:\t loss=0.03\t loss_val=0.16\t acc_val=94.47\n",
      "# Epoch 9/10:\t loss=0.03\t loss_val=0.16\t acc_val=95.43\n",
      "# Epoch 10/10:\t loss=0.02\t loss_val=0.16\t acc_val=95.19\n",
      "loss_test=0.14\t acc_test=95.78\n"
     ]
    },
    {
     "output_type": "execute_result",
     "data": {
      "text/plain": [
       "95.78"
      ]
     },
     "metadata": {},
     "execution_count": 11
    }
   ],
   "source": [
    "le_net = LeNet()\n",
    "trainer = Trainer(nb_epochs=10)\n",
    "\n",
    "trainer.fit(le_net, dl_train_class, dl_val_class)\n",
    "trainer.test(le_net, dl_test_class)"
   ]
  },
  {
   "cell_type": "code",
   "execution_count": 12,
   "metadata": {},
   "outputs": [
    {
     "output_type": "stream",
     "name": "stdout",
     "text": [
      "# Epoch 1/5:\t loss=0.64\t loss_val=0.6\t acc_val=61.16\n",
      "# Epoch 2/5:\t loss=0.47\t loss_val=0.36\t acc_val=95.54\n",
      "# Epoch 3/5:\t loss=0.24\t loss_val=0.17\t acc_val=96.43\n",
      "# Epoch 4/5:\t loss=0.1\t loss_val=0.09\t acc_val=97.77\n",
      "# Epoch 5/5:\t loss=0.04\t loss_val=0.05\t acc_val=97.77\n"
     ]
    },
    {
     "output_type": "execute_result",
     "data": {
      "text/plain": [
       "([0.64, 0.47, 0.24, 0.1, 0.04],\n",
       " [64.38, 82.38, 98.0, 99.38, 99.88],\n",
       " [61.16, 95.54, 96.43, 97.77, 97.77])"
      ]
     },
     "metadata": {},
     "execution_count": 12
    }
   ],
   "source": [
    "# Train simple network (arithmetic operation classification)\n",
    "tail = TailLinear(label_encoded=True)\n",
    "trainer = Trainer(nb_epochs=5)\n",
    "trainer.fit(tail, dl_train_all, dl_val_all)"
   ]
  },
  {
   "cell_type": "code",
   "execution_count": 13,
   "metadata": {},
   "outputs": [
    {
     "output_type": "stream",
     "name": "stdout",
     "text": [
      "loss_test=0.18\t acc_test=96.0\n"
     ]
    },
    {
     "output_type": "execute_result",
     "data": {
      "text/plain": [
       "96.0"
      ]
     },
     "metadata": {},
     "execution_count": 13
    }
   ],
   "source": [
    "sequence = SequencePretrained(auxiliary=le_net, target=tail)\n",
    "trainer = Trainer(nb_epochs=1)\n",
    "trainer.test(sequence, dl_test_all)"
   ]
  },
  {
   "cell_type": "code",
   "execution_count": null,
   "metadata": {},
   "outputs": [],
   "source": []
  }
 ]
}