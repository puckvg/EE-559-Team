{
 "cells": [
  {
   "cell_type": "code",
   "execution_count": 1,
   "metadata": {},
   "outputs": [],
   "source": [
    "from src.dlc_practical_prologue import generate_pair_sets\n",
    "from src.utils import load_class_data, load_target_data, load_all_data\n",
    "from src.models import *\n",
    "from src.trainer import Trainer\n",
    "import matplotlib.pyplot as plt\n",
    "import numpy as np"
   ]
  },
  {
   "cell_type": "markdown",
   "metadata": {},
   "source": [
    "# Load data"
   ]
  },
  {
   "cell_type": "code",
   "execution_count": 2,
   "metadata": {},
   "outputs": [],
   "source": [
    "dl_train_all, dl_val_all, dl_test_all = load_all_data(normalize=True)"
   ]
  },
  {
   "cell_type": "markdown",
   "metadata": {},
   "source": [
    "# Train / Test"
   ]
  },
  {
   "cell_type": "markdown",
   "metadata": {},
   "source": [
    "## Params"
   ]
  },
  {
   "cell_type": "code",
   "execution_count": 3,
   "metadata": {},
   "outputs": [],
   "source": [
    "le_net = LeNet()\n",
    "\n",
    "# Can use any network with ten input and two output nodes here\n",
    "tail_net = nn.Linear(20, 2)\n",
    "\n",
    "nb_epochs = 25\n",
    "n_cv = 10 \n",
    "n_cv_weight = 5"
   ]
  },
  {
   "cell_type": "markdown",
   "metadata": {},
   "source": [
    "## Hyperparam opt the weight \n",
    "- Can skip and use result if using same architecture"
   ]
  },
  {
   "cell_type": "code",
   "execution_count": 4,
   "metadata": {},
   "outputs": [],
   "source": [
    "weights = np.linspace(0.1, 1, 10)"
   ]
  },
  {
   "cell_type": "code",
   "execution_count": 5,
   "metadata": {},
   "outputs": [],
   "source": [
    "weight_test_accuracies = np.zeros((n_cv_weight, len(weights)))"
   ]
  },
  {
   "cell_type": "code",
   "execution_count": 6,
   "metadata": {},
   "outputs": [],
   "source": [
    "def hyperparam_opt(weights, n_cv_weight=5):\n",
    "    for j, weight in enumerate(weights): \n",
    "    # 5 fold cross validate here \n",
    "        for i in range(n_cv_weight):\n",
    "            siamese_le_net = Siamese(le_net, \n",
    "                                     softmax=False,\n",
    "                                     target=tail_net, \n",
    "                                     weight_aux=weight)\n",
    "            trainer = Trainer(nb_epochs=nb_epochs)\n",
    "            trainer.fit(siamese_le_net, dl_train_all, dl_val_all, verbose=False)\n",
    "            acc_test = trainer.test(siamese_le_net, dl_test_all, test_verbose=True, return_acc=True)\n",
    "            weight_test_accuracies[i,j] = acc_test\n",
    "    avg_weight_test_accuracies = np.mean(weight_test_accuracies, axis=0)\n",
    "    best_weight = weights[np.argmax(avg_weight_test_accuracies)]\n",
    "    return best_weight"
   ]
  },
  {
   "cell_type": "code",
   "execution_count": 7,
   "metadata": {},
   "outputs": [
    {
     "name": "stdout",
     "output_type": "stream",
     "text": [
      "loss_test=0.79\t acc_test=83.98\n",
      "loss_test=1.07\t acc_test=84.47\n",
      "loss_test=1.05\t acc_test=84.96\n",
      "loss_test=1.34\t acc_test=85.94\n",
      "loss_test=1.48\t acc_test=86.23\n",
      "loss_test=1.58\t acc_test=85.74\n",
      "loss_test=1.57\t acc_test=85.35\n",
      "loss_test=1.56\t acc_test=85.55\n",
      "loss_test=1.86\t acc_test=85.35\n",
      "loss_test=1.95\t acc_test=85.74\n",
      "loss_test=1.97\t acc_test=86.33\n",
      "loss_test=1.89\t acc_test=85.55\n",
      "loss_test=1.85\t acc_test=85.25\n",
      "loss_test=1.83\t acc_test=86.23\n",
      "loss_test=1.74\t acc_test=86.52\n",
      "loss_test=1.73\t acc_test=85.55\n",
      "loss_test=2.17\t acc_test=84.86\n",
      "loss_test=2.16\t acc_test=85.64\n",
      "loss_test=2.15\t acc_test=86.23\n",
      "loss_test=2.32\t acc_test=86.13\n",
      "loss_test=2.56\t acc_test=86.04\n",
      "loss_test=2.29\t acc_test=85.74\n",
      "loss_test=2.23\t acc_test=85.74\n",
      "loss_test=2.12\t acc_test=86.43\n",
      "loss_test=2.76\t acc_test=85.94\n",
      "loss_test=3.13\t acc_test=86.33\n",
      "loss_test=3.05\t acc_test=85.74\n",
      "loss_test=2.73\t acc_test=85.84\n",
      "loss_test=2.62\t acc_test=85.84\n",
      "loss_test=3.03\t acc_test=86.82\n",
      "loss_test=2.8\t acc_test=87.6\n",
      "loss_test=3.13\t acc_test=87.6\n",
      "loss_test=3.83\t acc_test=85.45\n",
      "loss_test=3.45\t acc_test=86.23\n",
      "loss_test=4.21\t acc_test=85.25\n",
      "loss_test=4.49\t acc_test=86.62\n",
      "loss_test=3.98\t acc_test=86.13\n",
      "loss_test=3.8\t acc_test=86.04\n",
      "loss_test=3.61\t acc_test=86.23\n",
      "loss_test=3.72\t acc_test=87.21\n",
      "loss_test=4.36\t acc_test=87.11\n",
      "loss_test=4.9\t acc_test=85.84\n",
      "loss_test=4.41\t acc_test=85.74\n",
      "loss_test=5.06\t acc_test=85.94\n",
      "loss_test=5.53\t acc_test=84.28\n",
      "loss_test=4.99\t acc_test=85.94\n",
      "loss_test=5.53\t acc_test=86.04\n",
      "loss_test=6.72\t acc_test=84.77\n",
      "loss_test=5.18\t acc_test=85.74\n",
      "loss_test=5.5\t acc_test=86.13\n"
     ]
    }
   ],
   "source": [
    "best_weight = hyperparam_opt(weights, n_cv_weight=5)"
   ]
  },
  {
   "cell_type": "code",
   "execution_count": 8,
   "metadata": {},
   "outputs": [
    {
     "data": {
      "text/plain": [
       "0.8"
      ]
     },
     "execution_count": 8,
     "metadata": {},
     "output_type": "execute_result"
    }
   ],
   "source": [
    "# keep best weight\n",
    "best_weight"
   ]
  },
  {
   "cell_type": "code",
   "execution_count": 9,
   "metadata": {},
   "outputs": [],
   "source": [
    "weight_aux = best_weight"
   ]
  },
  {
   "cell_type": "code",
   "execution_count": 10,
   "metadata": {},
   "outputs": [],
   "source": [
    "test_accuracies = []"
   ]
  },
  {
   "cell_type": "code",
   "execution_count": 11,
   "metadata": {},
   "outputs": [
    {
     "name": "stderr",
     "output_type": "stream",
     "text": [
      "/home/puck/coding/EE-559-Team/Project1/src/models.py:79: UserWarning: Implicit dimension choice for softmax has been deprecated. Change the call to include dim=X as an argument.\n",
      "  x = nn.functional.softmax(x)\n"
     ]
    },
    {
     "name": "stdout",
     "output_type": "stream",
     "text": [
      "loss_test=0.44\t acc_test=88.77\n",
      "loss_test=0.33\t acc_test=88.38\n",
      "loss_test=0.32\t acc_test=89.65\n",
      "loss_test=0.32\t acc_test=90.62\n",
      "loss_test=0.36\t acc_test=89.94\n",
      "loss_test=0.4\t acc_test=90.04\n",
      "loss_test=0.49\t acc_test=89.45\n",
      "loss_test=0.51\t acc_test=89.16\n",
      "loss_test=0.5\t acc_test=90.43\n",
      "loss_test=0.58\t acc_test=89.65\n"
     ]
    }
   ],
   "source": [
    "for i in range(n_cv):\n",
    "    siamese_le_net = Siamese(le_net, weight_aux=weight_aux)\n",
    "    trainer = Trainer(nb_epochs=nb_epochs)\n",
    "    trainer.fit(siamese_le_net, dl_train_all, dl_val_all, verbose=False)\n",
    "    acc_test = trainer.test(siamese_le_net, dl_test_all, test_verbose=True, return_acc=True)\n",
    "    test_accuracies.append(acc_test)"
   ]
  },
  {
   "cell_type": "code",
   "execution_count": 12,
   "metadata": {},
   "outputs": [
    {
     "name": "stdout",
     "output_type": "stream",
     "text": [
      "avg test acc 89.60900000000001\n",
      "stdev test acc 0.666039788601255\n"
     ]
    }
   ],
   "source": [
    "avg_test_acc = np.mean(test_accuracies)\n",
    "print('avg test acc', avg_test_acc)\n",
    "stdev_test_acc = np.std(test_accuracies)\n",
    "print('stdev test acc', stdev_test_acc)"
   ]
  },
  {
   "cell_type": "code",
   "execution_count": 13,
   "metadata": {},
   "outputs": [],
   "source": [
    "from src.utils import print_param_count"
   ]
  },
  {
   "cell_type": "code",
   "execution_count": 14,
   "metadata": {},
   "outputs": [
    {
     "name": "stdout",
     "output_type": "stream",
     "text": [
      "Total number of parameters:     72268\n",
      "Number of trainable parameters: 72268\n"
     ]
    }
   ],
   "source": [
    "print_param_count(siamese_le_net)"
   ]
  },
  {
   "cell_type": "code",
   "execution_count": null,
   "metadata": {},
   "outputs": [],
   "source": []
  },
  {
   "cell_type": "code",
   "execution_count": null,
   "metadata": {},
   "outputs": [],
   "source": []
  }
 ],
 "metadata": {
  "kernelspec": {
   "display_name": "Python 3",
   "language": "python",
   "name": "python3"
  },
  "language_info": {
   "codemirror_mode": {
    "name": "ipython",
    "version": 3
   },
   "file_extension": ".py",
   "mimetype": "text/x-python",
   "name": "python",
   "nbconvert_exporter": "python",
   "pygments_lexer": "ipython3",
   "version": "3.8.3"
  }
 },
 "nbformat": 4,
 "nbformat_minor": 2
}
