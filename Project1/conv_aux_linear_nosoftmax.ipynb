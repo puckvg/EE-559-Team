{
 "cells": [
  {
   "cell_type": "code",
   "execution_count": 1,
   "metadata": {},
   "outputs": [],
   "source": [
    "from src.dlc_practical_prologue import generate_pair_sets\n",
    "from src.utils import load_class_data, load_target_data, load_all_data\n",
    "from src.models import *\n",
    "from src.trainer import Trainer\n",
    "import matplotlib.pyplot as plt\n",
    "import numpy as np"
   ]
  },
  {
   "cell_type": "markdown",
   "metadata": {},
   "source": [
    "# Load data"
   ]
  },
  {
   "cell_type": "code",
   "execution_count": 2,
   "metadata": {},
   "outputs": [],
   "source": [
    "dl_train_all, dl_val_all, dl_test_all = load_all_data(normalize=True)"
   ]
  },
  {
   "cell_type": "markdown",
   "metadata": {},
   "source": [
    "# Train / Test"
   ]
  },
  {
   "cell_type": "markdown",
   "metadata": {},
   "source": [
    "## Params"
   ]
  },
  {
   "cell_type": "code",
   "execution_count": 3,
   "metadata": {},
   "outputs": [],
   "source": [
    "le_net = LeNet()\n",
    "\n",
    "# Can use any network with ten input and two output nodes here\n",
    "tail_net = nn.Linear(20, 2)\n",
    "\n",
    "nb_epochs = 25\n",
    "n_cv = 10 \n",
    "n_cv_weight = 5"
   ]
  },
  {
   "cell_type": "markdown",
   "metadata": {},
   "source": [
    "## Hyperparam opt the weight \n",
    "- Can skip and use result if using same architecture"
   ]
  },
  {
   "cell_type": "code",
   "execution_count": 4,
   "metadata": {},
   "outputs": [],
   "source": [
    "weights = np.linspace(0.1, 1, 10)"
   ]
  },
  {
   "cell_type": "code",
   "execution_count": 5,
   "metadata": {},
   "outputs": [],
   "source": [
    "weight_test_accuracies = np.zeros((n_cv_weight, len(weights)))"
   ]
  },
  {
   "cell_type": "code",
   "execution_count": 6,
   "metadata": {},
   "outputs": [],
   "source": [
    "def hyperparam_opt(weights, n_cv_weight=5):\n",
    "    for j, weight in enumerate(weights): \n",
    "    # 5 fold cross validate here \n",
    "        for i in range(n_cv_weight):\n",
    "            siamese_le_net = Siamese(le_net, \n",
    "                                     softmax=False,\n",
    "                                     target=tail_net, \n",
    "                                     weight_aux=weight)\n",
    "            trainer = Trainer(nb_epochs=nb_epochs)\n",
    "            trainer.fit(siamese_le_net, dl_train_all, dl_val_all, verbose=False)\n",
    "            acc_test = trainer.test(siamese_le_net, dl_test_all, test_verbose=True, return_acc=True)\n",
    "            weight_test_accuracies[i,j] = acc_test\n",
    "    avg_weight_test_accuracies = np.mean(weight_test_accuracies, axis=0)\n",
    "    best_weight = weights[np.argmax(avg_weight_test_accuracies)]\n",
    "    return best_weight"
   ]
  },
  {
   "cell_type": "code",
   "execution_count": 7,
   "metadata": {},
   "outputs": [],
   "source": [
    "#best_weight = hyperparam_opt(weights, n_cv_weight=5)"
   ]
  },
  {
   "cell_type": "code",
   "execution_count": 8,
   "metadata": {},
   "outputs": [],
   "source": [
    "# keep best weight\n",
    "#best_weight"
   ]
  },
  {
   "cell_type": "code",
   "execution_count": 9,
   "metadata": {},
   "outputs": [],
   "source": [
    "weight_aux = 0.8"
   ]
  },
  {
   "cell_type": "code",
   "execution_count": 10,
   "metadata": {},
   "outputs": [],
   "source": [
    "train_losses = []\n",
    "train_accuracies = []\n",
    "validation_accuracies = []\n",
    "test_accuracies = []"
   ]
  },
  {
   "cell_type": "code",
   "execution_count": 11,
   "metadata": {},
   "outputs": [
    {
     "name": "stdout",
     "output_type": "stream",
     "text": [
      "# Epoch 1/25:\t loss=3.64\t loss_val=0.58\t acc_val=66.52\n",
      "# Epoch 2/25:\t loss=1.82\t loss_val=0.46\t acc_val=80.36\n",
      "# Epoch 3/25:\t loss=1.14\t loss_val=0.39\t acc_val=81.25\n",
      "# Epoch 4/25:\t loss=0.89\t loss_val=0.35\t acc_val=83.48\n",
      "# Epoch 5/25:\t loss=0.76\t loss_val=0.34\t acc_val=85.71\n",
      "# Epoch 6/25:\t loss=0.6\t loss_val=0.32\t acc_val=87.5\n",
      "# Epoch 7/25:\t loss=0.53\t loss_val=0.31\t acc_val=87.05\n",
      "# Epoch 8/25:\t loss=0.45\t loss_val=0.32\t acc_val=85.27\n",
      "# Epoch 9/25:\t loss=0.4\t loss_val=0.31\t acc_val=85.27\n",
      "# Epoch 10/25:\t loss=0.39\t loss_val=0.31\t acc_val=86.16\n",
      "# Epoch 11/25:\t loss=0.32\t loss_val=0.3\t acc_val=84.82\n",
      "# Epoch 12/25:\t loss=0.26\t loss_val=0.3\t acc_val=86.61\n",
      "# Epoch 13/25:\t loss=0.21\t loss_val=0.33\t acc_val=83.93\n",
      "# Epoch 14/25:\t loss=0.18\t loss_val=0.3\t acc_val=85.71\n",
      "# Epoch 15/25:\t loss=0.14\t loss_val=0.33\t acc_val=85.71\n",
      "# Epoch 16/25:\t loss=0.13\t loss_val=0.35\t acc_val=87.05\n",
      "# Epoch 17/25:\t loss=0.09\t loss_val=0.34\t acc_val=86.61\n",
      "# Epoch 18/25:\t loss=0.11\t loss_val=0.38\t acc_val=87.05\n",
      "# Epoch 19/25:\t loss=0.08\t loss_val=0.34\t acc_val=87.05\n",
      "# Epoch 20/25:\t loss=0.05\t loss_val=0.38\t acc_val=87.05\n",
      "# Epoch 21/25:\t loss=0.04\t loss_val=0.37\t acc_val=87.5\n",
      "# Epoch 22/25:\t loss=0.03\t loss_val=0.39\t acc_val=87.5\n",
      "# Epoch 23/25:\t loss=0.02\t loss_val=0.4\t acc_val=87.5\n",
      "# Epoch 24/25:\t loss=0.02\t loss_val=0.42\t acc_val=87.5\n",
      "# Epoch 25/25:\t loss=0.02\t loss_val=0.43\t acc_val=87.5\n",
      "loss_test=0.5\t acc_test=86.82\n",
      "# Epoch 1/25:\t loss=0.06\t loss_val=0.45\t acc_val=87.05\n",
      "# Epoch 2/25:\t loss=0.04\t loss_val=0.46\t acc_val=87.5\n",
      "# Epoch 3/25:\t loss=0.02\t loss_val=0.5\t acc_val=85.27\n",
      "# Epoch 4/25:\t loss=0.02\t loss_val=0.48\t acc_val=86.16\n",
      "# Epoch 5/25:\t loss=0.01\t loss_val=0.49\t acc_val=87.5\n",
      "# Epoch 6/25:\t loss=0.01\t loss_val=0.55\t acc_val=86.16\n",
      "# Epoch 7/25:\t loss=0.0\t loss_val=0.53\t acc_val=86.61\n",
      "# Epoch 8/25:\t loss=0.0\t loss_val=0.53\t acc_val=86.61\n",
      "# Epoch 9/25:\t loss=0.0\t loss_val=0.55\t acc_val=86.61\n",
      "# Epoch 10/25:\t loss=0.0\t loss_val=0.57\t acc_val=86.61\n",
      "# Epoch 11/25:\t loss=0.0\t loss_val=0.56\t acc_val=86.61\n",
      "# Epoch 12/25:\t loss=0.0\t loss_val=0.57\t acc_val=86.61\n",
      "# Epoch 13/25:\t loss=0.0\t loss_val=0.58\t acc_val=86.61\n",
      "# Epoch 14/25:\t loss=0.0\t loss_val=0.59\t acc_val=86.61\n",
      "# Epoch 15/25:\t loss=0.0\t loss_val=0.6\t acc_val=86.61\n",
      "# Epoch 16/25:\t loss=0.0\t loss_val=0.6\t acc_val=86.61\n",
      "# Epoch 17/25:\t loss=0.0\t loss_val=0.61\t acc_val=86.61\n",
      "# Epoch 18/25:\t loss=0.0\t loss_val=0.62\t acc_val=86.61\n",
      "# Epoch 19/25:\t loss=0.0\t loss_val=0.63\t acc_val=86.61\n",
      "# Epoch 20/25:\t loss=0.0\t loss_val=0.62\t acc_val=86.61\n",
      "# Epoch 21/25:\t loss=0.0\t loss_val=0.63\t acc_val=86.61\n",
      "# Epoch 22/25:\t loss=0.0\t loss_val=0.63\t acc_val=86.61\n",
      "# Epoch 23/25:\t loss=0.0\t loss_val=0.64\t acc_val=86.61\n",
      "# Epoch 24/25:\t loss=0.0\t loss_val=0.64\t acc_val=86.61\n",
      "# Epoch 25/25:\t loss=0.0\t loss_val=0.65\t acc_val=86.61\n",
      "loss_test=0.8\t acc_test=87.11\n",
      "# Epoch 1/25:\t loss=0.02\t loss_val=0.71\t acc_val=87.05\n",
      "# Epoch 2/25:\t loss=0.03\t loss_val=0.71\t acc_val=85.71\n",
      "# Epoch 3/25:\t loss=0.02\t loss_val=0.73\t acc_val=83.93\n",
      "# Epoch 4/25:\t loss=0.02\t loss_val=0.79\t acc_val=85.27\n",
      "# Epoch 5/25:\t loss=0.05\t loss_val=0.79\t acc_val=85.27\n",
      "# Epoch 6/25:\t loss=0.04\t loss_val=0.62\t acc_val=88.84\n",
      "# Epoch 7/25:\t loss=0.02\t loss_val=0.7\t acc_val=87.05\n",
      "# Epoch 8/25:\t loss=0.02\t loss_val=0.61\t acc_val=87.05\n",
      "# Epoch 9/25:\t loss=0.0\t loss_val=0.62\t acc_val=86.61\n",
      "# Epoch 10/25:\t loss=0.0\t loss_val=0.62\t acc_val=87.05\n",
      "# Epoch 11/25:\t loss=0.0\t loss_val=0.63\t acc_val=87.5\n",
      "# Epoch 12/25:\t loss=0.0\t loss_val=0.64\t acc_val=87.05\n",
      "# Epoch 13/25:\t loss=0.0\t loss_val=0.65\t acc_val=87.5\n",
      "# Epoch 14/25:\t loss=0.0\t loss_val=0.65\t acc_val=86.61\n",
      "# Epoch 15/25:\t loss=0.0\t loss_val=0.66\t acc_val=87.05\n",
      "# Epoch 16/25:\t loss=0.0\t loss_val=0.66\t acc_val=86.61\n",
      "# Epoch 17/25:\t loss=0.0\t loss_val=0.67\t acc_val=87.05\n",
      "# Epoch 18/25:\t loss=0.0\t loss_val=0.67\t acc_val=87.05\n",
      "# Epoch 19/25:\t loss=0.0\t loss_val=0.68\t acc_val=87.05\n",
      "# Epoch 20/25:\t loss=0.0\t loss_val=0.68\t acc_val=87.05\n",
      "# Epoch 21/25:\t loss=0.0\t loss_val=0.68\t acc_val=87.05\n",
      "# Epoch 22/25:\t loss=0.0\t loss_val=0.69\t acc_val=87.05\n",
      "# Epoch 23/25:\t loss=0.0\t loss_val=0.69\t acc_val=87.05\n",
      "# Epoch 24/25:\t loss=0.0\t loss_val=0.69\t acc_val=87.05\n",
      "# Epoch 25/25:\t loss=0.0\t loss_val=0.7\t acc_val=87.05\n",
      "loss_test=0.88\t acc_test=87.11\n",
      "# Epoch 1/25:\t loss=0.02\t loss_val=0.88\t acc_val=87.5\n",
      "# Epoch 2/25:\t loss=0.05\t loss_val=0.81\t acc_val=88.84\n",
      "# Epoch 3/25:\t loss=0.05\t loss_val=0.78\t acc_val=86.16\n",
      "# Epoch 4/25:\t loss=0.04\t loss_val=0.72\t acc_val=85.27\n",
      "# Epoch 5/25:\t loss=0.02\t loss_val=0.69\t acc_val=84.82\n",
      "# Epoch 6/25:\t loss=0.01\t loss_val=0.75\t acc_val=84.38\n",
      "# Epoch 7/25:\t loss=0.0\t loss_val=0.73\t acc_val=85.27\n",
      "# Epoch 8/25:\t loss=0.0\t loss_val=0.73\t acc_val=84.82\n",
      "# Epoch 9/25:\t loss=0.0\t loss_val=0.73\t acc_val=84.82\n",
      "# Epoch 10/25:\t loss=0.0\t loss_val=0.72\t acc_val=84.82\n",
      "# Epoch 11/25:\t loss=0.0\t loss_val=0.72\t acc_val=84.82\n",
      "# Epoch 12/25:\t loss=0.0\t loss_val=0.72\t acc_val=84.82\n",
      "# Epoch 13/25:\t loss=0.0\t loss_val=0.72\t acc_val=84.82\n",
      "# Epoch 14/25:\t loss=0.0\t loss_val=0.72\t acc_val=84.82\n",
      "# Epoch 15/25:\t loss=0.0\t loss_val=0.72\t acc_val=84.82\n",
      "# Epoch 16/25:\t loss=0.0\t loss_val=0.73\t acc_val=84.82\n",
      "# Epoch 17/25:\t loss=0.0\t loss_val=0.73\t acc_val=84.82\n",
      "# Epoch 18/25:\t loss=0.0\t loss_val=0.73\t acc_val=84.82\n",
      "# Epoch 19/25:\t loss=0.0\t loss_val=0.73\t acc_val=84.82\n",
      "# Epoch 20/25:\t loss=0.0\t loss_val=0.73\t acc_val=84.82\n",
      "# Epoch 21/25:\t loss=0.0\t loss_val=0.73\t acc_val=84.82\n",
      "# Epoch 22/25:\t loss=0.0\t loss_val=0.73\t acc_val=84.82\n",
      "# Epoch 23/25:\t loss=0.0\t loss_val=0.73\t acc_val=84.82\n",
      "# Epoch 24/25:\t loss=0.0\t loss_val=0.73\t acc_val=85.27\n",
      "# Epoch 25/25:\t loss=0.0\t loss_val=0.73\t acc_val=85.27\n",
      "loss_test=0.95\t acc_test=87.01\n",
      "# Epoch 1/25:\t loss=0.03\t loss_val=0.78\t acc_val=85.71\n",
      "# Epoch 2/25:\t loss=0.01\t loss_val=0.72\t acc_val=87.5\n",
      "# Epoch 3/25:\t loss=0.0\t loss_val=0.72\t acc_val=87.05\n",
      "# Epoch 4/25:\t loss=0.0\t loss_val=0.72\t acc_val=87.05\n",
      "# Epoch 5/25:\t loss=0.0\t loss_val=0.73\t acc_val=87.05\n",
      "# Epoch 6/25:\t loss=0.0\t loss_val=0.75\t acc_val=87.05\n",
      "# Epoch 7/25:\t loss=0.0\t loss_val=0.75\t acc_val=87.05\n",
      "# Epoch 8/25:\t loss=0.0\t loss_val=0.75\t acc_val=87.05\n",
      "# Epoch 9/25:\t loss=0.0\t loss_val=0.75\t acc_val=87.05\n",
      "# Epoch 10/25:\t loss=0.0\t loss_val=0.76\t acc_val=87.05\n",
      "# Epoch 11/25:\t loss=0.0\t loss_val=0.76\t acc_val=87.05\n",
      "# Epoch 12/25:\t loss=0.0\t loss_val=0.77\t acc_val=87.05\n",
      "# Epoch 13/25:\t loss=0.0\t loss_val=0.77\t acc_val=86.61\n",
      "# Epoch 14/25:\t loss=0.0\t loss_val=0.77\t acc_val=86.61\n",
      "# Epoch 15/25:\t loss=0.0\t loss_val=0.78\t acc_val=86.61\n",
      "# Epoch 16/25:\t loss=0.0\t loss_val=0.78\t acc_val=86.61\n",
      "# Epoch 17/25:\t loss=0.0\t loss_val=0.78\t acc_val=86.61\n",
      "# Epoch 18/25:\t loss=0.0\t loss_val=0.79\t acc_val=86.61\n",
      "# Epoch 19/25:\t loss=0.0\t loss_val=0.79\t acc_val=86.61\n",
      "# Epoch 20/25:\t loss=0.0\t loss_val=0.79\t acc_val=86.61\n",
      "# Epoch 21/25:\t loss=0.0\t loss_val=0.8\t acc_val=86.61\n",
      "# Epoch 22/25:\t loss=0.0\t loss_val=0.8\t acc_val=86.61\n",
      "# Epoch 23/25:\t loss=0.0\t loss_val=0.8\t acc_val=86.16\n",
      "# Epoch 24/25:\t loss=0.0\t loss_val=0.81\t acc_val=86.16\n",
      "# Epoch 25/25:\t loss=0.0\t loss_val=0.81\t acc_val=85.71\n",
      "loss_test=1.09\t acc_test=87.01\n",
      "# Epoch 1/25:\t loss=0.03\t loss_val=0.89\t acc_val=86.61\n",
      "# Epoch 2/25:\t loss=0.02\t loss_val=0.96\t acc_val=87.5\n",
      "# Epoch 3/25:\t loss=0.01\t loss_val=0.81\t acc_val=87.5\n",
      "# Epoch 4/25:\t loss=0.0\t loss_val=1.01\t acc_val=84.82\n",
      "# Epoch 5/25:\t loss=0.0\t loss_val=1.01\t acc_val=85.71\n",
      "# Epoch 6/25:\t loss=0.0\t loss_val=0.98\t acc_val=85.71\n",
      "# Epoch 7/25:\t loss=0.0\t loss_val=0.98\t acc_val=85.71\n",
      "# Epoch 8/25:\t loss=0.0\t loss_val=0.98\t acc_val=85.71\n",
      "# Epoch 9/25:\t loss=0.0\t loss_val=0.98\t acc_val=85.71\n",
      "# Epoch 10/25:\t loss=0.0\t loss_val=0.97\t acc_val=85.71\n",
      "# Epoch 11/25:\t loss=0.0\t loss_val=0.97\t acc_val=85.71\n",
      "# Epoch 12/25:\t loss=0.0\t loss_val=0.97\t acc_val=85.71\n",
      "# Epoch 13/25:\t loss=0.0\t loss_val=0.97\t acc_val=85.71\n",
      "# Epoch 14/25:\t loss=0.0\t loss_val=0.97\t acc_val=85.27\n",
      "# Epoch 15/25:\t loss=0.0\t loss_val=0.97\t acc_val=85.71\n",
      "# Epoch 16/25:\t loss=0.0\t loss_val=0.97\t acc_val=85.71\n",
      "# Epoch 17/25:\t loss=0.0\t loss_val=0.97\t acc_val=85.71\n",
      "# Epoch 18/25:\t loss=0.0\t loss_val=0.97\t acc_val=85.71\n",
      "# Epoch 19/25:\t loss=0.0\t loss_val=0.96\t acc_val=85.71\n",
      "# Epoch 20/25:\t loss=0.0\t loss_val=0.96\t acc_val=85.71\n",
      "# Epoch 21/25:\t loss=0.0\t loss_val=0.96\t acc_val=85.71\n",
      "# Epoch 22/25:\t loss=0.0\t loss_val=0.97\t acc_val=85.71\n"
     ]
    },
    {
     "name": "stdout",
     "output_type": "stream",
     "text": [
      "# Epoch 23/25:\t loss=0.0\t loss_val=0.97\t acc_val=85.71\n",
      "# Epoch 24/25:\t loss=0.0\t loss_val=0.96\t acc_val=85.71\n",
      "# Epoch 25/25:\t loss=0.0\t loss_val=0.96\t acc_val=85.71\n",
      "loss_test=1.1\t acc_test=87.6\n",
      "# Epoch 1/25:\t loss=0.01\t loss_val=0.81\t acc_val=87.05\n",
      "# Epoch 2/25:\t loss=0.01\t loss_val=0.78\t acc_val=85.71\n",
      "# Epoch 3/25:\t loss=0.0\t loss_val=0.84\t acc_val=87.05\n",
      "# Epoch 4/25:\t loss=0.0\t loss_val=0.89\t acc_val=87.5\n",
      "# Epoch 5/25:\t loss=0.0\t loss_val=0.88\t acc_val=87.95\n",
      "# Epoch 6/25:\t loss=0.0\t loss_val=0.88\t acc_val=87.95\n",
      "# Epoch 7/25:\t loss=0.0\t loss_val=0.88\t acc_val=87.95\n",
      "# Epoch 8/25:\t loss=0.0\t loss_val=0.88\t acc_val=87.95\n",
      "# Epoch 9/25:\t loss=0.0\t loss_val=0.88\t acc_val=87.95\n",
      "# Epoch 10/25:\t loss=0.0\t loss_val=0.88\t acc_val=87.95\n",
      "# Epoch 11/25:\t loss=0.0\t loss_val=0.88\t acc_val=87.95\n",
      "# Epoch 12/25:\t loss=0.0\t loss_val=0.88\t acc_val=87.95\n",
      "# Epoch 13/25:\t loss=0.0\t loss_val=0.88\t acc_val=87.95\n",
      "# Epoch 14/25:\t loss=0.0\t loss_val=0.88\t acc_val=87.95\n",
      "# Epoch 15/25:\t loss=0.0\t loss_val=0.88\t acc_val=87.95\n",
      "# Epoch 16/25:\t loss=0.0\t loss_val=0.88\t acc_val=87.95\n",
      "# Epoch 17/25:\t loss=0.0\t loss_val=0.88\t acc_val=87.95\n",
      "# Epoch 18/25:\t loss=0.0\t loss_val=0.88\t acc_val=87.95\n",
      "# Epoch 19/25:\t loss=0.0\t loss_val=0.88\t acc_val=87.95\n",
      "# Epoch 20/25:\t loss=0.0\t loss_val=0.88\t acc_val=87.95\n",
      "# Epoch 21/25:\t loss=0.0\t loss_val=0.88\t acc_val=87.95\n",
      "# Epoch 22/25:\t loss=0.0\t loss_val=0.89\t acc_val=87.95\n",
      "# Epoch 23/25:\t loss=0.0\t loss_val=0.89\t acc_val=87.95\n",
      "# Epoch 24/25:\t loss=0.0\t loss_val=0.89\t acc_val=87.95\n",
      "# Epoch 25/25:\t loss=0.0\t loss_val=0.89\t acc_val=88.39\n",
      "loss_test=1.15\t acc_test=87.11\n",
      "# Epoch 1/25:\t loss=0.01\t loss_val=0.96\t acc_val=85.27\n",
      "# Epoch 2/25:\t loss=0.01\t loss_val=1.03\t acc_val=87.05\n",
      "# Epoch 3/25:\t loss=0.03\t loss_val=1.35\t acc_val=83.93\n",
      "# Epoch 4/25:\t loss=0.07\t loss_val=1.13\t acc_val=83.48\n",
      "# Epoch 5/25:\t loss=0.05\t loss_val=1.07\t acc_val=86.16\n",
      "# Epoch 6/25:\t loss=0.02\t loss_val=1.21\t acc_val=86.16\n",
      "# Epoch 7/25:\t loss=0.02\t loss_val=0.85\t acc_val=89.29\n",
      "# Epoch 8/25:\t loss=0.0\t loss_val=1.07\t acc_val=84.82\n",
      "# Epoch 9/25:\t loss=0.0\t loss_val=1.01\t acc_val=84.38\n",
      "# Epoch 10/25:\t loss=0.0\t loss_val=0.99\t acc_val=85.27\n",
      "# Epoch 11/25:\t loss=0.0\t loss_val=0.98\t acc_val=85.27\n",
      "# Epoch 12/25:\t loss=0.0\t loss_val=0.97\t acc_val=85.27\n",
      "# Epoch 13/25:\t loss=0.0\t loss_val=0.97\t acc_val=85.27\n",
      "# Epoch 14/25:\t loss=0.0\t loss_val=0.97\t acc_val=85.27\n",
      "# Epoch 15/25:\t loss=0.0\t loss_val=0.96\t acc_val=85.27\n",
      "# Epoch 16/25:\t loss=0.0\t loss_val=0.96\t acc_val=85.27\n",
      "# Epoch 17/25:\t loss=0.0\t loss_val=0.96\t acc_val=85.27\n",
      "# Epoch 18/25:\t loss=0.0\t loss_val=0.96\t acc_val=85.27\n",
      "# Epoch 19/25:\t loss=0.0\t loss_val=0.96\t acc_val=85.27\n",
      "# Epoch 20/25:\t loss=0.0\t loss_val=0.95\t acc_val=85.27\n",
      "# Epoch 21/25:\t loss=0.0\t loss_val=0.95\t acc_val=85.27\n",
      "# Epoch 22/25:\t loss=0.0\t loss_val=0.95\t acc_val=85.27\n",
      "# Epoch 23/25:\t loss=0.0\t loss_val=0.95\t acc_val=85.71\n",
      "# Epoch 24/25:\t loss=0.0\t loss_val=0.95\t acc_val=85.71\n",
      "# Epoch 25/25:\t loss=0.0\t loss_val=0.95\t acc_val=85.71\n",
      "loss_test=1.09\t acc_test=87.01\n",
      "# Epoch 1/25:\t loss=0.01\t loss_val=1.09\t acc_val=87.05\n",
      "# Epoch 2/25:\t loss=0.0\t loss_val=1.04\t acc_val=84.82\n",
      "# Epoch 3/25:\t loss=0.0\t loss_val=1.0\t acc_val=84.82\n",
      "# Epoch 4/25:\t loss=0.0\t loss_val=1.08\t acc_val=85.71\n",
      "# Epoch 5/25:\t loss=0.0\t loss_val=1.09\t acc_val=85.71\n",
      "# Epoch 6/25:\t loss=0.0\t loss_val=1.07\t acc_val=85.71\n",
      "# Epoch 7/25:\t loss=0.0\t loss_val=1.06\t acc_val=85.71\n",
      "# Epoch 8/25:\t loss=0.0\t loss_val=1.06\t acc_val=85.71\n",
      "# Epoch 9/25:\t loss=0.0\t loss_val=1.06\t acc_val=85.71\n",
      "# Epoch 10/25:\t loss=0.0\t loss_val=1.05\t acc_val=85.71\n",
      "# Epoch 11/25:\t loss=0.0\t loss_val=1.05\t acc_val=85.71\n",
      "# Epoch 12/25:\t loss=0.0\t loss_val=1.05\t acc_val=85.71\n",
      "# Epoch 13/25:\t loss=0.0\t loss_val=1.05\t acc_val=85.71\n",
      "# Epoch 14/25:\t loss=0.0\t loss_val=1.04\t acc_val=85.27\n",
      "# Epoch 15/25:\t loss=0.0\t loss_val=1.04\t acc_val=85.27\n",
      "# Epoch 16/25:\t loss=0.0\t loss_val=1.04\t acc_val=85.27\n",
      "# Epoch 17/25:\t loss=0.0\t loss_val=1.04\t acc_val=85.27\n",
      "# Epoch 18/25:\t loss=0.0\t loss_val=1.04\t acc_val=85.27\n",
      "# Epoch 19/25:\t loss=0.0\t loss_val=1.04\t acc_val=85.27\n",
      "# Epoch 20/25:\t loss=0.0\t loss_val=1.04\t acc_val=85.27\n",
      "# Epoch 21/25:\t loss=0.0\t loss_val=1.04\t acc_val=85.27\n",
      "# Epoch 22/25:\t loss=0.0\t loss_val=1.04\t acc_val=85.27\n",
      "# Epoch 23/25:\t loss=0.0\t loss_val=1.04\t acc_val=85.27\n",
      "# Epoch 24/25:\t loss=0.0\t loss_val=1.04\t acc_val=85.27\n",
      "# Epoch 25/25:\t loss=0.0\t loss_val=1.04\t acc_val=85.27\n",
      "loss_test=1.24\t acc_test=86.91\n",
      "# Epoch 1/25:\t loss=0.01\t loss_val=0.95\t acc_val=89.73\n",
      "# Epoch 2/25:\t loss=0.04\t loss_val=0.92\t acc_val=87.95\n",
      "# Epoch 3/25:\t loss=0.01\t loss_val=1.17\t acc_val=86.61\n",
      "# Epoch 4/25:\t loss=0.01\t loss_val=1.07\t acc_val=87.05\n",
      "# Epoch 5/25:\t loss=0.02\t loss_val=1.28\t acc_val=86.61\n",
      "# Epoch 6/25:\t loss=0.01\t loss_val=1.26\t acc_val=88.84\n",
      "# Epoch 7/25:\t loss=0.02\t loss_val=1.37\t acc_val=87.05\n",
      "# Epoch 8/25:\t loss=0.02\t loss_val=1.03\t acc_val=88.39\n",
      "# Epoch 9/25:\t loss=0.01\t loss_val=1.12\t acc_val=88.39\n",
      "# Epoch 10/25:\t loss=0.0\t loss_val=1.07\t acc_val=86.61\n",
      "# Epoch 11/25:\t loss=0.01\t loss_val=0.97\t acc_val=86.16\n",
      "# Epoch 12/25:\t loss=0.06\t loss_val=1.5\t acc_val=84.38\n",
      "# Epoch 13/25:\t loss=0.05\t loss_val=1.3\t acc_val=85.71\n",
      "# Epoch 14/25:\t loss=0.07\t loss_val=1.25\t acc_val=85.71\n",
      "# Epoch 15/25:\t loss=0.02\t loss_val=1.22\t acc_val=87.05\n",
      "# Epoch 16/25:\t loss=0.01\t loss_val=1.12\t acc_val=85.27\n",
      "# Epoch 17/25:\t loss=0.0\t loss_val=1.03\t acc_val=85.27\n",
      "# Epoch 18/25:\t loss=0.0\t loss_val=1.03\t acc_val=85.27\n",
      "# Epoch 19/25:\t loss=0.0\t loss_val=1.03\t acc_val=84.82\n",
      "# Epoch 20/25:\t loss=0.0\t loss_val=1.03\t acc_val=84.38\n",
      "# Epoch 21/25:\t loss=0.0\t loss_val=1.04\t acc_val=84.38\n",
      "# Epoch 22/25:\t loss=0.0\t loss_val=1.04\t acc_val=84.38\n",
      "# Epoch 23/25:\t loss=0.0\t loss_val=1.04\t acc_val=84.38\n",
      "# Epoch 24/25:\t loss=0.0\t loss_val=1.05\t acc_val=84.38\n",
      "# Epoch 25/25:\t loss=0.0\t loss_val=1.05\t acc_val=84.38\n",
      "loss_test=1.21\t acc_test=87.4\n"
     ]
    }
   ],
   "source": [
    "for i in range(n_cv):\n",
    "    siamese_le_net = Siamese(le_net, \n",
    "                                     softmax=False,\n",
    "                                     target=tail_net, \n",
    "                                     weight_aux=weight_aux)\n",
    "    trainer = Trainer(nb_epochs=nb_epochs)\n",
    "    loss_train, acc_train, acc_val = trainer.fit(siamese_le_net, dl_train_all, dl_val_all, verbose=True)\n",
    "    train_losses.append(loss_train)\n",
    "    train_accuracies.append(acc_train)\n",
    "    validation_accuracies.append(acc_val)\n",
    "    acc_test = trainer.test(siamese_le_net, dl_test_all, test_verbose=True, return_acc=True)\n",
    "    test_accuracies.append(acc_test)"
   ]
  },
  {
   "cell_type": "code",
   "execution_count": 12,
   "metadata": {},
   "outputs": [],
   "source": [
    "import numpy as np \n",
    "train_losses = np.mean(np.array(train_losses), axis=0)\n",
    "train_accuracies = np.mean(np.array(train_accuracies), axis=0)\n",
    "validation_accuracies = np.mean(np.array(validation_accuracies), axis=0)\n"
   ]
  },
  {
   "cell_type": "code",
   "execution_count": 13,
   "metadata": {},
   "outputs": [
    {
     "data": {
      "image/png": "[encoded data removed]",
      "text/plain": [
       "<Figure size 432x288 with 2 Axes>"
      ]
     },
     "metadata": {
      "needs_background": "light"
     },
     "output_type": "display_data"
    }
   ],
   "source": [
    "from src.utils import plot_training_epochs \n",
    "plt = plot_training_epochs(nb_epochs, train_losses, train_accuracies,\n",
    "                          validation_accuracies)"
   ]
  },
  {
   "cell_type": "code",
   "execution_count": 14,
   "metadata": {},
   "outputs": [
    {
     "name": "stdout",
     "output_type": "stream",
     "text": [
      "avg test acc 87.109\n",
      "stdev test acc 0.21869842249088126\n"
     ]
    }
   ],
   "source": [
    "avg_test_acc = np.mean(test_accuracies)\n",
    "print('avg test acc', avg_test_acc)\n",
    "stdev_test_acc = np.std(test_accuracies)\n",
    "print('stdev test acc', stdev_test_acc)"
   ]
  },
  {
   "cell_type": "code",
   "execution_count": null,
   "metadata": {},
   "outputs": [],
   "source": []
  },
  {
   "cell_type": "code",
   "execution_count": null,
   "metadata": {},
   "outputs": [],
   "source": []
  }
 ],
 "metadata": {
  "kernelspec": {
   "display_name": "Python 3",
   "language": "python",
   "name": "python3"
  },
  "language_info": {
   "codemirror_mode": {
    "name": "ipython",
    "version": 3
   },
   "file_extension": ".py",
   "mimetype": "text/x-python",
   "name": "python",
   "nbconvert_exporter": "python",
   "pygments_lexer": "ipython3",
   "version": "3.8.3"
  }
 },
 "nbformat": 4,
 "nbformat_minor": 2
}
