{
 "cells": [
  {
   "cell_type": "code",
   "execution_count": 1,
   "metadata": {},
   "outputs": [],
   "source": [
    "import matplotlib.pyplot as plt "
   ]
  },
  {
   "cell_type": "code",
   "execution_count": 2,
   "metadata": {},
   "outputs": [],
   "source": [
    "import torch\n",
    "from torch import nn \n",
    "from torch.nn import functional as F\n",
    "from torch import optim"
   ]
  },
  {
   "cell_type": "code",
   "execution_count": 3,
   "metadata": {},
   "outputs": [],
   "source": [
    "from dlc_practical_prologue import generate_pair_sets"
   ]
  },
  {
   "cell_type": "markdown",
   "metadata": {},
   "source": [
    "# Data\n",
    "1,000 train and test pair sets"
   ]
  },
  {
   "cell_type": "code",
   "execution_count": 4,
   "metadata": {},
   "outputs": [],
   "source": [
    "tr_inp, tr_bool, tr_digits, te_inp, te_bool, te_digits = generate_pair_sets(1000)"
   ]
  },
  {
   "cell_type": "markdown",
   "metadata": {},
   "source": [
    "`tr_bool` is a 0 or 1 where 1 indicates that the <b>first</b> image is lesser or equal to the second.\n",
    "`tr_digits` are tuples of the digits of the two images."
   ]
  },
  {
   "cell_type": "code",
   "execution_count": 5,
   "metadata": {},
   "outputs": [],
   "source": [
    "def normalize(tr_inp, te_inp):\n",
    "    mean = torch.mean(tr_inp)\n",
    "    std = torch.std(tr_inp)\n",
    "    tr_inp -= mean \n",
    "    tr_inp /= mean \n",
    "    te_inp -= mean \n",
    "    te_inp /= mean \n",
    "    return tr_inp, te_inp "
   ]
  },
  {
   "cell_type": "code",
   "execution_count": 6,
   "metadata": {},
   "outputs": [],
   "source": [
    "# normalise data \n",
    "tr_inp, te_inp = normalize(tr_inp, te_inp)"
   ]
  },
  {
   "cell_type": "code",
   "execution_count": 7,
   "metadata": {},
   "outputs": [
    {
     "data": {
      "text/plain": [
       "tensor(-1.7439e-08)"
      ]
     },
     "execution_count": 7,
     "metadata": {},
     "output_type": "execute_result"
    }
   ],
   "source": [
    "torch.mean(tr_inp)"
   ]
  },
  {
   "cell_type": "code",
   "execution_count": 8,
   "metadata": {},
   "outputs": [
    {
     "data": {
      "text/plain": [
       "tensor([443, 557])"
      ]
     },
     "execution_count": 8,
     "metadata": {},
     "output_type": "execute_result"
    }
   ],
   "source": [
    "torch.bincount(tr_bool)"
   ]
  },
  {
   "cell_type": "code",
   "execution_count": 9,
   "metadata": {},
   "outputs": [],
   "source": [
    "# maybe fix class imbalance "
   ]
  },
  {
   "cell_type": "markdown",
   "metadata": {},
   "source": [
    "## Visualise data"
   ]
  },
  {
   "cell_type": "code",
   "execution_count": 10,
   "metadata": {},
   "outputs": [
    {
     "data": {
      "image/png": "[encoded data removed]",
      "text/plain": [
       "<Figure size 432x288 with 2 Axes>"
      ]
     },
     "metadata": {
      "needs_background": "light"
     },
     "output_type": "display_data"
    }
   ],
   "source": [
    "fig, axes = plt.subplots(nrows=1, ncols=2)\n",
    "fig.suptitle(\"Example pair of images with target label {}\".format(tr_bool[0]))\n",
    "\n",
    "for i in range(2):\n",
    "    axes[i].imshow(tr_inp[0][i], cmap=\"gray\")\n",
    "    axes[i].set_axis_off()\n",
    "    axes[i].set_title('class label {}'.format(tr_digits[0][i]))\n",
    "\n",
    "plt.show()"
   ]
  },
  {
   "cell_type": "markdown",
   "metadata": {},
   "source": [
    "# Models\n",
    "Remember for the models below all accuracies need to be 10-fold validated.\n",
    "\n",
    "\n",
    "## Baseline LeNet"
   ]
  },
  {
   "cell_type": "code",
   "execution_count": 11,
   "metadata": {},
   "outputs": [],
   "source": [
    "# can try diff activation functions but for now using relu "
   ]
  },
  {
   "cell_type": "code",
   "execution_count": 12,
   "metadata": {},
   "outputs": [],
   "source": [
    "# also try dropout layers"
   ]
  },
  {
   "cell_type": "code",
   "execution_count": 13,
   "metadata": {},
   "outputs": [],
   "source": [
    "class BaseNet(nn.Module):\n",
    "    def __init__(self, inp_channels=2, out_channels=2, n_hidden=50):\n",
    "        super().__init__()\n",
    "        self.conv1 = nn.Conv2d(inp_channels, 32, kernel_size=5)\n",
    "        self.pool1 = nn.MaxPool2d(kernel_size=3, stride=3)\n",
    "        self.conv2 = nn.Conv2d(32, 64, kernel_size=3)\n",
    "        self.dropout = nn.Dropout(p=0.25)\n",
    "       # self.pool2 = nn.MaxPool2d(kernel_size=2, stride=2)\n",
    "        self.fc1 = nn.Linear(64, n_hidden)\n",
    "        self.fc2 = nn.Linear(n_hidden, out_channels)\n",
    "\n",
    "    def forward(self, x):\n",
    "        # CONV LAYER 1\n",
    "        x = F.relu(self.pool1(self.conv1(x)))\n",
    "\n",
    "        # CONV LAYER 2\n",
    "        x = F.relu(self.conv2(x))\n",
    "      #  x = F.relu(self.pool2(x))\n",
    "\n",
    "        # RESHAPE \n",
    "        x = x.view(x.size(0), -1)\n",
    "       # print('shape after reshaping', x.shape)\n",
    "\n",
    "        # FC 1\n",
    "        x = F.relu(self.fc1(x))\n",
    "\n",
    "       # x = self.dropout(x)\n",
    "        # FC2\n",
    "        x = self.fc2(x)\n",
    "      #  print('shape after fc2', x.shape)\n",
    "        return x"
   ]
  },
  {
   "cell_type": "code",
   "execution_count": 14,
   "metadata": {},
   "outputs": [],
   "source": [
    "def train_model(model, criterion, tr_inp, tr_target, mini_batch_size, \n",
    "                optimizer, nb_epochs, verbose=False): \n",
    "    losses = torch.zeros(nb_epochs) \n",
    "    train_accuracy = torch.zeros(nb_epochs) \n",
    "    \n",
    "    for i in range(nb_epochs):\n",
    "        loss_epoch = 0 \n",
    "        correct_epoch = 0 \n",
    "\n",
    "        for b in range(0, tr_inp.size(0), mini_batch_size):\n",
    "            tr_inp_chunk = tr_inp.narrow(0, b, mini_batch_size) \n",
    "            tr_target_chunk = tr_target.narrow(0, b, mini_batch_size) \n",
    "            output = model(tr_inp_chunk) \n",
    "            loss = criterion(output, tr_target_chunk)\n",
    "            loss_epoch += loss.item()\n",
    "\n",
    "            label = torch.argmax(output, dim=1)\n",
    "            true_label = tr_target_chunk \n",
    "            correct_epoch += (label == true_label).sum().item()\n",
    "\n",
    "            model.zero_grad()\n",
    "            loss.backward()\n",
    "            optimizer.step()\n",
    "\n",
    "        train_accuracy_i = correct_epoch / tr_target.size(0)\n",
    "        train_accuracy[i] = train_accuracy_i\n",
    "        losses[i] = loss_epoch \n",
    "\n",
    "        if verbose: \n",
    "            print('epoch', e) \n",
    "            print('loss', loss_epoch)\n",
    "            print('train accuracy', train_accuracy_i)\n",
    "\n",
    "    return model, losses, train_accuracy"
   ]
  },
  {
   "cell_type": "code",
   "execution_count": 15,
   "metadata": {},
   "outputs": [],
   "source": [
    "def compute_class_accuracy(model, te_inp, te_target, mini_batch_size):\n",
    "    incorrect = 0 \n",
    "\n",
    "    for b in range(0, te_inp.size(0), mini_batch_size):\n",
    "        pred = model(te_inp.narrow(0, b, mini_batch_size))\n",
    "        label = torch.argmax(pred, dim=1)\n",
    "\n",
    "        true_label = te_target.narrow(0, b, mini_batch_size)\n",
    "\n",
    "        incorrect += torch.count_nonzero(true_label - label)\n",
    "\n",
    "    acc = 1 - incorrect / te_target.size(0)\n",
    "    return acc "
   ]
  },
  {
   "cell_type": "markdown",
   "metadata": {},
   "source": [
    "### Set params"
   ]
  },
  {
   "cell_type": "code",
   "execution_count": 16,
   "metadata": {},
   "outputs": [],
   "source": [
    "criterion = nn.CrossEntropyLoss()"
   ]
  },
  {
   "cell_type": "code",
   "execution_count": 17,
   "metadata": {},
   "outputs": [],
   "source": [
    "mini_batch_size = 10"
   ]
  },
  {
   "cell_type": "code",
   "execution_count": 18,
   "metadata": {},
   "outputs": [],
   "source": [
    "nb_epochs = 25"
   ]
  },
  {
   "cell_type": "code",
   "execution_count": 19,
   "metadata": {},
   "outputs": [],
   "source": [
    "eta = 1e-2"
   ]
  },
  {
   "cell_type": "markdown",
   "metadata": {},
   "source": [
    "### Predicting boolean 0/1"
   ]
  },
  {
   "cell_type": "code",
   "execution_count": 20,
   "metadata": {},
   "outputs": [],
   "source": [
    "model = BaseNet(inp_channels=2, out_channels=2)"
   ]
  },
  {
   "cell_type": "code",
   "execution_count": 21,
   "metadata": {},
   "outputs": [],
   "source": [
    "optimizer = optim.Adam(model.parameters(), lr=eta)"
   ]
  },
  {
   "cell_type": "code",
   "execution_count": 22,
   "metadata": {},
   "outputs": [],
   "source": [
    "# mess around with optimiser params\n",
    "# also try decaying learning rate"
   ]
  },
  {
   "cell_type": "code",
   "execution_count": 23,
   "metadata": {},
   "outputs": [],
   "source": [
    "model, losses, tr_acc = train_model(model, criterion, tr_inp, tr_bool,\n",
    "                    mini_batch_size, optimizer, nb_epochs)"
   ]
  },
  {
   "cell_type": "code",
   "execution_count": 24,
   "metadata": {},
   "outputs": [
    {
     "data": {
      "image/png": "[encoded data removed]",
      "text/plain": [
       "<Figure size 432x288 with 2 Axes>"
      ]
     },
     "metadata": {
      "needs_background": "light"
     },
     "output_type": "display_data"
    }
   ],
   "source": [
    "fig, ax = plt.subplots(nrows=1, ncols=2)\n",
    "ax[0].plot(list(range(len(losses))), losses)\n",
    "ax[0].set_xlabel(\"epoch\")\n",
    "ax[0].set_ylabel(\"cross entropy loss\")\n",
    "ax[1].plot(list(range(len(losses))), tr_acc)\n",
    "ax[1].set_xlabel('epoch')\n",
    "ax[1].set_ylabel(\"train acc\")\n",
    "plt.tight_layout()\n",
    "plt.show()"
   ]
  },
  {
   "cell_type": "code",
   "execution_count": 25,
   "metadata": {},
   "outputs": [],
   "source": [
    "te_acc = compute_class_accuracy(model, te_inp, te_bool, mini_batch_size)"
   ]
  },
  {
   "cell_type": "code",
   "execution_count": 26,
   "metadata": {},
   "outputs": [
    {
     "data": {
      "text/plain": [
       "tensor(0.8260)"
      ]
     },
     "execution_count": 26,
     "metadata": {},
     "output_type": "execute_result"
    }
   ],
   "source": [
    "te_acc"
   ]
  },
  {
   "cell_type": "code",
   "execution_count": 27,
   "metadata": {},
   "outputs": [],
   "source": [
    "# to 10-fold validate"
   ]
  },
  {
   "cell_type": "markdown",
   "metadata": {},
   "source": [
    "## Weight sharing \n",
    "Here we can take advantage of the fact that we not only have the labels 0/1 but also the actual digits of both of the images. We share weights in a siamese network."
   ]
  },
  {
   "cell_type": "code",
   "execution_count": 78,
   "metadata": {},
   "outputs": [],
   "source": [
    "class SiameseNet(nn.Module):\n",
    "    def __init__(self, inp_channels, class_channels, digit_channels, \n",
    "                 n_hidden=50):\n",
    "        super().__init__()\n",
    "        self.conv1 = nn.Conv2d(inp_channels // 2, 32, kernel_size=5)\n",
    "        self.pool1 = nn.MaxPool2d(kernel_size=3, stride=3)\n",
    "        self.conv2 = nn.Conv2d(32, 64, kernel_size=3)\n",
    "        self.dropout = nn.Dropout(p=0.25)\n",
    "       # self.pool2 = nn.MaxPool2d(kernel_size=2, stride=2)\n",
    "        self.fc1 = nn.Linear(64, n_hidden)\n",
    "        self.fc2 = nn.Linear(n_hidden, digit_channels)\n",
    "        self.fc3 = nn.Linear(digit_channels * 2, 2)\n",
    "\n",
    "    def forward(self, x):\n",
    "        # separate digits\n",
    "        x1 = x[:, 0, :, :].view(-1, 1, 14, 14)\n",
    "        x2 = x[:, 1, :, :].view(-1, 1, 14, 14)\n",
    "        \n",
    "        # conv layer 1\n",
    "        x1 = F.relu(self.pool1(self.conv1(x1)))\n",
    "        x2 = F.relu(self.pool1(self.conv1(x2)))\n",
    "\n",
    "        # CONV LAYER 2\n",
    "        x1 = F.relu(self.conv2(x1))\n",
    "        x2 = F.relu(self.conv2(x2))\n",
    "\n",
    "        # RESHAPE \n",
    "        x1 = x1.view(x1.size(0), -1)\n",
    "        x2 = x2.view(x2.size(0), -1)\n",
    "\n",
    "        # FC 1\n",
    "        x1 = F.relu(self.fc1(x1))\n",
    "        x2 = F.relu(self.fc1(x2))\n",
    "\n",
    "        # x = self.dropout(x)\n",
    "        # FC2\n",
    "        x1 = self.fc2(x1)\n",
    "        x2 = self.fc2(x2)\n",
    "        \n",
    "        x = torch.cat((x1, x2), 1)\n",
    "        x = self.fc3(x)\n",
    "\n",
    "        return x"
   ]
  },
  {
   "cell_type": "code",
   "execution_count": 79,
   "metadata": {},
   "outputs": [],
   "source": [
    "model = SiameseNet(2, 2, 10)"
   ]
  },
  {
   "cell_type": "code",
   "execution_count": 80,
   "metadata": {},
   "outputs": [],
   "source": [
    "optimizer = optim.Adam(model.parameters(), lr=eta)"
   ]
  },
  {
   "cell_type": "code",
   "execution_count": 81,
   "metadata": {},
   "outputs": [],
   "source": [
    "criterion = nn.CrossEntropyLoss()"
   ]
  },
  {
   "cell_type": "code",
   "execution_count": 82,
   "metadata": {},
   "outputs": [],
   "source": [
    "def train_siamese_model(model, criterion, tr_inp, tr_target, mini_batch_size, \n",
    "                optimizer, nb_epochs, verbose=False): \n",
    "    losses = torch.zeros(nb_epochs) \n",
    "    train_accuracy = torch.zeros(nb_epochs) \n",
    "    \n",
    "    for i in range(nb_epochs):\n",
    "        loss_epoch = 0 \n",
    "        correct_epoch = 0 \n",
    "\n",
    "        for b in range(0, tr_inp.size(0), mini_batch_size):\n",
    "            tr_inp_chunk = tr_inp.narrow(0, b, mini_batch_size)\n",
    "            tr_target_chunk = tr_target.narrow(0, b, mini_batch_size)\n",
    "            output = model(tr_inp_chunk) \n",
    "            \n",
    "            pred = torch.argmax(output, dim=1)\n",
    "            \n",
    "            loss = criterion(output, tr_target_chunk)\n",
    "            loss_epoch += loss.item()\n",
    "                \n",
    "            n_correct = (pred == tr_target_chunk).sum().item()\n",
    "            correct_epoch += n_correct\n",
    "\n",
    "            model.zero_grad()\n",
    "            loss.backward()\n",
    "            optimizer.step()\n",
    "\n",
    "        train_accuracy_i = correct_epoch / tr_target.size(0)\n",
    "        train_accuracy[i] = train_accuracy_i\n",
    "        losses[i] = loss_epoch \n",
    "\n",
    "        if verbose: \n",
    "            print('epoch', e) \n",
    "            print('loss', loss_epoch)\n",
    "            print('train accuracy', train_accuracy_i)\n",
    "\n",
    "    return model, losses, train_accuracy"
   ]
  },
  {
   "cell_type": "code",
   "execution_count": 83,
   "metadata": {},
   "outputs": [],
   "source": [
    "model, losses, tr_acc = train_siamese_model(model, criterion, tr_inp, tr_bool,\n",
    "                    mini_batch_size, optimizer, nb_epochs)"
   ]
  },
  {
   "cell_type": "code",
   "execution_count": 86,
   "metadata": {},
   "outputs": [
    {
     "data": {
      "image/png": "[encoded data removed]",
      "text/plain": [
       "<Figure size 432x288 with 2 Axes>"
      ]
     },
     "metadata": {
      "needs_background": "light"
     },
     "output_type": "display_data"
    }
   ],
   "source": [
    "fig, ax = plt.subplots(nrows=1, ncols=2)\n",
    "ax[0].plot(list(range(len(losses))), losses)\n",
    "ax[0].set_xlabel(\"epoch\")\n",
    "ax[0].set_ylabel(\"cross entropy loss\")\n",
    "ax[1].plot(list(range(len(losses))), tr_acc)\n",
    "ax[1].set_xlabel('epoch')\n",
    "ax[1].set_ylabel(\"train acc\")\n",
    "plt.tight_layout()\n",
    "plt.show()"
   ]
  },
  {
   "cell_type": "code",
   "execution_count": 89,
   "metadata": {},
   "outputs": [],
   "source": [
    "def compute_siamese_class_accuracy(model, te_inp, te_target, mini_batch_size):\n",
    "    incorrect = 0 \n",
    "\n",
    "    for b in range(0, te_inp.size(0), mini_batch_size):\n",
    "        out = model(te_inp.narrow(0, b, mini_batch_size))\n",
    "        pred = torch.argmax(out, dim=1)\n",
    "        true_label = te_target.narrow(0, b, mini_batch_size)\n",
    "\n",
    "        incorrect += torch.count_nonzero(true_label - pred)\n",
    "\n",
    "    acc = 1 - incorrect / te_target.size(0)\n",
    "    return acc "
   ]
  },
  {
   "cell_type": "code",
   "execution_count": 90,
   "metadata": {},
   "outputs": [],
   "source": [
    "te_acc = compute_siamese_class_accuracy(model, te_inp, te_bool, mini_batch_size)"
   ]
  },
  {
   "cell_type": "code",
   "execution_count": 91,
   "metadata": {},
   "outputs": [
    {
     "data": {
      "text/plain": [
       "tensor(0.8460)"
      ]
     },
     "execution_count": 91,
     "metadata": {},
     "output_type": "execute_result"
    }
   ],
   "source": [
    "te_acc"
   ]
  },
  {
   "cell_type": "code",
   "execution_count": null,
   "metadata": {},
   "outputs": [],
   "source": []
  }
 ],
 "metadata": {
  "kernelspec": {
   "display_name": "Python 3",
   "language": "python",
   "name": "python3"
  },
  "language_info": {
   "codemirror_mode": {
    "name": "ipython",
    "version": 3
   },
   "file_extension": ".py",
   "mimetype": "text/x-python",
   "name": "python",
   "nbconvert_exporter": "python",
   "pygments_lexer": "ipython3",
   "version": "3.8.3"
  }
 },
 "nbformat": 4,
 "nbformat_minor": 4
}
