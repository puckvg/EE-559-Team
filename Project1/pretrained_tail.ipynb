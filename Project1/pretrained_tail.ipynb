{
 "metadata": {
  "language_info": {
   "codemirror_mode": {
    "name": "ipython",
    "version": 3
   },
   "file_extension": ".py",
   "mimetype": "text/x-python",
   "name": "python",
   "nbconvert_exporter": "python",
   "pygments_lexer": "ipython3",
   "version": "3.7.9"
  },
  "orig_nbformat": 2,
  "kernelspec": {
   "name": "python379jvsc74a57bd0551027d1b939ec0016f2e01e6bd6ac0e4699d2ec5e4974e783e9fca478101a51",
   "display_name": "Python 3.7.9 64-bit"
  }
 },
 "nbformat": 4,
 "nbformat_minor": 2,
 "cells": [
  {
   "source": [
    "# Pretraining tail network"
   ],
   "cell_type": "markdown",
   "metadata": {}
  },
  {
   "cell_type": "code",
   "execution_count": 1,
   "metadata": {},
   "outputs": [],
   "source": [
    "from src.dlc_practical_prologue import generate_pair_sets\n",
    "from src.utils import load_class_data, load_target_data, load_all_data, print_param_count\n",
    "from src.models import *\n",
    "from src.trainer import Trainer\n",
    "import torch\n",
    "import matplotlib.pyplot as plt"
   ]
  },
  {
   "cell_type": "code",
   "execution_count": 2,
   "metadata": {},
   "outputs": [],
   "source": [
    "# Load data with class and larget than as targets\n",
    "dl_train_all, dl_val_all, dl_test_all = load_all_data()\n",
    "\n",
    "# Load data with class as target\n",
    "dl_train_class, dl_val_class, dl_test_class = load_class_data()"
   ]
  },
  {
   "cell_type": "code",
   "execution_count": 3,
   "metadata": {},
   "outputs": [
    {
     "output_type": "stream",
     "name": "stdout",
     "text": [
      "--- Pre-training tail model ---\n",
      "\n",
      "# Epoch 1/5:\t loss=0.67\t loss_val=0.63\t acc_val=85.71\n",
      "# Epoch 2/5:\t loss=0.55\t loss_val=0.43\t acc_val=91.52\n",
      "# Epoch 3/5:\t loss=0.29\t loss_val=0.18\t acc_val=100.0\n",
      "# Epoch 4/5:\t loss=0.11\t loss_val=0.07\t acc_val=100.0\n",
      "# Epoch 5/5:\t loss=0.05\t loss_val=0.03\t acc_val=100.0\n",
      "\n",
      "--- Training full model ---\n",
      "\n",
      "# Epoch 1/20:\t loss=1.96\t loss_val=0.87\t acc_val=74.11\n",
      "# Epoch 2/20:\t loss=0.89\t loss_val=0.24\t acc_val=93.75\n",
      "# Epoch 3/20:\t loss=0.5\t loss_val=0.23\t acc_val=94.2\n",
      "# Epoch 4/20:\t loss=0.44\t loss_val=0.2\t acc_val=95.54\n",
      "# Epoch 5/20:\t loss=0.32\t loss_val=0.17\t acc_val=96.88\n",
      "# Epoch 6/20:\t loss=0.27\t loss_val=0.19\t acc_val=95.98\n",
      "# Epoch 7/20:\t loss=0.22\t loss_val=0.16\t acc_val=96.88\n",
      "# Epoch 8/20:\t loss=0.22\t loss_val=0.13\t acc_val=97.77\n",
      "# Epoch 9/20:\t loss=0.15\t loss_val=0.13\t acc_val=97.32\n",
      "# Epoch 10/20:\t loss=0.13\t loss_val=0.14\t acc_val=96.88\n",
      "# Epoch 11/20:\t loss=0.14\t loss_val=0.14\t acc_val=97.32\n",
      "# Epoch 12/20:\t loss=0.09\t loss_val=0.1\t acc_val=97.77\n",
      "# Epoch 13/20:\t loss=0.09\t loss_val=0.08\t acc_val=98.66\n",
      "# Epoch 14/20:\t loss=0.07\t loss_val=0.11\t acc_val=98.21\n",
      "# Epoch 15/20:\t loss=0.04\t loss_val=0.1\t acc_val=98.21\n",
      "# Epoch 16/20:\t loss=0.03\t loss_val=0.12\t acc_val=98.21\n",
      "# Epoch 17/20:\t loss=0.02\t loss_val=0.13\t acc_val=97.77\n",
      "# Epoch 18/20:\t loss=0.05\t loss_val=0.17\t acc_val=96.88\n",
      "# Epoch 19/20:\t loss=0.03\t loss_val=0.08\t acc_val=98.66\n",
      "# Epoch 20/20:\t loss=0.01\t loss_val=0.11\t acc_val=98.21\n",
      "\n",
      "--- Testing model ---\n",
      "\n",
      "loss_test=0.15\t acc_test=95.49\n",
      "loss_test=0.15\t acc_test=97.46\n"
     ]
    }
   ],
   "source": [
    "print(\"--- Pre-training tail model ---\\n\")\n",
    "\n",
    "tail = TailLinear(label_encoded=True)\n",
    "trainer = Trainer(nb_epochs=5, run='pretrained_tail_tailTraining')\n",
    "trainer.fit(tail, dl_train_all, dl_val_all)\n",
    "\n",
    "print(\"\\n--- Training full model ---\\n\")\n",
    "\n",
    "tail.requires_grad_=False\n",
    "le_net = LeNet()\n",
    "siamese = Siamese(le_net, tail, softmax=False, strategy='sum')\n",
    "trainer = Trainer(nb_epochs=20, run='pretrained_tail_headTraining')\n",
    "trainer.fit(siamese, dl_train_all, dl_val_all)\n",
    "\n",
    "print(\"\\n--- Testing model ---\\n\")\n",
    "trainer.test(le_net, dl_test_class, return_acc=False)\n",
    "trainer.test(siamese, dl_test_all, return_acc=False)\n"
   ]
  },
  {
   "cell_type": "code",
   "execution_count": 4,
   "metadata": {},
   "outputs": [
    {
     "output_type": "stream",
     "name": "stdout",
     "text": [
      "Total number of parameters:     83300\nNumber of trainable parameters: 83300\n"
     ]
    }
   ],
   "source": [
    "print_param_count(siamese)"
   ]
  },
  {
   "cell_type": "code",
   "execution_count": 5,
   "metadata": {},
   "outputs": [
    {
     "output_type": "stream",
     "name": "stdout",
     "text": [
      "Run 1/10\n",
      "loss_test=0.16\t acc_test=97.36\n",
      "Run 2/10\n",
      "loss_test=0.16\t acc_test=96.97\n",
      "Run 3/10\n",
      "loss_test=0.19\t acc_test=97.17\n",
      "Run 4/10\n",
      "loss_test=0.18\t acc_test=97.07\n",
      "Run 5/10\n",
      "loss_test=0.23\t acc_test=96.29\n",
      "Run 6/10\n",
      "loss_test=0.2\t acc_test=96.78\n",
      "Run 7/10\n",
      "loss_test=0.21\t acc_test=96.68\n",
      "Run 8/10\n",
      "loss_test=0.15\t acc_test=97.75\n",
      "Run 9/10\n",
      "loss_test=0.15\t acc_test=97.17\n",
      "Run 10/10\n",
      "loss_test=0.2\t acc_test=96.29\n"
     ]
    }
   ],
   "source": [
    "# Do the same, but 10 times and with verbose=False\n",
    "results = []\n",
    "for i in range(10):\n",
    "    print(f\"Run {i+1}/10\")\n",
    "\n",
    "    # Load data with class and larget than as targets\n",
    "    dl_train_all, dl_val_all, dl_test_all = load_all_data()\n",
    "\n",
    "    # Load data with class as target\n",
    "    dl_train_class, dl_val_class, dl_test_class = load_class_data()\n",
    "\n",
    "    # Training tail model\n",
    "    tail = TailLinear(label_encoded=True)\n",
    "    trainer = Trainer(nb_epochs=5, run='pretrained_tail_tailTraining')\n",
    "    trainer.fit(tail, dl_train_all, dl_val_all, verbose=False)\n",
    "\n",
    "    # Training full model (but without gradient for last part)\n",
    "    tail.requires_grad_=False\n",
    "    le_net = LeNet()\n",
    "    siamese = Siamese(le_net, tail, softmax=False, strategy='sum')\n",
    "    trainer = Trainer(nb_epochs=20, run='pretrained_tail_headTraining_argmax')\n",
    "    trainer.fit(siamese, dl_train_all, dl_val_all, verbose=False)\n",
    "\n",
    "    # Testing\n",
    "    acc = trainer.test(siamese, dl_test_all, test_verbose=True, return_acc=True)\n",
    "    results.extend([acc])"
   ]
  },
  {
   "cell_type": "code",
   "execution_count": 6,
   "metadata": {},
   "outputs": [
    {
     "output_type": "stream",
     "name": "stdout",
     "text": [
      "Average accuracy:   96.95\nStandard deviation: 0.46\n"
     ]
    }
   ],
   "source": [
    "# Print results\n",
    "results = torch.Tensor(results)\n",
    "print(\"Average accuracy:   {:.2f}\".format(results.mean()))\n",
    "print(\"Standard deviation: {:.2f}\".format(results.std()))"
   ]
  },
  {
   "cell_type": "code",
   "execution_count": null,
   "metadata": {},
   "outputs": [],
   "source": []
  }
 ]
}