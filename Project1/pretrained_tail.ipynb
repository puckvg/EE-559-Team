{
 "metadata": {
  "language_info": {
   "codemirror_mode": {
    "name": "ipython",
    "version": 3
   },
   "file_extension": ".py",
   "mimetype": "text/x-python",
   "name": "python",
   "nbconvert_exporter": "python",
   "pygments_lexer": "ipython3",
   "version": "3.7.9-final"
  },
  "orig_nbformat": 2,
  "kernelspec": {
   "name": "python379jvsc74a57bd0551027d1b939ec0016f2e01e6bd6ac0e4699d2ec5e4974e783e9fca478101a51",
   "display_name": "Python 3.7.9 64-bit"
  }
 },
 "nbformat": 4,
 "nbformat_minor": 2,
 "cells": [
  {
   "source": [
    "# Pretraining tail network"
   ],
   "cell_type": "markdown",
   "metadata": {}
  },
  {
   "cell_type": "code",
   "execution_count": 1,
   "metadata": {},
   "outputs": [],
   "source": [
    "from src.dlc_practical_prologue import generate_pair_sets\n",
    "from src.utils import load_class_data, load_target_data, load_all_data, print_param_count\n",
    "from src.models import *\n",
    "from src.trainer import Trainer\n",
    "import torch\n",
    "import matplotlib.pyplot as plt"
   ]
  },
  {
   "cell_type": "code",
   "execution_count": 2,
   "metadata": {},
   "outputs": [],
   "source": [
    "# Load data with class and larget than as targets\n",
    "dl_train_all, dl_val_all, dl_test_all = load_all_data()\n",
    "\n",
    "# Load data with class as target\n",
    "dl_train_class, dl_val_class, dl_test_class = load_class_data()"
   ]
  },
  {
   "cell_type": "code",
   "execution_count": 3,
   "metadata": {},
   "outputs": [
    {
     "output_type": "stream",
     "name": "stdout",
     "text": [
      "--- Pre-training tail model ---\n",
      "\n",
      "# Epoch 1/5:\t loss=0.65\t loss_val=0.6\t acc_val=62.5\n",
      "# Epoch 2/5:\t loss=0.51\t loss_val=0.4\t acc_val=87.05\n",
      "# Epoch 3/5:\t loss=0.29\t loss_val=0.18\t acc_val=99.11\n",
      "# Epoch 4/5:\t loss=0.12\t loss_val=0.08\t acc_val=100.0\n",
      "# Epoch 5/5:\t loss=0.06\t loss_val=0.05\t acc_val=100.0\n",
      "\n",
      "--- Training full model ---\n",
      "\n",
      "# Epoch 1/20:\t loss=2.46\t loss_val=0.4\t acc_val=81.25\n",
      "# Epoch 2/20:\t loss=1.25\t loss_val=0.42\t acc_val=82.59\n",
      "# Epoch 3/20:\t loss=0.9\t loss_val=0.32\t acc_val=84.38\n",
      "# Epoch 4/20:\t loss=0.67\t loss_val=0.32\t acc_val=82.14\n",
      "# Epoch 5/20:\t loss=0.57\t loss_val=0.33\t acc_val=84.38\n",
      "# Epoch 6/20:\t loss=0.5\t loss_val=0.27\t acc_val=87.5\n",
      "# Epoch 7/20:\t loss=0.42\t loss_val=0.26\t acc_val=90.18\n",
      "# Epoch 8/20:\t loss=0.39\t loss_val=0.28\t acc_val=85.71\n",
      "# Epoch 9/20:\t loss=0.36\t loss_val=0.27\t acc_val=88.84\n",
      "# Epoch 10/20:\t loss=0.31\t loss_val=0.23\t acc_val=89.73\n",
      "# Epoch 11/20:\t loss=0.26\t loss_val=0.25\t acc_val=90.18\n",
      "# Epoch 12/20:\t loss=0.3\t loss_val=0.23\t acc_val=90.18\n",
      "# Epoch 13/20:\t loss=0.25\t loss_val=0.28\t acc_val=87.95\n",
      "# Epoch 14/20:\t loss=0.2\t loss_val=0.25\t acc_val=91.07\n",
      "# Epoch 15/20:\t loss=0.16\t loss_val=0.2\t acc_val=92.86\n",
      "# Epoch 16/20:\t loss=0.15\t loss_val=0.19\t acc_val=92.41\n",
      "# Epoch 17/20:\t loss=0.15\t loss_val=0.23\t acc_val=94.2\n",
      "# Epoch 18/20:\t loss=0.15\t loss_val=0.29\t acc_val=91.07\n",
      "# Epoch 19/20:\t loss=0.13\t loss_val=0.26\t acc_val=90.18\n",
      "# Epoch 20/20:\t loss=0.22\t loss_val=0.52\t acc_val=83.48\n",
      "\n",
      "--- Testing model ---\n",
      "\n",
      "loss_test=0.29\t acc_test=90.87\n",
      "loss_test=0.49\t acc_test=85.94\n"
     ]
    }
   ],
   "source": [
    "print(\"--- Pre-training tail model ---\\n\")\n",
    "\n",
    "tail = TailLinear(label_encoded=True)\n",
    "trainer = Trainer(nb_epochs=5)\n",
    "trainer.fit(tail, dl_train_all, dl_val_all)\n",
    "\n",
    "print(\"\\n--- Training full model ---\\n\")\n",
    "\n",
    "tail.label_encoded = False\n",
    "tail.requires_grad_=False\n",
    "le_net = LeNet()\n",
    "siamese = Siamese(le_net, tail)\n",
    "trainer = Trainer(nb_epochs=20)\n",
    "trainer.fit(siamese, dl_train_all, dl_val_all)\n",
    "\n",
    "print(\"\\n--- Testing model ---\\n\")\n",
    "trainer.test(le_net, dl_test_class, return_acc=False)\n",
    "trainer.test(siamese, dl_test_all, return_acc=False)\n"
   ]
  },
  {
   "cell_type": "code",
   "execution_count": 4,
   "metadata": {},
   "outputs": [
    {
     "output_type": "stream",
     "name": "stdout",
     "text": [
      "Total number of parameters:     83300\nNumber of trainable parameters: 83300\n"
     ]
    }
   ],
   "source": [
    "print_param_count(siamese)"
   ]
  },
  {
   "cell_type": "code",
   "execution_count": 8,
   "metadata": {},
   "outputs": [
    {
     "output_type": "stream",
     "name": "stdout",
     "text": [
      "Run 1/10\n",
      "loss_test=0.31\t acc_test=90.62\n",
      "Run 2/10\n",
      "loss_test=0.26\t acc_test=92.58\n",
      "Run 3/10\n",
      "loss_test=0.44\t acc_test=89.16\n",
      "Run 4/10\n",
      "loss_test=0.4\t acc_test=92.29\n",
      "Run 5/10\n",
      "loss_test=0.37\t acc_test=90.23\n",
      "Run 6/10\n",
      "loss_test=0.28\t acc_test=93.46\n",
      "Run 7/10\n",
      "loss_test=0.34\t acc_test=91.89\n",
      "Run 8/10\n",
      "loss_test=0.27\t acc_test=92.38\n",
      "Run 9/10\n",
      "loss_test=0.39\t acc_test=90.62\n",
      "Run 10/10\n",
      "loss_test=0.44\t acc_test=90.33\n"
     ]
    }
   ],
   "source": [
    "# Do the same, but 10 times and with verbose=False\n",
    "results = []\n",
    "for i in range(10):\n",
    "    print(f\"Run {i+1}/10\")\n",
    "\n",
    "    # Load data with class and larget than as targets\n",
    "    dl_train_all, dl_val_all, dl_test_all = load_all_data()\n",
    "\n",
    "    # Load data with class as target\n",
    "    dl_train_class, dl_val_class, dl_test_class = load_class_data()\n",
    "\n",
    "    # Training tail model\n",
    "    tail = TailLinear(label_encoded=True)\n",
    "    trainer = Trainer(nb_epochs=5)\n",
    "    trainer.fit(tail, dl_train_all, dl_val_all, verbose=False)\n",
    "\n",
    "    # Training full model (but without gradient for last part)\n",
    "    tail.label_encoded = False\n",
    "    tail.requires_grad_=False\n",
    "    le_net = LeNet()\n",
    "    siamese = Siamese(le_net, tail)\n",
    "    trainer = Trainer(nb_epochs=20)\n",
    "    trainer.fit(siamese, dl_train_all, dl_val_all, verbose=False)\n",
    "\n",
    "    # Testing\n",
    "    acc = trainer.test(siamese, dl_test_all, test_verbose=True, return_acc=True)\n",
    "    results.extend([acc])"
   ]
  },
  {
   "cell_type": "code",
   "execution_count": 9,
   "metadata": {},
   "outputs": [
    {
     "output_type": "stream",
     "name": "stdout",
     "text": [
      "Average accuracy:   91.36\nStandard deviation: 1.35\n"
     ]
    }
   ],
   "source": [
    "# Print results\n",
    "results = torch.Tensor(results)\n",
    "print(\"Average accuracy:   {:.2f}\".format(results.mean()))\n",
    "print(\"Standard deviation: {:.2f}\".format(results.std()))"
   ]
  },
  {
   "cell_type": "code",
   "execution_count": null,
   "metadata": {},
   "outputs": [],
   "source": []
  }
 ]
}