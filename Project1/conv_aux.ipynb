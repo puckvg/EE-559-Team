{
 "cells": [
  {
   "cell_type": "code",
   "execution_count": 11,
   "metadata": {},
   "outputs": [],
   "source": [
    "from src.dlc_practical_prologue import generate_pair_sets\n",
    "from src.utils import load_class_data, load_target_data, load_all_data\n",
    "from src.models import *\n",
    "from src.trainer import Trainer\n",
    "import matplotlib.pyplot as plt\n",
    "import numpy as np"
   ]
  },
  {
   "cell_type": "markdown",
   "metadata": {},
   "source": [
    "# Load data"
   ]
  },
  {
   "cell_type": "code",
   "execution_count": 12,
   "metadata": {},
   "outputs": [],
   "source": [
    "dl_train_all, dl_val_all, dl_test_all = load_all_data(normalize=True)"
   ]
  },
  {
   "cell_type": "markdown",
   "metadata": {},
   "source": [
    "# Train / Test"
   ]
  },
  {
   "cell_type": "markdown",
   "metadata": {},
   "source": [
    "## Params"
   ]
  },
  {
   "cell_type": "code",
   "execution_count": 13,
   "metadata": {},
   "outputs": [],
   "source": [
    "le_net = LeNet()\n",
    "nb_epochs = 25\n",
    "n_cv = 10 \n",
    "n_cv_weight = 5"
   ]
  },
  {
   "cell_type": "markdown",
   "metadata": {},
   "source": [
    "## Hyperparam opt the weight "
   ]
  },
  {
   "cell_type": "code",
   "execution_count": 14,
   "metadata": {},
   "outputs": [],
   "source": [
    "weights = [1e-3, 1e-2, 1e-1, 0.3, 0.5, 0.7, 0.9, 1]"
   ]
  },
  {
   "cell_type": "code",
   "execution_count": 16,
   "metadata": {},
   "outputs": [],
   "source": [
    "weight_test_accuracies = np.zeros((n_cv_weight, len(weights)))"
   ]
  },
  {
   "cell_type": "code",
   "execution_count": 17,
   "metadata": {},
   "outputs": [
    {
     "name": "stdout",
     "output_type": "stream",
     "text": [
      "loss_test=0.63\t acc_test=84.67\n",
      "loss_test=0.72\t acc_test=82.62\n",
      "loss_test=0.77\t acc_test=84.86\n",
      "loss_test=0.85\t acc_test=84.38\n",
      "loss_test=0.93\t acc_test=83.98\n",
      "loss_test=0.76\t acc_test=85.45\n",
      "loss_test=0.88\t acc_test=86.33\n",
      "loss_test=1.17\t acc_test=85.55\n",
      "loss_test=1.23\t acc_test=87.79\n",
      "loss_test=1.31\t acc_test=87.5\n",
      "loss_test=1.46\t acc_test=87.01\n",
      "loss_test=1.41\t acc_test=88.48\n",
      "loss_test=1.58\t acc_test=87.79\n",
      "loss_test=1.58\t acc_test=87.99\n",
      "loss_test=1.59\t acc_test=88.18\n",
      "loss_test=1.59\t acc_test=86.62\n",
      "loss_test=1.78\t acc_test=86.43\n",
      "loss_test=1.79\t acc_test=86.13\n",
      "loss_test=1.95\t acc_test=87.11\n",
      "loss_test=2.06\t acc_test=87.3\n",
      "loss_test=2.17\t acc_test=85.84\n",
      "loss_test=2.55\t acc_test=87.11\n",
      "loss_test=2.67\t acc_test=86.04\n",
      "loss_test=2.72\t acc_test=86.62\n",
      "loss_test=2.3\t acc_test=87.3\n",
      "loss_test=2.63\t acc_test=87.11\n",
      "loss_test=2.74\t acc_test=87.6\n",
      "loss_test=2.71\t acc_test=87.3\n",
      "loss_test=2.89\t acc_test=86.33\n",
      "loss_test=3.26\t acc_test=86.91\n",
      "loss_test=3.15\t acc_test=86.23\n",
      "loss_test=3.17\t acc_test=85.74\n",
      "loss_test=3.34\t acc_test=84.67\n",
      "loss_test=3.18\t acc_test=87.11\n",
      "loss_test=3.87\t acc_test=86.33\n",
      "loss_test=3.67\t acc_test=86.82\n",
      "loss_test=2.99\t acc_test=86.91\n",
      "loss_test=3.27\t acc_test=86.52\n",
      "loss_test=3.33\t acc_test=87.89\n",
      "loss_test=3.75\t acc_test=85.94\n"
     ]
    }
   ],
   "source": [
    "#for j, weight in enumerate(weights): \n",
    "    # 5 fold cross validate here \n",
    "#    for i in range(n_cv_weight):\n",
    "#        siamese_le_net = Siamese(le_net, weight_aux=weight)\n",
    "#        trainer = Trainer(nb_epochs=nb_epochs)\n",
    "#        trainer.fit(siamese_le_net, dl_train_all, dl_val_all, verbose=False)\n",
    "#        acc_test = trainer.test(siamese_le_net, dl_test_all, test_verbose=True, return_acc=True)\n",
    "#        weight_test_accuracies[i,j] = acc_test"
   ]
  },
  {
   "cell_type": "code",
   "execution_count": 21,
   "metadata": {},
   "outputs": [],
   "source": [
    "avg_weight_test_accuracies = np.mean(weight_test_accuracies, axis=0)"
   ]
  },
  {
   "cell_type": "code",
   "execution_count": 24,
   "metadata": {},
   "outputs": [
    {
     "data": {
      "text/plain": [
       "array([84.102, 86.524, 87.89 , 86.718, 86.582, 87.05 , 86.016, 86.816])"
      ]
     },
     "execution_count": 24,
     "metadata": {},
     "output_type": "execute_result"
    }
   ],
   "source": [
    "avg_weight_test_accuracies"
   ]
  },
  {
   "cell_type": "code",
   "execution_count": 26,
   "metadata": {},
   "outputs": [
    {
     "data": {
      "text/plain": [
       "0.1"
      ]
     },
     "execution_count": 26,
     "metadata": {},
     "output_type": "execute_result"
    }
   ],
   "source": [
    "best_weight = weights[np.argmax(avg_weight_test_accuracies)]\n",
    "best_weight"
   ]
  },
  {
   "cell_type": "code",
   "execution_count": 27,
   "metadata": {},
   "outputs": [],
   "source": [
    "# keep best weight"
   ]
  },
  {
   "cell_type": "code",
   "execution_count": 28,
   "metadata": {},
   "outputs": [],
   "source": [
    "weight_aux = 0.1"
   ]
  },
  {
   "cell_type": "code",
   "execution_count": 29,
   "metadata": {},
   "outputs": [],
   "source": [
    "test_accuracies = []"
   ]
  },
  {
   "cell_type": "code",
   "execution_count": 30,
   "metadata": {},
   "outputs": [
    {
     "name": "stdout",
     "output_type": "stream",
     "text": [
      "loss_test=4.49\t acc_test=87.11\n",
      "loss_test=4.11\t acc_test=87.3\n",
      "loss_test=4.45\t acc_test=87.21\n",
      "loss_test=5.33\t acc_test=84.96\n",
      "loss_test=5.56\t acc_test=85.84\n",
      "loss_test=5.1\t acc_test=85.84\n",
      "loss_test=4.48\t acc_test=86.72\n",
      "loss_test=4.54\t acc_test=87.3\n",
      "loss_test=4.29\t acc_test=86.72\n",
      "loss_test=4.01\t acc_test=86.52\n"
     ]
    }
   ],
   "source": [
    "for i in range(n_cv):\n",
    "    siamese_le_net = Siamese(le_net, weight_aux=weight_aux)\n",
    "    trainer = Trainer(nb_epochs=nb_epochs)\n",
    "    trainer.fit(siamese_le_net, dl_train_all, dl_val_all, verbose=False)\n",
    "    acc_test = trainer.test(siamese_le_net, dl_test_all, test_verbose=True, return_acc=True)\n",
    "    test_accuracies.append(acc_test)"
   ]
  },
  {
   "cell_type": "code",
   "execution_count": 31,
   "metadata": {},
   "outputs": [
    {
     "name": "stdout",
     "output_type": "stream",
     "text": [
      "avg test acc 86.55199999999999\n",
      "stdev test acc 0.7395376934274542\n"
     ]
    }
   ],
   "source": [
    "avg_test_acc = np.mean(test_accuracies)\n",
    "print('avg test acc', avg_test_acc)\n",
    "stdev_test_acc = np.std(test_accuracies)\n",
    "print('stdev test acc', stdev_test_acc)"
   ]
  },
  {
   "cell_type": "code",
   "execution_count": 33,
   "metadata": {},
   "outputs": [],
   "source": [
    "from src.utils import print_param_count"
   ]
  },
  {
   "cell_type": "code",
   "execution_count": 34,
   "metadata": {},
   "outputs": [
    {
     "name": "stdout",
     "output_type": "stream",
     "text": [
      "Total number of parameters:     72268\n",
      "Number of trainable parameters: 72268\n"
     ]
    }
   ],
   "source": [
    "print_param_count(siamese_le_net)"
   ]
  },
  {
   "cell_type": "code",
   "execution_count": null,
   "metadata": {},
   "outputs": [],
   "source": []
  }
 ],
 "metadata": {
  "kernelspec": {
   "display_name": "Python 3",
   "language": "python",
   "name": "python3"
  },
  "language_info": {
   "codemirror_mode": {
    "name": "ipython",
    "version": 3
   },
   "file_extension": ".py",
   "mimetype": "text/x-python",
   "name": "python",
   "nbconvert_exporter": "python",
   "pygments_lexer": "ipython3",
   "version": "3.8.3"
  }
 },
 "nbformat": 4,
 "nbformat_minor": 2
}
