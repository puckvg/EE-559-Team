{
 "cells": [
  {
   "cell_type": "code",
   "execution_count": 1,
   "metadata": {},
   "outputs": [],
   "source": [
    "from src.dlc_practical_prologue import generate_pair_sets\n",
    "from src.utils import load_class_data, load_target_data, load_all_data, print_param_count\n",
    "from src.models import *\n",
    "from src.trainer import Trainer\n",
    "import matplotlib.pyplot as plt"
   ]
  },
  {
   "cell_type": "code",
   "execution_count": 2,
   "metadata": {},
   "outputs": [],
   "source": [
    "dl_train_all, dl_val_all, dl_test_all = load_all_data(normalize=True)"
   ]
  },
  {
   "cell_type": "code",
   "execution_count": 5,
   "metadata": {},
   "outputs": [],
   "source": [
    "# Train siamese network without aux loss and return digits only \n",
    "\n",
    "# Can use any network with ten output nodes here\n",
    "le_net = LeNet()\n",
    "\n",
    "nb_epochs = 25\n",
    "n_cv = 10\n",
    "test_accuracies = []"
   ]
  },
  {
   "cell_type": "code",
   "execution_count": 6,
   "metadata": {},
   "outputs": [
    {
     "name": "stdout",
     "output_type": "stream",
     "text": [
      "cv iter 0\n",
      "loss_test=0.13\t acc_test=98.05\n",
      "cv iter 1\n",
      "loss_test=0.15\t acc_test=98.24\n",
      "cv iter 2\n",
      "loss_test=0.16\t acc_test=98.34\n",
      "cv iter 3\n",
      "loss_test=0.15\t acc_test=98.14\n",
      "cv iter 4\n",
      "loss_test=0.17\t acc_test=97.56\n",
      "cv iter 5\n",
      "loss_test=0.18\t acc_test=97.56\n",
      "cv iter 6\n",
      "loss_test=0.18\t acc_test=97.75\n",
      "cv iter 7\n",
      "loss_test=0.19\t acc_test=98.05\n",
      "cv iter 8\n",
      "loss_test=0.21\t acc_test=97.56\n",
      "cv iter 9\n",
      "loss_test=0.21\t acc_test=97.56\n"
     ]
    }
   ],
   "source": [
    "for i in range(n_cv):\n",
    "    print('cv iter', i)\n",
    "    siamese_le_net = Siamese(le_net, target=None, weight_aux=0.)\n",
    "    trainer = Trainer(nb_epochs=nb_epochs)\n",
    "\n",
    "    trainer.fit(siamese_le_net, dl_train_all, dl_val_all, verbose=False)\n",
    "    acc_test = trainer.test(siamese_le_net, dl_test_all, test_verbose=True, return_acc=True)\n",
    "    \n",
    "    test_accuracies.append(acc_test)"
   ]
  },
  {
   "cell_type": "code",
   "execution_count": null,
   "metadata": {},
   "outputs": [],
   "source": [
    "import numpy as np \n",
    "avg_test_acc = np.mean(test_accuracies)\n",
    "print('avg test acc', avg_test_acc)\n",
    "stdev_test_acc = np.std(test_accuracies)\n",
    "print('stdev', stdev_test_acc)"
   ]
  },
  {
   "cell_type": "code",
   "execution_count": null,
   "metadata": {},
   "outputs": [],
   "source": [
    "print_param_count(siamese_le_net)"
   ]
  }
 ],
 "metadata": {
  "kernelspec": {
   "display_name": "Python 3",
   "language": "python",
   "name": "python3"
  },
  "language_info": {
   "codemirror_mode": {
    "name": "ipython",
    "version": 3
   },
   "file_extension": ".py",
   "mimetype": "text/x-python",
   "name": "python",
   "nbconvert_exporter": "python",
   "pygments_lexer": "ipython3",
   "version": "3.8.3"
  }
 },
 "nbformat": 4,
 "nbformat_minor": 4
}
