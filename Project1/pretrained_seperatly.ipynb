{
 "metadata": {
  "language_info": {
   "codemirror_mode": {
    "name": "ipython",
    "version": 3
   },
   "file_extension": ".py",
   "mimetype": "text/x-python",
   "name": "python",
   "nbconvert_exporter": "python",
   "pygments_lexer": "ipython3",
   "version": "3.7.9-final"
  },
  "orig_nbformat": 2,
  "kernelspec": {
   "name": "python379jvsc74a57bd0551027d1b939ec0016f2e01e6bd6ac0e4699d2ec5e4974e783e9fca478101a51",
   "display_name": "Python 3.7.9 64-bit"
  }
 },
 "nbformat": 4,
 "nbformat_minor": 2,
 "cells": [
  {
   "source": [
    "# Pretraining both network parts seperatly"
   ],
   "cell_type": "markdown",
   "metadata": {}
  },
  {
   "cell_type": "code",
   "execution_count": 1,
   "metadata": {},
   "outputs": [],
   "source": [
    "from src.dlc_practical_prologue import generate_pair_sets\n",
    "from src.utils import load_class_data, load_target_data, load_all_data\n",
    "from src.models import *\n",
    "from src.trainer import Trainer\n",
    "import torch\n",
    "import matplotlib.pyplot as plt"
   ]
  },
  {
   "cell_type": "code",
   "execution_count": 2,
   "metadata": {},
   "outputs": [],
   "source": [
    "# Load data with class and larget than as targets\n",
    "dl_train_all, dl_val_all, dl_test_all = load_all_data()\n",
    "\n",
    "# Load data with class as target\n",
    "dl_train_class, dl_val_class, dl_test_class = load_class_data()"
   ]
  },
  {
   "cell_type": "code",
   "execution_count": 3,
   "metadata": {},
   "outputs": [
    {
     "output_type": "stream",
     "name": "stdout",
     "text": [
      "--- Pre-training tail model ---\n",
      "\n",
      "# Epoch 1/5:\t loss=0.66\t loss_val=0.61\t acc_val=87.05\n",
      "# Epoch 2/5:\t loss=0.54\t loss_val=0.41\t acc_val=94.2\n",
      "# Epoch 3/5:\t loss=0.29\t loss_val=0.19\t acc_val=96.88\n",
      "# Epoch 4/5:\t loss=0.13\t loss_val=0.08\t acc_val=100.0\n",
      "# Epoch 5/5:\t loss=0.06\t loss_val=0.04\t acc_val=100.0\n",
      "\n",
      "--- Pre-train classification model ---\n",
      "\n",
      "# Epoch 1/15:\t loss=1.42\t loss_val=0.58\t acc_val=82.69\n",
      "# Epoch 2/15:\t loss=0.44\t loss_val=0.31\t acc_val=91.83\n",
      "# Epoch 3/15:\t loss=0.29\t loss_val=0.24\t acc_val=92.31\n",
      "# Epoch 4/15:\t loss=0.23\t loss_val=0.26\t acc_val=91.59\n",
      "# Epoch 5/15:\t loss=0.17\t loss_val=0.2\t acc_val=94.47\n",
      "# Epoch 6/15:\t loss=0.15\t loss_val=0.15\t acc_val=94.95\n",
      "# Epoch 7/15:\t loss=0.12\t loss_val=0.14\t acc_val=95.67\n",
      "# Epoch 8/15:\t loss=0.1\t loss_val=0.15\t acc_val=96.39\n",
      "# Epoch 9/15:\t loss=0.07\t loss_val=0.12\t acc_val=95.91\n",
      "# Epoch 10/15:\t loss=0.06\t loss_val=0.12\t acc_val=96.15\n",
      "# Epoch 11/15:\t loss=0.05\t loss_val=0.2\t acc_val=94.71\n",
      "# Epoch 12/15:\t loss=0.05\t loss_val=0.14\t acc_val=96.39\n",
      "# Epoch 13/15:\t loss=0.03\t loss_val=0.14\t acc_val=96.39\n",
      "# Epoch 14/15:\t loss=0.02\t loss_val=0.13\t acc_val=96.63\n",
      "# Epoch 15/15:\t loss=0.02\t loss_val=0.15\t acc_val=96.15\n",
      "\n",
      "--- Putting them together ---\n",
      "\n",
      "\n",
      "--- Testing model ---\n",
      "\n",
      "loss_test=0.14\t acc_test=95.49\n",
      "loss_test=0.61\t acc_test=78.91\n"
     ]
    },
    {
     "output_type": "execute_result",
     "data": {
      "text/plain": [
       "78.91"
      ]
     },
     "metadata": {},
     "execution_count": 3
    }
   ],
   "source": [
    "print(\"--- Pre-training tail model ---\\n\")\n",
    "\n",
    "tail = TailLinear(label_encoded=True)\n",
    "trainer = Trainer(nb_epochs=5)\n",
    "trainer.fit(tail, dl_train_all, dl_val_all)\n",
    "\n",
    "print(\"\\n--- Pre-train classification model ---\\n\")\n",
    "\n",
    "le_net = LeNet()\n",
    "trainer = Trainer(nb_epochs=15)\n",
    "trainer.fit(le_net, dl_train_class, dl_val_class)\n",
    "\n",
    "print(\"\\n--- Putting them together ---\\n\")\n",
    "\n",
    "tail.label_encoded = False\n",
    "siamese = Siamese(auxiliary=le_net, target=tail, weight_aux=0.3)\n",
    "# trainer = Trainer(nb_epochs=5)\n",
    "# trainer.fit(siamese, dl_train_all, dl_val_all)\n",
    "\n",
    "print(\"\\n--- Testing model ---\\n\")\n",
    "trainer.test(le_net, dl_test_class)\n",
    "trainer.test(siamese, dl_test_all)\n"
   ]
  }
 ]
}