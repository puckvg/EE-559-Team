{
 "metadata": {
  "language_info": {
   "codemirror_mode": {
    "name": "ipython",
    "version": 3
   },
   "file_extension": ".py",
   "mimetype": "text/x-python",
   "name": "python",
   "nbconvert_exporter": "python",
   "pygments_lexer": "ipython3",
   "version": "3.7.9"
  },
  "orig_nbformat": 2,
  "kernelspec": {
   "name": "python379jvsc74a57bd0551027d1b939ec0016f2e01e6bd6ac0e4699d2ec5e4974e783e9fca478101a51",
   "display_name": "Python 3.7.9 64-bit"
  }
 },
 "nbformat": 4,
 "nbformat_minor": 2,
 "cells": [
  {
   "source": [
    "# Pretraining both network parts seperatly"
   ],
   "cell_type": "markdown",
   "metadata": {}
  },
  {
   "cell_type": "code",
   "execution_count": 1,
   "metadata": {},
   "outputs": [],
   "source": [
    "from src.dlc_practical_prologue import generate_pair_sets\n",
    "from src.utils import load_class_data, load_target_data, load_all_data\n",
    "from src.models import *\n",
    "from src.trainer import Trainer\n",
    "import torch\n",
    "import matplotlib.pyplot as plt"
   ]
  },
  {
   "cell_type": "code",
   "execution_count": 2,
   "metadata": {},
   "outputs": [],
   "source": [
    "# Load data with class and larget than as targets\n",
    "dl_train_all, dl_val_all, dl_test_all = load_all_data()\n",
    "\n",
    "# Load data with class as target\n",
    "dl_train_class, dl_val_class, dl_test_class = load_class_data()"
   ]
  },
  {
   "cell_type": "code",
   "execution_count": 4,
   "metadata": {},
   "outputs": [
    {
     "output_type": "stream",
     "name": "stdout",
     "text": [
      "--- Pre-training tail model ---\n",
      "\n",
      "# Epoch 1/5:\t loss=0.66\t loss_val=0.61\t acc_val=87.5\n",
      "# Epoch 2/5:\t loss=0.51\t loss_val=0.39\t acc_val=96.88\n",
      "# Epoch 3/5:\t loss=0.26\t loss_val=0.17\t acc_val=96.88\n",
      "# Epoch 4/5:\t loss=0.1\t loss_val=0.07\t acc_val=100.0\n",
      "# Epoch 5/5:\t loss=0.05\t loss_val=0.04\t acc_val=100.0\n",
      "\n",
      "--- Pre-train classification model ---\n",
      "\n",
      "# Epoch 1/20:\t loss=1.59\t loss_val=0.68\t acc_val=82.93\n",
      "# Epoch 2/20:\t loss=0.52\t loss_val=0.35\t acc_val=89.18\n",
      "# Epoch 3/20:\t loss=0.32\t loss_val=0.24\t acc_val=91.11\n",
      "# Epoch 4/20:\t loss=0.21\t loss_val=0.25\t acc_val=93.03\n",
      "# Epoch 5/20:\t loss=0.16\t loss_val=0.18\t acc_val=94.47\n",
      "# Epoch 6/20:\t loss=0.12\t loss_val=0.15\t acc_val=94.23\n",
      "# Epoch 7/20:\t loss=0.09\t loss_val=0.15\t acc_val=95.19\n",
      "# Epoch 8/20:\t loss=0.07\t loss_val=0.15\t acc_val=94.71\n",
      "# Epoch 9/20:\t loss=0.04\t loss_val=0.16\t acc_val=94.23\n",
      "# Epoch 10/20:\t loss=0.04\t loss_val=0.14\t acc_val=94.95\n",
      "# Epoch 11/20:\t loss=0.03\t loss_val=0.15\t acc_val=95.67\n",
      "# Epoch 12/20:\t loss=0.03\t loss_val=0.13\t acc_val=96.63\n",
      "# Epoch 13/20:\t loss=0.06\t loss_val=0.14\t acc_val=96.63\n",
      "# Epoch 14/20:\t loss=0.02\t loss_val=0.17\t acc_val=94.95\n",
      "# Epoch 15/20:\t loss=0.01\t loss_val=0.12\t acc_val=96.39\n",
      "# Epoch 16/20:\t loss=0.01\t loss_val=0.14\t acc_val=95.91\n",
      "# Epoch 17/20:\t loss=0.01\t loss_val=0.16\t acc_val=96.39\n",
      "# Epoch 18/20:\t loss=0.0\t loss_val=0.15\t acc_val=96.15\n",
      "# Epoch 19/20:\t loss=0.01\t loss_val=0.15\t acc_val=96.15\n",
      "# Epoch 20/20:\t loss=0.0\t loss_val=0.14\t acc_val=96.39\n",
      "\n",
      "--- Putting them together ---\n",
      "\n",
      "\n",
      "--- Testing model ---\n",
      "\n",
      "loss_test=0.14\t acc_test=96.28\n",
      "loss_test=0.21\t acc_test=96.09\n"
     ]
    }
   ],
   "source": [
    "print(\"--- Pre-training tail model ---\\n\")\n",
    "\n",
    "tail = TailLinear(label_encoded=True)\n",
    "trainer = Trainer(nb_epochs=5, run='pretrained_seperatly_tailTraining')\n",
    "trainer.fit(tail, dl_train_all, dl_val_all)\n",
    "\n",
    "print(\"\\n--- Pre-train classification model ---\\n\")\n",
    "\n",
    "le_net = LeNet()\n",
    "trainer = Trainer(nb_epochs=20, run='pretrained_seperatly_headTraining')\n",
    "trainer.fit(le_net, dl_train_class, dl_val_class)\n",
    "\n",
    "# Putting them together\n",
    "siamese = Siamese(auxiliary=le_net, target=tail, weight_aux=0.3, softmax=False)\n",
    "# trainer = Trainer(nb_epochs=5)\n",
    "# trainer.fit(siamese, dl_train_all, dl_val_all)\n",
    "\n",
    "print(\"\\n--- Testing model ---\\n\")\n",
    "trainer.test(le_net, dl_test_class, return_acc=False)\n",
    "trainer.test(siamese, dl_test_all, return_acc=False)\n"
   ]
  },
  {
   "cell_type": "code",
   "execution_count": 6,
   "metadata": {},
   "outputs": [
    {
     "output_type": "stream",
     "name": "stdout",
     "text": [
      "Run 1/10\n",
      "loss_test=0.13\t acc_test=97.56\n",
      "Run 2/10\n",
      "loss_test=0.16\t acc_test=96.39\n",
      "Run 3/10\n",
      "loss_test=0.16\t acc_test=96.58\n",
      "Run 4/10\n",
      "loss_test=0.15\t acc_test=96.88\n",
      "Run 5/10\n",
      "loss_test=0.14\t acc_test=97.17\n",
      "Run 6/10\n",
      "loss_test=0.15\t acc_test=96.78\n",
      "Run 7/10\n",
      "loss_test=0.14\t acc_test=97.66\n",
      "Run 8/10\n",
      "loss_test=0.18\t acc_test=95.9\n",
      "Run 9/10\n",
      "loss_test=0.17\t acc_test=97.07\n",
      "Run 10/10\n",
      "loss_test=0.12\t acc_test=97.66\n"
     ]
    }
   ],
   "source": [
    "# Do the same, but 10 times\n",
    "results = []\n",
    "for i in range(10):\n",
    "    print(f\"Run {i+1}/10\")\n",
    "\n",
    "    # Load data with class and larget than as targets\n",
    "    dl_train_all, dl_val_all, dl_test_all = load_all_data()\n",
    "\n",
    "    # Load data with class as target\n",
    "    dl_train_class, dl_val_class, dl_test_class = load_class_data()\n",
    "\n",
    "    # Training tail model\n",
    "    tail = TailLinear(label_encoded=True)\n",
    "    trainer = Trainer(nb_epochs=5, run='pretrained_seperatly_tailTraining')\n",
    "    trainer.fit(tail, dl_train_all, dl_val_all, verbose=False)\n",
    "\n",
    "    # Training leNet\n",
    "    le_net = LeNet()\n",
    "    trainer = Trainer(nb_epochs=20, run='pretrained_seperatly_headTraining')\n",
    "    trainer.fit(le_net, dl_train_class, dl_val_class, verbose=False)\n",
    "\n",
    "    # Putting both together\n",
    "    siamese = Siamese(le_net, tail, softmax=False)\n",
    "\n",
    "    # Testing\n",
    "    acc = trainer.test(siamese, dl_test_all, test_verbose=True, return_acc=True)\n",
    "    results.extend([acc])"
   ]
  },
  {
   "cell_type": "code",
   "execution_count": 7,
   "metadata": {},
   "outputs": [
    {
     "output_type": "stream",
     "name": "stdout",
     "text": [
      "Average accuracy:   96.97\nStandard deviation: 0.58\n"
     ]
    }
   ],
   "source": [
    "# Print results\n",
    "results = torch.Tensor(results)\n",
    "print(\"Average accuracy:   {:.2f}\".format(results.mean()))\n",
    "print(\"Standard deviation: {:.2f}\".format(results.std()))"
   ]
  },
  {
   "cell_type": "code",
   "execution_count": null,
   "metadata": {},
   "outputs": [],
   "source": []
  }
 ]
}