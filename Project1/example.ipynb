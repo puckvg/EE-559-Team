{
 "metadata": {
  "language_info": {
   "codemirror_mode": {
    "name": "ipython",
    "version": 3
   },
   "file_extension": ".py",
   "mimetype": "text/x-python",
   "name": "python",
   "nbconvert_exporter": "python",
   "pygments_lexer": "ipython3",
   "version": "3.8.0-final"
  },
  "orig_nbformat": 2,
  "kernelspec": {
   "name": "python380jvsc74a57bd0aee8b7b246df8f9039afb4144a1f6fd8d2ca17a180786b69acc140d282b71a49",
   "display_name": "Python 3.8.0 64-bit"
  }
 },
 "nbformat": 4,
 "nbformat_minor": 2,
 "cells": [
  {
   "cell_type": "code",
   "execution_count": 1,
   "metadata": {},
   "outputs": [],
   "source": [
    "from src.dlc_practical_prologue import generate_pair_sets\n",
    "from src.utils import load_class_data, load_target_data, load_all_data\n",
    "from src.models import *\n",
    "from src.trainer import Trainer\n",
    "import matplotlib.pyplot as plt\n",
    "# To make tensorboard work one needs to install tensorboard, tensorboardx and tensorflow\n",
    "# If it doesn't work try to uninstall tb-nightly (solved the issue for me)\n",
    "%load_ext tensorboard"
   ]
  },
  {
   "source": [
    "# How to load data"
   ],
   "cell_type": "markdown",
   "metadata": {}
  },
  {
   "cell_type": "code",
   "execution_count": 2,
   "metadata": {},
   "outputs": [],
   "source": [
    "# Load data with class as target\n",
    "dl_train_class, dl_val_class, dl_test_class = load_class_data()\n",
    "\n",
    "# Load data with larger than as target\n",
    "dl_train_target, dl_val_target, dl_test_target = load_target_data()\n",
    "\n",
    "# Load data with class and larget than as targets\n",
    "dl_train_all, dl_val_all, dl_test_all = load_all_data()"
   ]
  },
  {
   "source": [
    "# How to use the trainer"
   ],
   "cell_type": "markdown",
   "metadata": {}
  },
  {
   "cell_type": "code",
   "execution_count": 3,
   "metadata": {},
   "outputs": [
    {
     "output_type": "stream",
     "name": "stdout",
     "text": [
      "# Epoch 1/10:\t loss=1.55\t loss_val=0.64\t acc_val=82.93\n",
      "# Epoch 2/10:\t loss=0.43\t loss_val=0.36\t acc_val=89.9\n",
      "# Epoch 3/10:\t loss=0.24\t loss_val=0.26\t acc_val=92.31\n",
      "# Epoch 4/10:\t loss=0.17\t loss_val=0.2\t acc_val=93.27\n",
      "# Epoch 5/10:\t loss=0.12\t loss_val=0.2\t acc_val=93.03\n",
      "# Epoch 6/10:\t loss=0.1\t loss_val=0.2\t acc_val=93.51\n",
      "# Epoch 7/10:\t loss=0.06\t loss_val=0.19\t acc_val=93.03\n",
      "# Epoch 8/10:\t loss=0.05\t loss_val=0.18\t acc_val=95.67\n",
      "# Epoch 9/10:\t loss=0.04\t loss_val=0.17\t acc_val=95.43\n",
      "# Epoch 10/10:\t loss=0.03\t loss_val=0.15\t acc_val=95.43\n",
      "loss_test=0.16\t acc_test=95.39\n"
     ]
    }
   ],
   "source": [
    "# Train simple network (digit classification)\n",
    "le_net = LeNet()\n",
    "trainer = Trainer(nb_epochs=10)\n",
    "\n",
    "trainer.fit(le_net, dl_train_class, dl_val_class)\n",
    "trainer.test(le_net, dl_test_class)"
   ]
  },
  {
   "cell_type": "code",
   "execution_count": 4,
   "metadata": {},
   "outputs": [
    {
     "output_type": "stream",
     "name": "stdout",
     "text": [
      "# Epoch 1/10:\t loss=1.82\t loss_val=0.53\t acc_val=70.54\n",
      "# Epoch 2/10:\t loss=1.09\t loss_val=0.44\t acc_val=75.45\n",
      "# Epoch 3/10:\t loss=0.76\t loss_val=0.39\t acc_val=82.14\n",
      "# Epoch 4/10:\t loss=0.57\t loss_val=0.36\t acc_val=82.59\n",
      "# Epoch 5/10:\t loss=0.46\t loss_val=0.37\t acc_val=84.82\n",
      "# Epoch 6/10:\t loss=0.36\t loss_val=0.37\t acc_val=84.82\n",
      "# Epoch 7/10:\t loss=0.31\t loss_val=0.38\t acc_val=83.93\n",
      "# Epoch 8/10:\t loss=0.25\t loss_val=0.44\t acc_val=82.14\n",
      "# Epoch 9/10:\t loss=0.22\t loss_val=0.41\t acc_val=84.38\n",
      "# Epoch 10/10:\t loss=0.17\t loss_val=0.45\t acc_val=82.59\n",
      "loss_test=0.37\t acc_test=86.33\n"
     ]
    }
   ],
   "source": [
    "# Train siamese network with lenet as auxiliary network\n",
    "\n",
    "# Can use any network with ten output nodes here\n",
    "le_net = LeNet()\n",
    "\n",
    "siamese_le_net = Siamese(le_net, weight_aux=0.3)\n",
    "trainer = Trainer(nb_epochs=10)\n",
    "\n",
    "trainer.fit(siamese_le_net, dl_train_all, dl_val_all)\n",
    "trainer.test(siamese_le_net, dl_test_all)"
   ]
  },
  {
   "cell_type": "code",
   "execution_count": 5,
   "metadata": {},
   "outputs": [
    {
     "output_type": "display_data",
     "data": {
      "text/plain": "Reusing TensorBoard on port 6006 (pid 34142), started 0:31:01 ago. (Use '!kill 34142' to kill it.)"
     },
     "metadata": {}
    }
   ],
   "source": [
    "# This should open the tensorboard with notebooks inline magic.\n",
    "# Doesn't work for me.\n",
    "# Instead one can open the tensorboard by typing the same command (without the '%') into the terminal.\n",
    "%tensorboard --logdir Project/runs"
   ]
  },
  {
   "cell_type": "code",
   "execution_count": null,
   "metadata": {},
   "outputs": [],
   "source": []
  }
 ]
}