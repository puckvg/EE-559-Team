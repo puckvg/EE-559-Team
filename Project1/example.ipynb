{
 "metadata": {
  "language_info": {
   "codemirror_mode": {
    "name": "ipython",
    "version": 3
   },
   "file_extension": ".py",
   "mimetype": "text/x-python",
   "name": "python",
   "nbconvert_exporter": "python",
   "pygments_lexer": "ipython3",
   "version": "3.8.0-final"
  },
  "orig_nbformat": 2,
  "kernelspec": {
   "name": "fs21_semester_project",
   "display_name": "fs21_semester_project",
   "language": "python"
  }
 },
 "nbformat": 4,
 "nbformat_minor": 2,
 "cells": [
  {
   "cell_type": "code",
   "execution_count": 1,
   "metadata": {},
   "outputs": [],
   "source": [
    "from src.dlc_practical_prologue import generate_pair_sets\n",
    "from src.utils import load_class_data, load_target_data, load_all_data\n",
    "from src.models import *\n",
    "from src.trainer import Trainer\n",
    "import matplotlib.pyplot as plt"
   ]
  },
  {
   "source": [
    "# How to load data"
   ],
   "cell_type": "markdown",
   "metadata": {}
  },
  {
   "cell_type": "code",
   "execution_count": 2,
   "metadata": {},
   "outputs": [],
   "source": [
    "# Load data with class as target\n",
    "dl_train_class, dl_val_class, dl_test_class = load_class_data()\n",
    "\n",
    "# Load data with larger than as target\n",
    "dl_train_target, dl_val_target, dl_test_target = load_target_data()\n",
    "\n",
    "# Load data with class and larget than as targets\n",
    "dl_train_all, dl_val_all, dl_test_all = load_all_data()"
   ]
  },
  {
   "source": [
    "# How to use the trainer"
   ],
   "cell_type": "markdown",
   "metadata": {}
  },
  {
   "cell_type": "code",
   "execution_count": 3,
   "metadata": {},
   "outputs": [
    {
     "output_type": "stream",
     "name": "stdout",
     "text": [
      "# Epoch 1/10:\t loss=2.52\t loss_val=0.38\t acc_val=88.94\n",
      "# Epoch 2/10:\t loss=0.36\t loss_val=0.26\t acc_val=91.83\n",
      "# Epoch 3/10:\t loss=0.2\t loss_val=0.18\t acc_val=94.47\n",
      "# Epoch 4/10:\t loss=0.15\t loss_val=0.31\t acc_val=91.35\n",
      "# Epoch 5/10:\t loss=0.13\t loss_val=0.19\t acc_val=93.99\n",
      "# Epoch 6/10:\t loss=0.06\t loss_val=0.15\t acc_val=94.71\n",
      "# Epoch 7/10:\t loss=0.04\t loss_val=0.24\t acc_val=94.71\n",
      "# Epoch 8/10:\t loss=0.02\t loss_val=0.19\t acc_val=95.67\n",
      "# Epoch 9/10:\t loss=0.02\t loss_val=0.2\t acc_val=93.51\n",
      "# Epoch 10/10:\t loss=0.04\t loss_val=0.18\t acc_val=95.43\n",
      "loss_test=0.21\t acc_test=94.15\n"
     ]
    }
   ],
   "source": [
    "# Train simple network (digit classification)\n",
    "le_net = LeNet()\n",
    "trainer = Trainer(nb_epochs=10)\n",
    "\n",
    "# We should probably split into validation set as well?\n",
    "trainer.fit(le_net, dl_train_class, dl_val_class)\n",
    "trainer.test(le_net, dl_test_class)"
   ]
  },
  {
   "cell_type": "code",
   "execution_count": 4,
   "metadata": {},
   "outputs": [
    {
     "output_type": "stream",
     "name": "stdout",
     "text": [
      "# Epoch 1/10:\t loss=4.69\t loss_val=0.66\t acc_val=63.84\n",
      "# Epoch 2/10:\t loss=1.2\t loss_val=0.59\t acc_val=66.96\n",
      "# Epoch 3/10:\t loss=0.77\t loss_val=0.53\t acc_val=70.98\n",
      "# Epoch 4/10:\t loss=0.55\t loss_val=0.44\t acc_val=78.12\n",
      "# Epoch 5/10:\t loss=0.43\t loss_val=0.44\t acc_val=80.8\n",
      "# Epoch 6/10:\t loss=0.35\t loss_val=0.38\t acc_val=84.82\n",
      "# Epoch 7/10:\t loss=0.28\t loss_val=0.41\t acc_val=82.14\n",
      "# Epoch 8/10:\t loss=0.23\t loss_val=0.4\t acc_val=84.38\n",
      "# Epoch 9/10:\t loss=0.16\t loss_val=0.42\t acc_val=83.93\n",
      "# Epoch 10/10:\t loss=0.14\t loss_val=0.44\t acc_val=83.93\n",
      "loss_test=0.47\t acc_test=82.32\n"
     ]
    }
   ],
   "source": [
    "# Train siamese network with lenet as auxiliary network\n",
    "\n",
    "# Can use any network with ten output nodes here\n",
    "le_net = LeNet()\n",
    "\n",
    "siamese_le_net = Siamese(le_net, weight_aux=0.3)\n",
    "trainer = Trainer(nb_epochs=10)\n",
    "\n",
    "trainer.fit(siamese_le_net, dl_train_all, dl_val_all)\n",
    "trainer.test(siamese_le_net, dl_test_all)"
   ]
  },
  {
   "cell_type": "code",
   "execution_count": null,
   "metadata": {},
   "outputs": [],
   "source": []
  }
 ]
}