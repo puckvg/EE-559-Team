{
 "metadata": {
  "language_info": {
   "codemirror_mode": {
    "name": "ipython",
    "version": 3
   },
   "file_extension": ".py",
   "mimetype": "text/x-python",
   "name": "python",
   "nbconvert_exporter": "python",
   "pygments_lexer": "ipython3",
   "version": "3.8.0-final"
  },
  "orig_nbformat": 2,
  "kernelspec": {
   "name": "python380jvsc74a57bd0aee8b7b246df8f9039afb4144a1f6fd8d2ca17a180786b69acc140d282b71a49",
   "display_name": "Python 3.8.0 64-bit"
  }
 },
 "nbformat": 4,
 "nbformat_minor": 2,
 "cells": [
  {
   "cell_type": "code",
   "execution_count": 1,
   "metadata": {},
   "outputs": [],
   "source": [
    "from src.dlc_practical_prologue import generate_pair_sets\n",
    "from src.utils import load_class_data, load_target_data, load_all_data\n",
    "from src.models import *\n",
    "from src.trainer import Trainer\n",
    "import matplotlib.pyplot as plt\n",
    "# To make tensorboard work one needs to install tensorboard, tensorboardx and tensorflow\n",
    "# If it doesn't work try to uninstall tb-nightly (solved the issue for me)\n",
    "%load_ext tensorboard"
   ]
  },
  {
   "source": [
    "# How to load data"
   ],
   "cell_type": "markdown",
   "metadata": {}
  },
  {
   "cell_type": "code",
   "execution_count": 2,
   "metadata": {},
   "outputs": [],
   "source": [
    "# Load data with class as target\n",
    "dl_train_class, dl_val_class, dl_test_class = load_class_data()\n",
    "\n",
    "# Load data with larger than as target\n",
    "dl_train_target, dl_val_target, dl_test_target = load_target_data()\n",
    "\n",
    "# Load data with class and larget than as targets\n",
    "dl_train_all, dl_val_all, dl_test_all = load_all_data()"
   ]
  },
  {
   "source": [
    "# How to use the trainer"
   ],
   "cell_type": "markdown",
   "metadata": {}
  },
  {
   "cell_type": "code",
   "execution_count": 3,
   "metadata": {},
   "outputs": [
    {
     "output_type": "stream",
     "name": "stdout",
     "text": [
      "# Epoch 1/2:\t loss=1.51\t loss_val=0.7\t acc_val=79.09\n",
      "# Epoch 2/2:\t loss=0.41\t loss_val=0.4\t acc_val=88.46\n",
      "loss_test=0.33\t acc_test=89.58\n"
     ]
    },
    {
     "output_type": "execute_result",
     "data": {
      "text/plain": [
       "89.58"
      ]
     },
     "metadata": {},
     "execution_count": 3
    }
   ],
   "source": [
    "# Train simple network (digit classification)\n",
    "le_net = LeNet()\n",
    "trainer = Trainer(nb_epochs=2, run='lenet_digit_classification_experiment_1')\n",
    "\n",
    "trainer.fit(le_net, dl_train_class, dl_val_class)\n",
    "trainer.test(le_net, dl_test_class)"
   ]
  },
  {
   "cell_type": "code",
   "execution_count": 5,
   "metadata": {},
   "outputs": [
    {
     "output_type": "stream",
     "name": "stdout",
     "text": [
      "# Epoch 1/5:\t loss=0.66\t loss_val=0.58\t acc_val=74.11\n",
      "# Epoch 2/5:\t loss=0.5\t loss_val=0.35\t acc_val=94.64\n",
      "# Epoch 3/5:\t loss=0.25\t loss_val=0.14\t acc_val=99.55\n",
      "# Epoch 4/5:\t loss=0.11\t loss_val=0.06\t acc_val=99.55\n",
      "# Epoch 5/5:\t loss=0.06\t loss_val=0.03\t acc_val=100.0\n"
     ]
    },
    {
     "output_type": "execute_result",
     "data": {
      "text/plain": [
       "([0.66, 0.5, 0.25, 0.11, 0.06],\n",
       " [63.38, 85.5, 96.62, 98.75, 99.75],\n",
       " [74.11, 94.64, 99.55, 99.55, 100.0])"
      ]
     },
     "metadata": {},
     "execution_count": 5
    }
   ],
   "source": [
    "# Train simple network (arithmetic operation classification)\n",
    "tail = TailLinear(label_encoded=True)\n",
    "trainer = Trainer(nb_epochs=5, run='tail_net_arithmetic_classification_experiment_1')\n",
    "trainer.fit(tail, dl_train_all, dl_val_all)"
   ]
  },
  {
   "cell_type": "code",
   "execution_count": 3,
   "metadata": {},
   "outputs": [
    {
     "output_type": "stream",
     "name": "stdout",
     "text": [
      "# Epoch 1/25:\t loss=1.36\t loss_val=0.68\t acc_val=57.14\n",
      "# Epoch 2/25:\t loss=1.24\t loss_val=0.6\t acc_val=80.36\n",
      "# Epoch 3/25:\t loss=1.08\t loss_val=0.45\t acc_val=82.14\n",
      "# Epoch 4/25:\t loss=0.91\t loss_val=0.35\t acc_val=85.27\n",
      "# Epoch 5/25:\t loss=0.85\t loss_val=0.31\t acc_val=89.29\n",
      "# Epoch 6/25:\t loss=0.79\t loss_val=0.31\t acc_val=89.29\n",
      "# Epoch 7/25:\t loss=0.78\t loss_val=0.3\t acc_val=89.73\n",
      "# Epoch 8/25:\t loss=0.73\t loss_val=0.32\t acc_val=88.39\n",
      "# Epoch 9/25:\t loss=0.7\t loss_val=0.3\t acc_val=89.29\n",
      "# Epoch 10/25:\t loss=0.69\t loss_val=0.31\t acc_val=87.5\n",
      "# Epoch 11/25:\t loss=0.69\t loss_val=0.29\t acc_val=88.84\n",
      "# Epoch 12/25:\t loss=0.67\t loss_val=0.23\t acc_val=91.52\n",
      "# Epoch 13/25:\t loss=0.68\t loss_val=0.26\t acc_val=89.73\n",
      "# Epoch 14/25:\t loss=0.66\t loss_val=0.27\t acc_val=89.73\n",
      "# Epoch 15/25:\t loss=0.67\t loss_val=0.28\t acc_val=89.29\n",
      "# Epoch 16/25:\t loss=0.66\t loss_val=0.26\t acc_val=90.18\n",
      "# Epoch 17/25:\t loss=0.65\t loss_val=0.3\t acc_val=89.29\n",
      "# Epoch 18/25:\t loss=0.65\t loss_val=0.27\t acc_val=89.73\n",
      "# Epoch 19/25:\t loss=0.65\t loss_val=0.24\t acc_val=90.62\n",
      "# Epoch 20/25:\t loss=0.65\t loss_val=0.27\t acc_val=89.73\n",
      "# Epoch 21/25:\t loss=0.64\t loss_val=0.25\t acc_val=90.62\n",
      "# Epoch 22/25:\t loss=0.64\t loss_val=0.25\t acc_val=90.62\n",
      "# Epoch 23/25:\t loss=0.66\t loss_val=0.26\t acc_val=91.07\n",
      "# Epoch 24/25:\t loss=0.67\t loss_val=0.24\t acc_val=92.86\n",
      "# Epoch 25/25:\t loss=0.66\t loss_val=0.28\t acc_val=91.07\n",
      "loss_test=0.31\t acc_test=89.26\n"
     ]
    },
    {
     "output_type": "execute_result",
     "data": {
      "text/plain": [
       "89.26"
      ]
     },
     "metadata": {},
     "execution_count": 3
    }
   ],
   "source": [
    "# Train siamese network with lenet as auxiliary network\n",
    "\n",
    "# Can use any network with ten output nodes here\n",
    "le_net = LeNet()\n",
    "tail_net = TailLinear(label_encoded=True)\n",
    "siamese_le_net = Siamese(le_net, target=tail_net, weight_aux=0.3, strategy='sum')\n",
    "trainer = Trainer(nb_epochs=25, run='siamese_net_target_classification_summed_loss')\n",
    "\n",
    "trainer.fit(siamese_le_net, dl_train_all, dl_val_all)\n",
    "trainer.test(siamese_le_net, dl_test_all)"
   ]
  },
  {
   "cell_type": "code",
   "execution_count": 5,
   "metadata": {},
   "outputs": [
    {
     "output_type": "display_data",
     "data": {
      "text/plain": "Reusing TensorBoard on port 6006 (pid 34142), started 0:37:15 ago. (Use '!kill 34142' to kill it.)"
     },
     "metadata": {}
    }
   ],
   "source": [
    "# This should open the tensorboard with notebooks inline magic.\n",
    "# Doesn't work for me.\n",
    "# Instead one can open the tensorboard by typing the same command (without the '%') into the terminal.\n",
    "%tensorboard --logdir Project/runs"
   ]
  }
 ]
}