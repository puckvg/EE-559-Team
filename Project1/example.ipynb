{
 "cells": [
  {
   "cell_type": "code",
   "execution_count": 1,
   "metadata": {},
   "outputs": [],
   "source": [
    "from src.dlc_practical_prologue import generate_pair_sets\n",
    "from src.utils import load_class_data, load_target_data, load_all_data\n",
    "from src.models import *\n",
    "from src.trainer import Trainer\n",
    "import matplotlib.pyplot as plt\n",
    "# To make tensorboard work one needs to install tensorboard, tensorboardx and tensorflow\n",
    "# If it doesn't work try to uninstall tb-nightly (solved the issue for me)\n",
    "%load_ext tensorboard"
   ]
  },
  {
   "cell_type": "markdown",
   "metadata": {},
   "source": [
    "# How to load data"
   ]
  },
  {
   "cell_type": "code",
   "execution_count": 2,
   "metadata": {},
   "outputs": [],
   "source": [
    "# Load data with class as target\n",
    "dl_train_class, dl_val_class, dl_test_class = load_class_data()\n",
    "\n",
    "# Load data with larger than as target\n",
    "dl_train_target, dl_val_target, dl_test_target = load_target_data()\n",
    "\n",
    "# Load data with class and larget than as targets\n",
    "dl_train_all, dl_val_all, dl_test_all = load_all_data()"
   ]
  },
  {
   "cell_type": "markdown",
   "metadata": {},
   "source": [
    "# How to use the trainer"
   ]
  },
  {
   "cell_type": "code",
   "execution_count": 3,
   "metadata": {},
   "outputs": [
    {
     "name": "stdout",
     "output_type": "stream",
     "text": [
      "# Epoch 1/2:\t loss=1.65\t loss_val=0.66\t acc_val=84.62\n",
      "# Epoch 2/2:\t loss=0.48\t loss_val=0.29\t acc_val=91.83\n",
      "loss_test=0.34\t acc_test=89.98\n"
     ]
    },
    {
     "data": {
      "text/plain": [
       "89.98"
      ]
     },
     "execution_count": 3,
     "metadata": {},
     "output_type": "execute_result"
    }
   ],
   "source": [
    "# Train simple network (digit classification)\n",
    "le_net = LeNet()\n",
    "trainer = Trainer(nb_epochs=2, run='lenet_digit_classification_experiment_1')\n",
    "\n",
    "trainer.fit(le_net, dl_train_class, dl_val_class)\n",
    "trainer.test(le_net, dl_test_class)"
   ]
  },
  {
   "cell_type": "code",
   "execution_count": 4,
   "metadata": {},
   "outputs": [
    {
     "name": "stdout",
     "output_type": "stream",
     "text": [
      "# Epoch 1/5:\t loss=0.66\t loss_val=0.6\t acc_val=81.25\n",
      "# Epoch 2/5:\t loss=0.52\t loss_val=0.37\t acc_val=94.2\n",
      "# Epoch 3/5:\t loss=0.26\t loss_val=0.15\t acc_val=99.11\n",
      "# Epoch 4/5:\t loss=0.11\t loss_val=0.07\t acc_val=99.55\n",
      "# Epoch 5/5:\t loss=0.05\t loss_val=0.04\t acc_val=100.0\n"
     ]
    },
    {
     "data": {
      "text/plain": [
       "([0.66, 0.52, 0.26, 0.11, 0.05],\n",
       " [62.62, 90.25, 96.88, 99.12, 99.88],\n",
       " [81.25, 94.2, 99.11, 99.55, 100.0])"
      ]
     },
     "execution_count": 4,
     "metadata": {},
     "output_type": "execute_result"
    }
   ],
   "source": [
    "# Train simple network (arithmetic operation classification)\n",
    "tail = TailLinear(label_encoded=True)\n",
    "trainer = Trainer(nb_epochs=5, run='tail_net_arithmetic_classification_experiment_1')\n",
    "trainer.fit(tail, dl_train_all, dl_val_all)"
   ]
  },
  {
   "cell_type": "code",
   "execution_count": 5,
   "metadata": {},
   "outputs": [
    {
     "name": "stdout",
     "output_type": "stream",
     "text": [
      "# Epoch 1/25:\t loss=1.25\t loss_val=0.6\t acc_val=75.89\n",
      "# Epoch 2/25:\t loss=0.75\t loss_val=0.4\t acc_val=80.36\n",
      "# Epoch 3/25:\t loss=0.51\t loss_val=0.31\t acc_val=87.05\n",
      "# Epoch 4/25:\t loss=0.37\t loss_val=0.31\t acc_val=87.05\n",
      "# Epoch 5/25:\t loss=0.3\t loss_val=0.33\t acc_val=87.5\n",
      "# Epoch 6/25:\t loss=0.23\t loss_val=0.25\t acc_val=90.62\n",
      "# Epoch 7/25:\t loss=0.17\t loss_val=0.28\t acc_val=91.07\n",
      "# Epoch 8/25:\t loss=0.1\t loss_val=0.3\t acc_val=91.07\n",
      "# Epoch 9/25:\t loss=0.08\t loss_val=0.31\t acc_val=92.86\n",
      "# Epoch 10/25:\t loss=0.05\t loss_val=0.41\t acc_val=91.52\n",
      "# Epoch 11/25:\t loss=0.05\t loss_val=0.42\t acc_val=91.07\n",
      "# Epoch 12/25:\t loss=0.05\t loss_val=0.38\t acc_val=91.07\n",
      "# Epoch 13/25:\t loss=0.07\t loss_val=0.61\t acc_val=90.18\n",
      "# Epoch 14/25:\t loss=0.15\t loss_val=0.59\t acc_val=87.5\n",
      "# Epoch 15/25:\t loss=0.1\t loss_val=0.36\t acc_val=91.07\n",
      "# Epoch 16/25:\t loss=0.06\t loss_val=0.44\t acc_val=91.07\n",
      "# Epoch 17/25:\t loss=0.03\t loss_val=0.47\t acc_val=91.07\n",
      "# Epoch 18/25:\t loss=0.03\t loss_val=0.47\t acc_val=91.07\n",
      "# Epoch 19/25:\t loss=0.02\t loss_val=0.48\t acc_val=92.41\n",
      "# Epoch 20/25:\t loss=0.02\t loss_val=0.49\t acc_val=92.41\n",
      "# Epoch 21/25:\t loss=0.02\t loss_val=0.49\t acc_val=91.96\n",
      "# Epoch 22/25:\t loss=0.01\t loss_val=0.5\t acc_val=91.52\n",
      "# Epoch 23/25:\t loss=0.01\t loss_val=0.52\t acc_val=93.3\n",
      "# Epoch 24/25:\t loss=0.01\t loss_val=0.52\t acc_val=91.96\n",
      "# Epoch 25/25:\t loss=0.01\t loss_val=0.52\t acc_val=91.96\n",
      "loss_test=0.52\t acc_test=89.36\n"
     ]
    },
    {
     "data": {
      "text/plain": [
       "89.36"
      ]
     },
     "execution_count": 5,
     "metadata": {},
     "output_type": "execute_result"
    }
   ],
   "source": [
    "# Train siamese network with lenet as auxiliary network\n",
    "\n",
    "# Can use any network with ten output nodes here\n",
    "le_net = LeNet()\n",
    "tail_net = TailLinear(label_encoded=False)\n",
    "siamese_le_net = Siamese(le_net, target=tail_net, weight_aux=0.3, strategy='sum', \n",
    "                        softmax=False, argmax=False)\n",
    "trainer = Trainer(nb_epochs=25, run='siamese_net_target_classification_summed_loss')\n",
    "\n",
    "trainer.fit(siamese_le_net, dl_train_all, dl_val_all)\n",
    "trainer.test(siamese_le_net, dl_test_all)"
   ]
  },
  {
   "cell_type": "code",
   "execution_count": 6,
   "metadata": {},
   "outputs": [
    {
     "data": {
      "text/html": [
       "\n",
       "      <iframe id=\"tensorboard-frame-ad42d0df5722e81\" width=\"100%\" height=\"800\" frameborder=\"0\">\n",
       "      </iframe>\n",
       "      <script>\n",
       "        (function() {\n",
       "          const frame = document.getElementById(\"tensorboard-frame-ad42d0df5722e81\");\n",
       "          const url = new URL(\"/\", window.location);\n",
       "          const port = 6006;\n",
       "          if (port) {\n",
       "            url.port = port;\n",
       "          }\n",
       "          frame.src = url;\n",
       "        })();\n",
       "      </script>\n",
       "    "
      ],
      "text/plain": [
       "<IPython.core.display.HTML object>"
      ]
     },
     "metadata": {},
     "output_type": "display_data"
    }
   ],
   "source": [
    "# This should open the tensorboard with notebooks inline magic.\n",
    "# Doesn't work for me.\n",
    "# Instead one can open the tensorboard by typing the same command (without the '%') into the terminal.\n",
    "%tensorboard --logdir Project/runs"
   ]
  },
  {
   "cell_type": "code",
   "execution_count": null,
   "metadata": {},
   "outputs": [],
   "source": []
  }
 ],
 "metadata": {
  "kernelspec": {
   "display_name": "Python 3",
   "language": "python",
   "name": "python3"
  },
  "language_info": {
   "codemirror_mode": {
    "name": "ipython",
    "version": 3
   },
   "file_extension": ".py",
   "mimetype": "text/x-python",
   "name": "python",
   "nbconvert_exporter": "python",
   "pygments_lexer": "ipython3",
   "version": "3.8.3"
  }
 },
 "nbformat": 4,
 "nbformat_minor": 2
}
