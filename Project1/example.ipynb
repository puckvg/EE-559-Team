{
 "metadata": {
  "language_info": {
   "codemirror_mode": {
    "name": "ipython",
    "version": 3
   },
   "file_extension": ".py",
   "mimetype": "text/x-python",
   "name": "python",
   "nbconvert_exporter": "python",
   "pygments_lexer": "ipython3",
   "version": "3.8.0-final"
  },
  "orig_nbformat": 2,
  "kernelspec": {
   "name": "fs21_semester_project",
   "display_name": "fs21_semester_project",
   "language": "python"
  }
 },
 "nbformat": 4,
 "nbformat_minor": 2,
 "cells": [
  {
   "cell_type": "code",
   "execution_count": 1,
   "metadata": {},
   "outputs": [],
   "source": [
    "from src.dlc_practical_prologue import generate_pair_sets\n",
    "from src.utils import load_class_data, load_target_data, load_all_data\n",
    "from src.models import *\n",
    "from src.trainer import Trainer\n",
    "import matplotlib.pyplot as plt"
   ]
  },
  {
   "source": [
    "# How to load data"
   ],
   "cell_type": "markdown",
   "metadata": {}
  },
  {
   "cell_type": "code",
   "execution_count": 2,
   "metadata": {},
   "outputs": [],
   "source": [
    "# Load data with class as target\n",
    "dl_train_class, dl_test_class = load_class_data()\n",
    "\n",
    "# Load data with larger than as target\n",
    "dl_train_target, dl_test_target = load_target_data()\n",
    "\n",
    "# Load data with class and larget than as targets\n",
    "dl_train_all, dl_test_all = load_all_data()"
   ]
  },
  {
   "source": [
    "# How to use the trainer"
   ],
   "cell_type": "markdown",
   "metadata": {}
  },
  {
   "cell_type": "code",
   "execution_count": 10,
   "metadata": {},
   "outputs": [
    {
     "output_type": "stream",
     "name": "stdout",
     "text": [
      "# Epoch 1/10:\t loss=2.19\t loss_val=0.41\t acc_val=87.45\n",
      "# Epoch 2/10:\t loss=0.3\t loss_val=0.31\t acc_val=90.58\n",
      "# Epoch 3/10:\t loss=0.19\t loss_val=0.35\t acc_val=89.88\n",
      "# Epoch 4/10:\t loss=0.14\t loss_val=0.34\t acc_val=89.83\n",
      "# Epoch 5/10:\t loss=0.1\t loss_val=0.25\t acc_val=92.01\n",
      "# Epoch 6/10:\t loss=0.04\t loss_val=0.22\t acc_val=94.44\n",
      "# Epoch 7/10:\t loss=0.02\t loss_val=0.2\t acc_val=94.49\n",
      "# Epoch 8/10:\t loss=0.02\t loss_val=0.18\t acc_val=95.29\n",
      "# Epoch 9/10:\t loss=0.01\t loss_val=0.18\t acc_val=95.19\n",
      "# Epoch 10/10:\t loss=0.0\t loss_val=0.15\t acc_val=95.93\n",
      "loss_test=0.15\t acc_test=95.93\n"
     ]
    }
   ],
   "source": [
    "# Train simple network (digit classification)\n",
    "le_net = LeNet()\n",
    "trainer = Trainer(nb_epochs=10)\n",
    "\n",
    "# We should probably split into validation set as well?\n",
    "trainer.fit(le_net, dl_train_class, dl_test_class)\n",
    "trainer.test(le_net, dl_test_class)"
   ]
  },
  {
   "cell_type": "code",
   "execution_count": 4,
   "metadata": {},
   "outputs": [
    {
     "output_type": "stream",
     "name": "stdout",
     "text": [
      "# Epoch 1/10:\t loss=3.46\t loss_val=0.52\t acc_val=74.51\n",
      "# Epoch 2/10:\t loss=0.93\t loss_val=0.47\t acc_val=77.73\n",
      "# Epoch 3/10:\t loss=0.64\t loss_val=0.43\t acc_val=79.69\n",
      "# Epoch 4/10:\t loss=0.52\t loss_val=0.42\t acc_val=80.37\n",
      "# Epoch 5/10:\t loss=0.44\t loss_val=0.35\t acc_val=83.69\n",
      "# Epoch 6/10:\t loss=0.34\t loss_val=0.36\t acc_val=83.98\n",
      "# Epoch 7/10:\t loss=0.27\t loss_val=0.41\t acc_val=83.2\n",
      "# Epoch 8/10:\t loss=0.2\t loss_val=0.39\t acc_val=83.5\n",
      "# Epoch 9/10:\t loss=0.17\t loss_val=0.4\t acc_val=83.5\n",
      "# Epoch 10/10:\t loss=0.11\t loss_val=0.4\t acc_val=85.45\n",
      "loss_test=0.4\t acc_test=85.45\n"
     ]
    }
   ],
   "source": [
    "# Train siamese network with lenet as auxiliary network\n",
    "\n",
    "# Can use any network with ten output nodes here\n",
    "le_net = LeNet()\n",
    "\n",
    "siamese_le_net = Siamese(le_net, weight_aux=0.3)\n",
    "trainer = Trainer(nb_epochs=10)\n",
    "\n",
    "trainer.fit(siamese_le_net, dl_train_all, dl_test_all)\n",
    "trainer.test(siamese_le_net, dl_test_all)"
   ]
  },
  {
   "cell_type": "code",
   "execution_count": null,
   "metadata": {},
   "outputs": [],
   "source": []
  }
 ]
}