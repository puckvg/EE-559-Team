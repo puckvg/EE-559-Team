{
 "cells": [
  {
   "cell_type": "markdown",
   "metadata": {},
   "source": [
    "# Pretraining both network parts seperatly"
   ]
  },
  {
   "cell_type": "code",
   "execution_count": 1,
   "metadata": {},
   "outputs": [],
   "source": [
    "from src.dlc_practical_prologue import generate_pair_sets\n",
    "from src.utils import load_class_data, load_target_data, load_all_data\n",
    "from src.models import *\n",
    "from src.trainer import Trainer\n",
    "import torch\n",
    "import matplotlib.pyplot as plt"
   ]
  },
  {
   "cell_type": "code",
   "execution_count": 2,
   "metadata": {},
   "outputs": [],
   "source": [
    "# Load data with class and larget than as targets\n",
    "dl_train_all, dl_val_all, dl_test_all = load_all_data()\n",
    "\n",
    "# Load data with class as target\n",
    "dl_train_class, dl_val_class, dl_test_class = load_class_data()"
   ]
  },
  {
   "cell_type": "code",
   "execution_count": 3,
   "metadata": {},
   "outputs": [
    {
     "name": "stdout",
     "output_type": "stream",
     "text": [
      "--- Pre-training tail model ---\n",
      "\n",
      "# Epoch 1/5:\t loss=0.67\t loss_val=0.61\t acc_val=77.68\n",
      "# Epoch 2/5:\t loss=0.54\t loss_val=0.39\t acc_val=95.09\n",
      "# Epoch 3/5:\t loss=0.3\t loss_val=0.17\t acc_val=100.0\n",
      "# Epoch 4/5:\t loss=0.13\t loss_val=0.08\t acc_val=100.0\n",
      "# Epoch 5/5:\t loss=0.06\t loss_val=0.04\t acc_val=100.0\n",
      "\n",
      "--- Pre-train classification model ---\n",
      "\n",
      "# Epoch 1/20:\t loss=1.65\t loss_val=0.67\t acc_val=84.13\n",
      "# Epoch 2/20:\t loss=0.48\t loss_val=0.3\t acc_val=91.35\n",
      "# Epoch 3/20:\t loss=0.31\t loss_val=0.2\t acc_val=94.23\n",
      "# Epoch 4/20:\t loss=0.22\t loss_val=0.17\t acc_val=94.95\n",
      "# Epoch 5/20:\t loss=0.18\t loss_val=0.15\t acc_val=95.19\n",
      "# Epoch 6/20:\t loss=0.13\t loss_val=0.14\t acc_val=94.71\n",
      "# Epoch 7/20:\t loss=0.11\t loss_val=0.13\t acc_val=95.67\n",
      "# Epoch 8/20:\t loss=0.09\t loss_val=0.11\t acc_val=96.15\n",
      "# Epoch 9/20:\t loss=0.07\t loss_val=0.1\t acc_val=96.39\n",
      "# Epoch 10/20:\t loss=0.05\t loss_val=0.09\t acc_val=97.36\n",
      "# Epoch 11/20:\t loss=0.05\t loss_val=0.15\t acc_val=94.23\n",
      "# Epoch 12/20:\t loss=0.05\t loss_val=0.09\t acc_val=96.63\n",
      "# Epoch 13/20:\t loss=0.02\t loss_val=0.08\t acc_val=97.12\n",
      "# Epoch 14/20:\t loss=0.02\t loss_val=0.08\t acc_val=97.36\n",
      "# Epoch 15/20:\t loss=0.02\t loss_val=0.08\t acc_val=96.88\n",
      "# Epoch 16/20:\t loss=0.01\t loss_val=0.09\t acc_val=96.63\n",
      "# Epoch 17/20:\t loss=0.01\t loss_val=0.09\t acc_val=97.12\n",
      "# Epoch 18/20:\t loss=0.01\t loss_val=0.09\t acc_val=96.63\n",
      "# Epoch 19/20:\t loss=0.01\t loss_val=0.09\t acc_val=96.63\n",
      "# Epoch 20/20:\t loss=0.01\t loss_val=0.09\t acc_val=97.6\n",
      "\n",
      "--- Testing model ---\n",
      "\n",
      "loss_test=0.16\t acc_test=95.44\n",
      "loss_test=0.17\t acc_test=96.39\n"
     ]
    }
   ],
   "source": [
    "print(\"--- Pre-training tail model ---\\n\")\n",
    "\n",
    "tail = TailLinear(label_encoded=True)\n",
    "trainer = Trainer(nb_epochs=5, run='pretrained_seperatly_tailTraining')\n",
    "trainer.fit(tail, dl_train_all, dl_val_all)\n",
    "\n",
    "print(\"\\n--- Pre-train classification model ---\\n\")\n",
    "\n",
    "le_net = LeNet()\n",
    "trainer = Trainer(nb_epochs=20, run='pretrained_seperatly_headTraining')\n",
    "trainer.fit(le_net, dl_train_class, dl_val_class)\n",
    "\n",
    "# Putting them together\n",
    "siamese = Siamese(auxiliary=le_net, target=tail, weight_aux=0.3, softmax=False)\n",
    "# trainer = Trainer(nb_epochs=5)\n",
    "# trainer.fit(siamese, dl_train_all, dl_val_all)\n",
    "\n",
    "print(\"\\n--- Testing model ---\\n\")\n",
    "trainer.test(le_net, dl_test_class, return_acc=False)\n",
    "trainer.test(siamese, dl_test_all, return_acc=False)\n"
   ]
  },
  {
   "cell_type": "code",
   "execution_count": 4,
   "metadata": {},
   "outputs": [
    {
     "name": "stdout",
     "output_type": "stream",
     "text": [
      "Run 1/10\n",
      "loss_test=0.14\t acc_test=97.36\n",
      "Run 2/10\n",
      "loss_test=0.14\t acc_test=97.17\n",
      "Run 3/10\n",
      "loss_test=0.13\t acc_test=97.95\n",
      "Run 4/10\n",
      "loss_test=0.12\t acc_test=97.17\n",
      "Run 5/10\n",
      "loss_test=0.16\t acc_test=97.17\n",
      "Run 6/10\n",
      "loss_test=0.17\t acc_test=96.68\n",
      "Run 7/10\n",
      "loss_test=0.12\t acc_test=98.14\n",
      "Run 8/10\n",
      "loss_test=0.17\t acc_test=96.88\n",
      "Run 9/10\n",
      "loss_test=0.14\t acc_test=97.07\n",
      "Run 10/10\n",
      "loss_test=0.13\t acc_test=97.75\n"
     ]
    }
   ],
   "source": [
    "# Do the same, but 10 times\n",
    "results = []\n",
    "for i in range(10):\n",
    "    print(f\"Run {i+1}/10\")\n",
    "\n",
    "    # Load data with class and larget than as targets\n",
    "    dl_train_all, dl_val_all, dl_test_all = load_all_data()\n",
    "\n",
    "    # Load data with class as target\n",
    "    dl_train_class, dl_val_class, dl_test_class = load_class_data()\n",
    "\n",
    "    # Training tail model\n",
    "    tail = TailLinear(label_encoded=True)\n",
    "    trainer = Trainer(nb_epochs=5, run='pretrained_seperatly_tailTraining')\n",
    "    trainer.fit(tail, dl_train_all, dl_val_all, verbose=False)\n",
    "\n",
    "    # Training leNet\n",
    "    le_net = LeNet()\n",
    "    trainer = Trainer(nb_epochs=20, run='pretrained_seperatly_headTraining')\n",
    "    trainer.fit(le_net, dl_train_class, dl_val_class, verbose=False)\n",
    "\n",
    "    # Putting both together\n",
    "    siamese = Siamese(le_net, tail, softmax=False)\n",
    "\n",
    "    # Testing\n",
    "    acc = trainer.test(siamese, dl_test_all, test_verbose=True, return_acc=True)\n",
    "    results.extend([acc])"
   ]
  },
  {
   "cell_type": "code",
   "execution_count": 7,
   "metadata": {},
   "outputs": [
    {
     "name": "stdout",
     "output_type": "stream",
     "text": [
      "Average accuracy:   96.97\n",
      "Standard deviation: 0.58\n"
     ]
    }
   ],
   "source": [
    "# Print results\n",
    "results = torch.Tensor(results)\n",
    "print(\"Average accuracy:   {:.2f}\".format(results.mean()))\n",
    "print(\"Standard deviation: {:.2f}\".format(results.std()))"
   ]
  },
  {
   "cell_type": "code",
   "execution_count": null,
   "metadata": {},
   "outputs": [],
   "source": []
  }
 ],
 "metadata": {
  "kernelspec": {
   "display_name": "Python 3",
   "language": "python",
   "name": "python3"
  },
  "language_info": {
   "codemirror_mode": {
    "name": "ipython",
    "version": 3
   },
   "file_extension": ".py",
   "mimetype": "text/x-python",
   "name": "python",
   "nbconvert_exporter": "python",
   "pygments_lexer": "ipython3",
   "version": "3.8.3"
  }
 },
 "nbformat": 4,
 "nbformat_minor": 2
}
