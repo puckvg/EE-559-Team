{
 "cells": [
  {
   "cell_type": "code",
   "execution_count": 1,
   "metadata": {},
   "outputs": [],
   "source": [
    "from src.dlc_practical_prologue import generate_pair_sets\n",
    "from src.utils import load_class_data, load_target_data, load_all_data\n",
    "from src.models import *\n",
    "from src.trainer import Trainer\n",
    "import matplotlib.pyplot as plt\n",
    "import numpy as np"
   ]
  },
  {
   "cell_type": "markdown",
   "metadata": {},
   "source": [
    "# Load data"
   ]
  },
  {
   "cell_type": "code",
   "execution_count": 2,
   "metadata": {},
   "outputs": [],
   "source": [
    "dl_train_all, dl_val_all, dl_test_all = load_all_data(normalize=True)"
   ]
  },
  {
   "cell_type": "markdown",
   "metadata": {},
   "source": [
    "# Train / Test"
   ]
  },
  {
   "cell_type": "markdown",
   "metadata": {},
   "source": [
    "## Params"
   ]
  },
  {
   "cell_type": "code",
   "execution_count": 3,
   "metadata": {},
   "outputs": [],
   "source": [
    "le_net = LeNet()\n",
    "\n",
    "# Can use any network with ten input and two output nodes here\n",
    "tail_net = nn.Linear(20, 2)\n",
    "\n",
    "nb_epochs = 25\n",
    "n_cv = 10 \n",
    "n_cv_weight = 5"
   ]
  },
  {
   "cell_type": "markdown",
   "metadata": {},
   "source": [
    "## Hyperparam opt the weight \n",
    "- Can skip and use result if using same architecture"
   ]
  },
  {
   "cell_type": "code",
   "execution_count": 4,
   "metadata": {},
   "outputs": [],
   "source": [
    "weights = np.linspace(0.1, 1, 10)"
   ]
  },
  {
   "cell_type": "code",
   "execution_count": 5,
   "metadata": {},
   "outputs": [],
   "source": [
    "weight_test_accuracies = np.zeros((n_cv_weight, len(weights)))"
   ]
  },
  {
   "cell_type": "code",
   "execution_count": 6,
   "metadata": {},
   "outputs": [],
   "source": [
    "def hyperparam_opt(weights, n_cv_weight=5):\n",
    "    for j, weight in enumerate(weights): \n",
    "    # 5 fold cross validate here \n",
    "        for i in range(n_cv_weight):\n",
    "            siamese_le_net = Siamese(le_net, \n",
    "                                     softmax=True,\n",
    "                                     target=tail_net, \n",
    "                                     weight_aux=weight)\n",
    "            trainer = Trainer(nb_epochs=nb_epochs)\n",
    "            trainer.fit(siamese_le_net, dl_train_all, dl_val_all, verbose=False)\n",
    "            acc_test = trainer.test(siamese_le_net, dl_test_all, test_verbose=True, return_acc=True)\n",
    "            weight_test_accuracies[i,j] = acc_test\n",
    "    avg_weight_test_accuracies = np.mean(weight_test_accuracies, axis=0)\n",
    "    best_weight = weights[np.argmax(avg_weight_test_accuracies)]\n",
    "    return best_weight"
   ]
  },
  {
   "cell_type": "code",
   "execution_count": 7,
   "metadata": {},
   "outputs": [
    {
     "name": "stderr",
     "output_type": "stream",
     "text": [
      "/home/puck/coding/EE-559-Team/Project1/src/models.py:79: UserWarning: Implicit dimension choice for softmax has been deprecated. Change the call to include dim=X as an argument.\n",
      "  x = nn.functional.softmax(x)\n"
     ]
    },
    {
     "name": "stdout",
     "output_type": "stream",
     "text": [
      "loss_test=0.42\t acc_test=89.06\n",
      "loss_test=0.3\t acc_test=90.92\n",
      "loss_test=0.27\t acc_test=91.21\n",
      "loss_test=0.27\t acc_test=91.5\n",
      "loss_test=0.33\t acc_test=89.26\n",
      "loss_test=0.33\t acc_test=91.21\n",
      "loss_test=0.35\t acc_test=91.21\n",
      "loss_test=0.46\t acc_test=90.33\n",
      "loss_test=0.44\t acc_test=91.11\n",
      "loss_test=0.49\t acc_test=90.04\n",
      "loss_test=0.5\t acc_test=91.02\n",
      "loss_test=0.56\t acc_test=90.72\n",
      "loss_test=0.57\t acc_test=90.72\n",
      "loss_test=0.59\t acc_test=90.53\n",
      "loss_test=0.61\t acc_test=90.72\n",
      "loss_test=0.63\t acc_test=90.92\n",
      "loss_test=0.69\t acc_test=90.72\n",
      "loss_test=0.64\t acc_test=91.02\n",
      "loss_test=0.79\t acc_test=89.75\n",
      "loss_test=0.77\t acc_test=89.94\n",
      "loss_test=0.7\t acc_test=90.62\n",
      "loss_test=0.81\t acc_test=90.23\n",
      "loss_test=0.88\t acc_test=90.14\n",
      "loss_test=0.95\t acc_test=89.06\n",
      "loss_test=0.9\t acc_test=90.62\n",
      "loss_test=1.08\t acc_test=89.26\n",
      "loss_test=1.04\t acc_test=89.75\n",
      "loss_test=0.81\t acc_test=91.5\n",
      "loss_test=0.99\t acc_test=90.33\n",
      "loss_test=1.05\t acc_test=90.33\n",
      "loss_test=1.09\t acc_test=90.33\n",
      "loss_test=1.07\t acc_test=90.53\n",
      "loss_test=1.17\t acc_test=89.84\n",
      "loss_test=1.3\t acc_test=89.36\n",
      "loss_test=1.28\t acc_test=89.65\n",
      "loss_test=1.25\t acc_test=89.55\n",
      "loss_test=1.41\t acc_test=89.26\n",
      "loss_test=1.44\t acc_test=89.55\n",
      "loss_test=1.49\t acc_test=89.45\n",
      "loss_test=1.53\t acc_test=89.45\n",
      "loss_test=1.56\t acc_test=89.45\n",
      "loss_test=1.58\t acc_test=89.45\n",
      "loss_test=1.6\t acc_test=89.45\n",
      "loss_test=1.62\t acc_test=89.36\n",
      "loss_test=1.63\t acc_test=89.36\n",
      "loss_test=1.64\t acc_test=89.36\n",
      "loss_test=1.65\t acc_test=89.36\n",
      "loss_test=1.65\t acc_test=89.45\n",
      "loss_test=1.66\t acc_test=89.45\n",
      "loss_test=1.66\t acc_test=89.45\n"
     ]
    }
   ],
   "source": [
    "best_weight = hyperparam_opt(weights, n_cv_weight=5)"
   ]
  },
  {
   "cell_type": "code",
   "execution_count": 8,
   "metadata": {},
   "outputs": [
    {
     "data": {
      "text/plain": [
       "0.2"
      ]
     },
     "execution_count": 8,
     "metadata": {},
     "output_type": "execute_result"
    }
   ],
   "source": [
    "# keep best weight\n",
    "best_weight"
   ]
  },
  {
   "cell_type": "code",
   "execution_count": 9,
   "metadata": {},
   "outputs": [],
   "source": [
    "weight_aux = best_weight"
   ]
  },
  {
   "cell_type": "code",
   "execution_count": 10,
   "metadata": {},
   "outputs": [],
   "source": [
    "test_accuracies = []"
   ]
  },
  {
   "cell_type": "code",
   "execution_count": 11,
   "metadata": {},
   "outputs": [
    {
     "name": "stdout",
     "output_type": "stream",
     "text": [
      "loss_test=0.43\t acc_test=89.75\n",
      "loss_test=0.31\t acc_test=90.04\n",
      "loss_test=0.31\t acc_test=89.84\n",
      "loss_test=0.32\t acc_test=90.14\n",
      "loss_test=0.38\t acc_test=90.14\n",
      "loss_test=0.43\t acc_test=90.43\n",
      "loss_test=0.43\t acc_test=91.02\n",
      "loss_test=0.5\t acc_test=91.02\n",
      "loss_test=0.58\t acc_test=90.33\n",
      "loss_test=0.62\t acc_test=90.62\n"
     ]
    }
   ],
   "source": [
    "for i in range(n_cv):\n",
    "    siamese_le_net = Siamese(le_net, weight_aux=weight_aux)\n",
    "    trainer = Trainer(nb_epochs=nb_epochs)\n",
    "    trainer.fit(siamese_le_net, dl_train_all, dl_val_all, verbose=False)\n",
    "    acc_test = trainer.test(siamese_le_net, dl_test_all, test_verbose=True, return_acc=True)\n",
    "    test_accuracies.append(acc_test)"
   ]
  },
  {
   "cell_type": "code",
   "execution_count": 12,
   "metadata": {},
   "outputs": [
    {
     "name": "stdout",
     "output_type": "stream",
     "text": [
      "avg test acc 90.33300000000001\n",
      "stdev test acc 0.42178311962429055\n"
     ]
    }
   ],
   "source": [
    "avg_test_acc = np.mean(test_accuracies)\n",
    "print('avg test acc', avg_test_acc)\n",
    "stdev_test_acc = np.std(test_accuracies)\n",
    "print('stdev test acc', stdev_test_acc)"
   ]
  },
  {
   "cell_type": "code",
   "execution_count": 13,
   "metadata": {},
   "outputs": [],
   "source": [
    "from src.utils import print_param_count"
   ]
  },
  {
   "cell_type": "code",
   "execution_count": 14,
   "metadata": {},
   "outputs": [
    {
     "name": "stdout",
     "output_type": "stream",
     "text": [
      "Total number of parameters:     72268\n",
      "Number of trainable parameters: 72268\n"
     ]
    }
   ],
   "source": [
    "print_param_count(siamese_le_net)"
   ]
  },
  {
   "cell_type": "code",
   "execution_count": null,
   "metadata": {},
   "outputs": [],
   "source": []
  },
  {
   "cell_type": "code",
   "execution_count": null,
   "metadata": {},
   "outputs": [],
   "source": []
  }
 ],
 "metadata": {
  "kernelspec": {
   "display_name": "Python 3",
   "language": "python",
   "name": "python3"
  },
  "language_info": {
   "codemirror_mode": {
    "name": "ipython",
    "version": 3
   },
   "file_extension": ".py",
   "mimetype": "text/x-python",
   "name": "python",
   "nbconvert_exporter": "python",
   "pygments_lexer": "ipython3",
   "version": "3.8.3"
  }
 },
 "nbformat": 4,
 "nbformat_minor": 2
}
