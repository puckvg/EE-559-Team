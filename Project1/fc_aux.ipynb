{
 "metadata": {
  "language_info": {
   "codemirror_mode": {
    "name": "ipython",
    "version": 3
   },
   "file_extension": ".py",
   "mimetype": "text/x-python",
   "name": "python",
   "nbconvert_exporter": "python",
   "pygments_lexer": "ipython3",
   "version": "3.7.9-final"
  },
  "orig_nbformat": 2,
  "kernelspec": {
   "name": "python379jvsc74a57bd0551027d1b939ec0016f2e01e6bd6ac0e4699d2ec5e4974e783e9fca478101a51",
   "display_name": "Python 3.7.9 64-bit"
  }
 },
 "nbformat": 4,
 "nbformat_minor": 2,
 "cells": [
  {
   "source": [
    "# Fully-connected model with auxiliary loss"
   ],
   "cell_type": "markdown",
   "metadata": {}
  },
  {
   "cell_type": "code",
   "execution_count": 1,
   "metadata": {},
   "outputs": [],
   "source": [
    "from src.dlc_practical_prologue import generate_pair_sets\n",
    "from src.utils import load_class_data, load_target_data, load_all_data, print_param_count\n",
    "from src.models import *\n",
    "from src.trainer import Trainer\n",
    "import matplotlib.pyplot as plt"
   ]
  },
  {
   "cell_type": "code",
   "execution_count": 2,
   "metadata": {},
   "outputs": [],
   "source": [
    "# Import data\n",
    "dl_train_all, dl_val_all, dl_test_all = load_all_data(normalize=True)"
   ]
  },
  {
   "source": [
    "## Let's run it"
   ],
   "cell_type": "markdown",
   "metadata": {}
  },
  {
   "cell_type": "code",
   "execution_count": 3,
   "metadata": {},
   "outputs": [
    {
     "output_type": "stream",
     "name": "stdout",
     "text": [
      "--- LinearAlpha ---\nTotal number of parameters:     33950\nNumber of trainable parameters: 33950\n\n--- LinearBeta ---\nTotal number of parameters:     382\nNumber of trainable parameters: 382\n\n--- Full model ----\nTotal number of parameters:     34332\nNumber of trainable parameters: 34332\n"
     ]
    }
   ],
   "source": [
    "# Check the number of parameters of the model\n",
    "print(\"--- LinearAlpha ---\")\n",
    "alpha = LinearAlpha()\n",
    "print_param_count(alpha)\n",
    "\n",
    "print(\"\\n--- LinearBeta ---\")\n",
    "beta = LinearBeta()\n",
    "print_param_count(beta)\n",
    "\n",
    "print(\"\\n--- Full model ----\")\n",
    "model = Siamese(alpha, beta, weight_aux=0)\n",
    "print_param_count(model)"
   ]
  },
  {
   "cell_type": "code",
   "execution_count": 4,
   "metadata": {},
   "outputs": [
    {
     "output_type": "stream",
     "name": "stdout",
     "text": [
      "Run 1/10\n",
      "# Epoch 1/25:\t loss=1.7\t loss_val=0.69\t acc_val=51.34\n",
      "# Epoch 2/25:\t loss=1.68\t loss_val=0.7\t acc_val=51.34\n",
      "# Epoch 3/25:\t loss=1.66\t loss_val=0.7\t acc_val=51.34\n",
      "# Epoch 4/25:\t loss=1.65\t loss_val=0.69\t acc_val=51.34\n",
      "# Epoch 5/25:\t loss=1.65\t loss_val=0.7\t acc_val=51.34\n",
      "# Epoch 6/25:\t loss=1.63\t loss_val=0.69\t acc_val=51.34\n",
      "# Epoch 7/25:\t loss=1.62\t loss_val=0.69\t acc_val=51.34\n",
      "# Epoch 8/25:\t loss=1.63\t loss_val=0.69\t acc_val=51.34\n",
      "# Epoch 9/25:\t loss=1.61\t loss_val=0.7\t acc_val=51.34\n",
      "# Epoch 10/25:\t loss=1.6\t loss_val=0.69\t acc_val=51.34\n",
      "# Epoch 11/25:\t loss=1.6\t loss_val=0.69\t acc_val=51.34\n",
      "# Epoch 12/25:\t loss=1.58\t loss_val=0.69\t acc_val=51.34\n",
      "# Epoch 13/25:\t loss=1.59\t loss_val=0.7\t acc_val=51.34\n",
      "# Epoch 14/25:\t loss=1.57\t loss_val=0.69\t acc_val=51.34\n",
      "# Epoch 15/25:\t loss=1.56\t loss_val=0.69\t acc_val=51.34\n",
      "# Epoch 16/25:\t loss=1.56\t loss_val=0.69\t acc_val=51.34\n",
      "# Epoch 17/25:\t loss=1.55\t loss_val=0.69\t acc_val=51.34\n",
      "# Epoch 18/25:\t loss=1.52\t loss_val=0.69\t acc_val=51.34\n",
      "# Epoch 19/25:\t loss=1.52\t loss_val=0.69\t acc_val=51.34\n",
      "# Epoch 20/25:\t loss=1.52\t loss_val=0.69\t acc_val=51.34\n",
      "# Epoch 21/25:\t loss=1.5\t loss_val=0.69\t acc_val=51.34\n",
      "# Epoch 22/25:\t loss=1.5\t loss_val=0.69\t acc_val=51.34\n",
      "# Epoch 23/25:\t loss=1.49\t loss_val=0.69\t acc_val=51.34\n",
      "# Epoch 24/25:\t loss=1.48\t loss_val=0.69\t acc_val=51.34\n",
      "# Epoch 25/25:\t loss=1.47\t loss_val=0.69\t acc_val=51.34\n"
     ]
    }
   ],
   "source": [
    "# Trainer\n",
    "trainer = Trainer(nb_epochs=25, verbose=False)\n",
    "\n",
    "results = []\n",
    "for i in range(1):\n",
    "    print(f\"Run {i+1}/10\")\n",
    "\n",
    "    # Model\n",
    "    lr = 0.001\n",
    "    alpha = LinearAlpha(lr=lr)\n",
    "    beta = LinearBeta(lr=lr)\n",
    "    model = Siamese(alpha, beta, weight_aux=0.2, lr=lr)\n",
    "\n",
    "    # Training\n",
    "    trainer.fit(model, dl_train_all, dl_val_all, verbose=True)\n",
    "\n",
    "    # Testing\n",
    "    acc = trainer.test(model, dl_test_all, test_verbose=False, return_acc=True)\n",
    "    results.extend([acc])"
   ]
  },
  {
   "cell_type": "code",
   "execution_count": 5,
   "metadata": {},
   "outputs": [
    {
     "output_type": "stream",
     "name": "stdout",
     "text": [
      "Average accuracy:   52.64\nStandard deviation: nan\n"
     ]
    }
   ],
   "source": [
    "# Print results\n",
    "results = torch.Tensor(results)\n",
    "print(\"Average accuracy:   {:.2f}\".format(results.mean()))\n",
    "print(\"Standard deviation: {:.2f}\".format(results.std()))"
   ]
  },
  {
   "source": [
    "## Training both parts separately"
   ],
   "cell_type": "markdown",
   "metadata": {}
  },
  {
   "cell_type": "code",
   "execution_count": 8,
   "metadata": {},
   "outputs": [
    {
     "output_type": "stream",
     "name": "stdout",
     "text": [
      "Run 1/10\n",
      "# Epoch 1/25:\t loss=2.4\t loss_val=2.26\t acc_val=18.75\n",
      "# Epoch 2/25:\t loss=2.34\t loss_val=2.21\t acc_val=22.36\n",
      "# Epoch 3/25:\t loss=2.3\t loss_val=2.18\t acc_val=35.1\n",
      "# Epoch 4/25:\t loss=2.26\t loss_val=2.13\t acc_val=39.66\n",
      "# Epoch 5/25:\t loss=2.22\t loss_val=2.05\t acc_val=49.52\n",
      "# Epoch 6/25:\t loss=2.16\t loss_val=1.98\t acc_val=51.44\n",
      "# Epoch 7/25:\t loss=2.11\t loss_val=1.91\t acc_val=53.85\n",
      "# Epoch 8/25:\t loss=2.04\t loss_val=1.82\t acc_val=56.73\n",
      "# Epoch 9/25:\t loss=1.98\t loss_val=1.75\t acc_val=52.88\n",
      "# Epoch 10/25:\t loss=1.91\t loss_val=1.69\t acc_val=52.64\n",
      "# Epoch 11/25:\t loss=1.86\t loss_val=1.57\t acc_val=52.4\n",
      "# Epoch 12/25:\t loss=1.8\t loss_val=1.54\t acc_val=54.81\n",
      "# Epoch 13/25:\t loss=1.74\t loss_val=1.45\t acc_val=57.21\n",
      "# Epoch 14/25:\t loss=1.7\t loss_val=1.42\t acc_val=55.29\n",
      "# Epoch 15/25:\t loss=1.65\t loss_val=1.36\t acc_val=56.73\n",
      "# Epoch 16/25:\t loss=1.63\t loss_val=1.29\t acc_val=57.93\n",
      "# Epoch 17/25:\t loss=1.59\t loss_val=1.25\t acc_val=60.82\n",
      "# Epoch 18/25:\t loss=1.56\t loss_val=1.23\t acc_val=60.58\n",
      "# Epoch 19/25:\t loss=1.52\t loss_val=1.19\t acc_val=65.38\n",
      "# Epoch 20/25:\t loss=1.52\t loss_val=1.12\t acc_val=59.38\n",
      "# Epoch 21/25:\t loss=1.51\t loss_val=1.11\t acc_val=62.5\n",
      "# Epoch 22/25:\t loss=1.47\t loss_val=1.08\t acc_val=63.22\n",
      "# Epoch 23/25:\t loss=1.44\t loss_val=1.03\t acc_val=63.22\n",
      "# Epoch 24/25:\t loss=1.43\t loss_val=1.01\t acc_val=67.55\n",
      "# Epoch 25/25:\t loss=1.37\t loss_val=0.98\t acc_val=70.19\n"
     ]
    }
   ],
   "source": [
    "# Trainer\n",
    "trainer = Trainer(nb_epochs=25, verbose=False)\n",
    "\n",
    "# Data\n",
    "dl_train_class, dl_val_class, dl_test_class = load_class_data(normalize=True)\n",
    "\n",
    "results = []\n",
    "for i in range(1):\n",
    "    print(f\"Run {i+1}/10\")\n",
    "\n",
    "    # Model\n",
    "    lr = 0.001\n",
    "    model = LinearAlpha(lr=lr)\n",
    "\n",
    "    # Training\n",
    "    trainer.fit(model, dl_train_class, dl_val_class, verbose=True)\n",
    "\n",
    "    # Testing\n",
    "    acc = trainer.test(model, dl_test_class, test_verbose=False, return_acc=True)\n",
    "    results.extend([acc])"
   ]
  }
 ]
}