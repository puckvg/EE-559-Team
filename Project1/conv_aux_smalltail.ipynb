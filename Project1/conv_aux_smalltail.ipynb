{
 "cells": [
  {
   "cell_type": "code",
   "execution_count": 1,
   "metadata": {},
   "outputs": [],
   "source": [
    "from src.dlc_practical_prologue import generate_pair_sets\n",
    "from src.utils import load_class_data, load_target_data, load_all_data\n",
    "from src.models import *\n",
    "from src.trainer import Trainer\n",
    "import matplotlib.pyplot as plt\n",
    "import numpy as np"
   ]
  },
  {
   "cell_type": "markdown",
   "metadata": {},
   "source": [
    "# Load data"
   ]
  },
  {
   "cell_type": "code",
   "execution_count": 2,
   "metadata": {},
   "outputs": [],
   "source": [
    "dl_train_all, dl_val_all, dl_test_all = load_all_data(normalize=True)"
   ]
  },
  {
   "cell_type": "markdown",
   "metadata": {},
   "source": [
    "# Train / Test"
   ]
  },
  {
   "cell_type": "markdown",
   "metadata": {},
   "source": [
    "## Params"
   ]
  },
  {
   "cell_type": "code",
   "execution_count": 4,
   "metadata": {},
   "outputs": [],
   "source": [
    "le_net = LeNet()\n",
    "\n",
    "# Can use any network with 20 input and two output nodes here\n",
    "tail_net = SmallTailLinear()\n",
    "\n",
    "nb_epochs = 25\n",
    "n_cv = 10\n",
    "n_cv_weight = 5"
   ]
  },
  {
   "cell_type": "markdown",
   "metadata": {},
   "source": [
    "## Hyperparam opt the weight \n",
    "- Can skip and use result if using same architecture"
   ]
  },
  {
   "cell_type": "markdown",
   "metadata": {},
   "source": [
    "## Softmax on"
   ]
  },
  {
   "cell_type": "code",
   "execution_count": 5,
   "metadata": {},
   "outputs": [],
   "source": [
    "weights = np.linspace(0.1, 1, 10)"
   ]
  },
  {
   "cell_type": "code",
   "execution_count": 6,
   "metadata": {},
   "outputs": [],
   "source": [
    "weight_test_accuracies = np.zeros((n_cv_weight, len(weights)))"
   ]
  },
  {
   "cell_type": "code",
   "execution_count": 7,
   "metadata": {},
   "outputs": [],
   "source": [
    "def hyperparam_opt(weights, n_cv_weight=5):\n",
    "    for j, weight in enumerate(weights): \n",
    "    # 5 fold cross validate here \n",
    "        for i in range(n_cv_weight):\n",
    "            siamese_le_net = Siamese(le_net, \n",
    "                                     target=tail_net, \n",
    "                                     softmax=True,\n",
    "                                     weight_aux=weight)\n",
    "            trainer = Trainer(nb_epochs=nb_epochs)\n",
    "            trainer.fit(siamese_le_net, dl_train_all, dl_val_all, verbose=False)\n",
    "            acc_test = trainer.test(siamese_le_net, dl_test_all, test_verbose=True, return_acc=True)\n",
    "            weight_test_accuracies[i,j] = acc_test\n",
    "    avg_weight_test_accuracies = np.mean(weight_test_accuracies, axis=0)\n",
    "    best_weight = weights[np.argmax(avg_weight_test_accuracies)]\n",
    "    return best_weight"
   ]
  },
  {
   "cell_type": "code",
   "execution_count": 8,
   "metadata": {},
   "outputs": [
    {
     "name": "stderr",
     "output_type": "stream",
     "text": [
      "/home/puck/coding/EE-559-Team/Project1/src/models.py:79: UserWarning: Implicit dimension choice for softmax has been deprecated. Change the call to include dim=X as an argument.\n",
      "  x = nn.functional.softmax(x)\n"
     ]
    },
    {
     "name": "stdout",
     "output_type": "stream",
     "text": [
      "loss_test=0.29\t acc_test=90.23\n",
      "loss_test=0.45\t acc_test=89.16\n",
      "loss_test=0.49\t acc_test=89.75\n",
      "loss_test=0.57\t acc_test=89.75\n",
      "loss_test=0.71\t acc_test=89.06\n",
      "loss_test=0.78\t acc_test=89.55\n",
      "loss_test=0.83\t acc_test=90.33\n",
      "loss_test=1.03\t acc_test=88.87\n",
      "loss_test=0.9\t acc_test=88.96\n",
      "loss_test=0.8\t acc_test=90.43\n",
      "loss_test=0.84\t acc_test=90.92\n",
      "loss_test=1.17\t acc_test=89.26\n",
      "loss_test=1.31\t acc_test=89.26\n",
      "loss_test=1.17\t acc_test=89.94\n",
      "loss_test=1.04\t acc_test=90.43\n",
      "loss_test=1.0\t acc_test=90.82\n",
      "loss_test=0.92\t acc_test=90.33\n",
      "loss_test=0.87\t acc_test=90.23\n",
      "loss_test=1.15\t acc_test=89.84\n",
      "loss_test=1.01\t acc_test=89.75\n",
      "loss_test=1.02\t acc_test=90.53\n",
      "loss_test=1.31\t acc_test=89.06\n",
      "loss_test=1.54\t acc_test=88.67\n",
      "loss_test=1.62\t acc_test=88.38\n",
      "loss_test=1.57\t acc_test=89.55\n",
      "loss_test=1.6\t acc_test=88.48\n",
      "loss_test=1.59\t acc_test=88.96\n",
      "loss_test=1.36\t acc_test=89.65\n",
      "loss_test=1.27\t acc_test=88.87\n",
      "loss_test=1.34\t acc_test=90.23\n",
      "loss_test=1.05\t acc_test=90.92\n",
      "loss_test=1.16\t acc_test=91.02\n",
      "loss_test=1.73\t acc_test=89.75\n",
      "loss_test=1.51\t acc_test=89.55\n",
      "loss_test=1.3\t acc_test=90.43\n",
      "loss_test=1.81\t acc_test=89.84\n",
      "loss_test=1.95\t acc_test=88.87\n",
      "loss_test=0.82\t acc_test=89.75\n",
      "loss_test=1.14\t acc_test=90.53\n",
      "loss_test=1.42\t acc_test=90.14\n",
      "loss_test=1.74\t acc_test=88.96\n",
      "loss_test=1.51\t acc_test=90.43\n",
      "loss_test=1.27\t acc_test=89.16\n",
      "loss_test=1.35\t acc_test=90.33\n",
      "loss_test=1.52\t acc_test=90.23\n",
      "loss_test=1.91\t acc_test=90.62\n",
      "loss_test=2.04\t acc_test=90.62\n",
      "loss_test=2.09\t acc_test=90.62\n",
      "loss_test=2.14\t acc_test=90.72\n",
      "loss_test=2.17\t acc_test=90.43\n"
     ]
    }
   ],
   "source": [
    "best_weight = hyperparam_opt(weights, n_cv_weight=n_cv_weight)"
   ]
  },
  {
   "cell_type": "code",
   "execution_count": 13,
   "metadata": {},
   "outputs": [],
   "source": [
    "# keep best weight\n",
    "# skipping for now "
   ]
  },
  {
   "cell_type": "code",
   "execution_count": 14,
   "metadata": {},
   "outputs": [
    {
     "data": {
      "text/plain": [
       "0.30000000000000004"
      ]
     },
     "execution_count": 14,
     "metadata": {},
     "output_type": "execute_result"
    }
   ],
   "source": [
    "best_weight"
   ]
  },
  {
   "cell_type": "code",
   "execution_count": 15,
   "metadata": {},
   "outputs": [],
   "source": [
    "weight_aux = best_weight"
   ]
  },
  {
   "cell_type": "code",
   "execution_count": 16,
   "metadata": {},
   "outputs": [],
   "source": [
    "test_accuracies = []"
   ]
  },
  {
   "cell_type": "code",
   "execution_count": 17,
   "metadata": {},
   "outputs": [
    {
     "name": "stdout",
     "output_type": "stream",
     "text": [
      "loss_test=0.41\t acc_test=89.55\n",
      "loss_test=0.33\t acc_test=88.67\n",
      "loss_test=0.32\t acc_test=89.55\n",
      "loss_test=0.37\t acc_test=88.67\n",
      "loss_test=0.35\t acc_test=90.62\n",
      "loss_test=0.35\t acc_test=91.31\n",
      "loss_test=0.43\t acc_test=91.31\n",
      "loss_test=0.48\t acc_test=91.31\n",
      "loss_test=0.61\t acc_test=89.75\n",
      "loss_test=0.59\t acc_test=91.02\n"
     ]
    }
   ],
   "source": [
    "for i in range(n_cv):\n",
    "    siamese_le_net = Siamese(le_net, weight_aux=weight_aux)\n",
    "    trainer = Trainer(nb_epochs=nb_epochs)\n",
    "    trainer.fit(siamese_le_net, dl_train_all, dl_val_all, verbose=False)\n",
    "    acc_test = trainer.test(siamese_le_net, dl_test_all, test_verbose=True, return_acc=True)\n",
    "    test_accuracies.append(acc_test)"
   ]
  },
  {
   "cell_type": "code",
   "execution_count": 18,
   "metadata": {},
   "outputs": [
    {
     "name": "stdout",
     "output_type": "stream",
     "text": [
      "avg test acc 90.176\n",
      "stdev test acc 1.0133429824102012\n"
     ]
    }
   ],
   "source": [
    "avg_test_acc = np.mean(test_accuracies)\n",
    "print('avg test acc', avg_test_acc)\n",
    "stdev_test_acc = np.std(test_accuracies)\n",
    "print('stdev test acc', stdev_test_acc)"
   ]
  },
  {
   "cell_type": "markdown",
   "metadata": {},
   "source": [
    "Same without softmax"
   ]
  },
  {
   "cell_type": "code",
   "execution_count": 19,
   "metadata": {},
   "outputs": [],
   "source": [
    "weights = np.linspace(0.1, 1, 10)"
   ]
  },
  {
   "cell_type": "code",
   "execution_count": 20,
   "metadata": {},
   "outputs": [],
   "source": [
    "weight_test_accuracies = np.zeros((n_cv_weight, len(weights)))"
   ]
  },
  {
   "cell_type": "code",
   "execution_count": 21,
   "metadata": {},
   "outputs": [],
   "source": [
    "def hyperparam_opt(weights, n_cv_weight=5):\n",
    "    for j, weight in enumerate(weights): \n",
    "    # 5 fold cross validate here \n",
    "        for i in range(n_cv_weight):\n",
    "            siamese_le_net = Siamese(le_net, \n",
    "                                     target=tail_net, \n",
    "                                     softmax=False,\n",
    "                                     weight_aux=weight)\n",
    "            trainer = Trainer(nb_epochs=nb_epochs)\n",
    "            trainer.fit(siamese_le_net, dl_train_all, dl_val_all, verbose=False)\n",
    "            acc_test = trainer.test(siamese_le_net, dl_test_all, test_verbose=True, return_acc=True)\n",
    "            weight_test_accuracies[i,j] = acc_test\n",
    "    avg_weight_test_accuracies = np.mean(weight_test_accuracies, axis=0)\n",
    "    best_weight = weights[np.argmax(avg_weight_test_accuracies)]\n",
    "    return best_weight"
   ]
  },
  {
   "cell_type": "code",
   "execution_count": 22,
   "metadata": {},
   "outputs": [
    {
     "name": "stdout",
     "output_type": "stream",
     "text": [
      "loss_test=0.4\t acc_test=90.43\n",
      "loss_test=0.63\t acc_test=90.53\n",
      "loss_test=0.71\t acc_test=90.62\n",
      "loss_test=0.76\t acc_test=90.33\n",
      "loss_test=0.91\t acc_test=90.43\n",
      "loss_test=1.08\t acc_test=90.04\n",
      "loss_test=1.05\t acc_test=89.84\n",
      "loss_test=1.22\t acc_test=90.43\n",
      "loss_test=1.28\t acc_test=90.04\n",
      "loss_test=1.49\t acc_test=90.04\n",
      "loss_test=1.6\t acc_test=89.16\n",
      "loss_test=1.59\t acc_test=89.65\n",
      "loss_test=1.92\t acc_test=88.28\n",
      "loss_test=1.82\t acc_test=89.36\n",
      "loss_test=2.42\t acc_test=89.36\n",
      "loss_test=2.39\t acc_test=89.75\n",
      "loss_test=3.23\t acc_test=88.87\n",
      "loss_test=3.02\t acc_test=90.14\n",
      "loss_test=3.15\t acc_test=89.94\n",
      "loss_test=2.87\t acc_test=90.43\n",
      "loss_test=2.96\t acc_test=90.14\n",
      "loss_test=2.99\t acc_test=90.14\n",
      "loss_test=3.01\t acc_test=90.23\n",
      "loss_test=3.02\t acc_test=90.33\n",
      "loss_test=3.04\t acc_test=90.33\n",
      "loss_test=3.05\t acc_test=90.14\n",
      "loss_test=3.06\t acc_test=90.14\n",
      "loss_test=3.07\t acc_test=90.04\n",
      "loss_test=3.07\t acc_test=90.04\n",
      "loss_test=3.08\t acc_test=90.04\n"
     ]
    }
   ],
   "source": [
    "best_weight = hyperparam_opt(weights, n_cv_weight=n_cv_weight)"
   ]
  },
  {
   "cell_type": "code",
   "execution_count": 23,
   "metadata": {},
   "outputs": [],
   "source": [
    "# keep best weight\n",
    "# skipping for now "
   ]
  },
  {
   "cell_type": "code",
   "execution_count": 24,
   "metadata": {},
   "outputs": [
    {
     "data": {
      "text/plain": [
       "0.1"
      ]
     },
     "execution_count": 24,
     "metadata": {},
     "output_type": "execute_result"
    }
   ],
   "source": [
    "best_weight"
   ]
  },
  {
   "cell_type": "code",
   "execution_count": 25,
   "metadata": {},
   "outputs": [],
   "source": [
    "weight_aux = best_weight"
   ]
  },
  {
   "cell_type": "code",
   "execution_count": 26,
   "metadata": {},
   "outputs": [],
   "source": [
    "test_accuracies = []"
   ]
  },
  {
   "cell_type": "code",
   "execution_count": 27,
   "metadata": {},
   "outputs": [
    {
     "name": "stdout",
     "output_type": "stream",
     "text": [
      "loss_test=0.53\t acc_test=91.5\n",
      "loss_test=0.6\t acc_test=91.11\n",
      "loss_test=0.68\t acc_test=90.72\n",
      "loss_test=0.73\t acc_test=90.72\n",
      "loss_test=0.83\t acc_test=90.04\n",
      "loss_test=0.93\t acc_test=90.14\n",
      "loss_test=0.82\t acc_test=91.7\n",
      "loss_test=1.04\t acc_test=89.94\n",
      "loss_test=1.11\t acc_test=89.16\n",
      "loss_test=1.09\t acc_test=90.04\n"
     ]
    }
   ],
   "source": [
    "for i in range(n_cv):\n",
    "    siamese_le_net = Siamese(le_net, weight_aux=weight_aux)\n",
    "    trainer = Trainer(nb_epochs=nb_epochs)\n",
    "    trainer.fit(siamese_le_net, dl_train_all, dl_val_all, verbose=False)\n",
    "    acc_test = trainer.test(siamese_le_net, dl_test_all, test_verbose=True, return_acc=True)\n",
    "    test_accuracies.append(acc_test)"
   ]
  },
  {
   "cell_type": "code",
   "execution_count": 28,
   "metadata": {},
   "outputs": [
    {
     "name": "stdout",
     "output_type": "stream",
     "text": [
      "avg test acc 90.50699999999999\n",
      "stdev test acc 0.7463517937273284\n"
     ]
    }
   ],
   "source": [
    "avg_test_acc = np.mean(test_accuracies)\n",
    "print('avg test acc', avg_test_acc)\n",
    "stdev_test_acc = np.std(test_accuracies)\n",
    "print('stdev test acc', stdev_test_acc)"
   ]
  },
  {
   "cell_type": "code",
   "execution_count": null,
   "metadata": {},
   "outputs": [],
   "source": []
  }
 ],
 "metadata": {
  "kernelspec": {
   "display_name": "Python 3",
   "language": "python",
   "name": "python3"
  },
  "language_info": {
   "codemirror_mode": {
    "name": "ipython",
    "version": 3
   },
   "file_extension": ".py",
   "mimetype": "text/x-python",
   "name": "python",
   "nbconvert_exporter": "python",
   "pygments_lexer": "ipython3",
   "version": "3.8.3"
  }
 },
 "nbformat": 4,
 "nbformat_minor": 2
}
