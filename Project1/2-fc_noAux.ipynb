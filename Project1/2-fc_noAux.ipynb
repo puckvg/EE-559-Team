{
 "cells": [
  {
   "cell_type": "markdown",
   "metadata": {},
   "source": [
    "# Fully-connected model without auxiliary loss"
   ]
  },
  {
   "cell_type": "code",
   "execution_count": 4,
   "metadata": {},
   "outputs": [],
   "source": [
    "from src.dlc_practical_prologue import generate_pair_sets\n",
    "from src.utils import load_class_data, load_target_data, load_all_data, print_param_count\n",
    "from src.models import *\n",
    "from src.trainer import Trainer\n",
    "import matplotlib.pyplot as plt"
   ]
  },
  {
   "cell_type": "markdown",
   "metadata": {},
   "source": [
    "## Let's run it"
   ]
  },
  {
   "cell_type": "code",
   "execution_count": 5,
   "metadata": {},
   "outputs": [
    {
     "name": "stdout",
     "output_type": "stream",
     "text": [
      "--- LinearAlpha ---\n",
      "Total number of parameters:     33950\n",
      "Number of trainable parameters: 33950\n",
      "\n",
      "--- LinearBeta ---\n",
      "Total number of parameters:     382\n",
      "Number of trainable parameters: 382\n",
      "\n",
      "--- Full model ----\n",
      "Total number of parameters:     34332\n",
      "Number of trainable parameters: 34332\n"
     ]
    }
   ],
   "source": [
    "# Check the number of parameters of the model\n",
    "print(\"--- LinearAlpha ---\")\n",
    "alpha = LinearAlpha()\n",
    "print_param_count(alpha)\n",
    "\n",
    "print(\"\\n--- LinearBeta ---\")\n",
    "beta = LinearBeta()\n",
    "print_param_count(beta)\n",
    "\n",
    "print(\"\\n--- Full model ----\")\n",
    "model = Siamese(alpha, beta, weight_aux=0)\n",
    "print_param_count(model)"
   ]
  },
  {
   "cell_type": "code",
   "execution_count": 6,
   "metadata": {},
   "outputs": [
    {
     "name": "stdout",
     "output_type": "stream",
     "text": [
      "Run 1/10\n",
      "# Epoch 1/25:\t loss=0.69\t loss_val=0.69\t acc_val=56.7\n",
      "# Epoch 2/25:\t loss=0.69\t loss_val=0.68\t acc_val=56.7\n",
      "# Epoch 3/25:\t loss=0.68\t loss_val=0.67\t acc_val=56.7\n",
      "# Epoch 4/25:\t loss=0.66\t loss_val=0.62\t acc_val=56.7\n",
      "# Epoch 5/25:\t loss=0.58\t loss_val=0.52\t acc_val=79.91\n",
      "# Epoch 6/25:\t loss=0.5\t loss_val=0.51\t acc_val=79.02\n",
      "# Epoch 7/25:\t loss=0.44\t loss_val=0.46\t acc_val=80.36\n",
      "# Epoch 8/25:\t loss=0.35\t loss_val=0.43\t acc_val=80.8\n",
      "# Epoch 9/25:\t loss=0.29\t loss_val=0.5\t acc_val=78.57\n",
      "# Epoch 10/25:\t loss=0.23\t loss_val=0.43\t acc_val=82.14\n",
      "# Epoch 11/25:\t loss=0.18\t loss_val=0.52\t acc_val=81.25\n",
      "# Epoch 12/25:\t loss=0.17\t loss_val=0.48\t acc_val=80.36\n",
      "# Epoch 13/25:\t loss=0.1\t loss_val=0.58\t acc_val=80.8\n",
      "# Epoch 14/25:\t loss=0.08\t loss_val=0.61\t acc_val=82.14\n",
      "# Epoch 15/25:\t loss=0.09\t loss_val=0.6\t acc_val=81.25\n",
      "# Epoch 16/25:\t loss=0.08\t loss_val=0.64\t acc_val=79.91\n",
      "# Epoch 17/25:\t loss=0.06\t loss_val=0.62\t acc_val=80.36\n",
      "# Epoch 18/25:\t loss=0.05\t loss_val=0.77\t acc_val=79.91\n",
      "# Epoch 19/25:\t loss=0.04\t loss_val=0.61\t acc_val=81.25\n",
      "# Epoch 20/25:\t loss=0.03\t loss_val=0.96\t acc_val=81.25\n",
      "# Epoch 21/25:\t loss=0.04\t loss_val=0.86\t acc_val=82.14\n",
      "# Epoch 22/25:\t loss=0.03\t loss_val=1.0\t acc_val=81.25\n",
      "# Epoch 23/25:\t loss=0.04\t loss_val=0.82\t acc_val=82.59\n",
      "# Epoch 24/25:\t loss=0.07\t loss_val=0.94\t acc_val=81.7\n",
      "# Epoch 25/25:\t loss=0.06\t loss_val=0.68\t acc_val=80.36\n",
      "loss_test=0.71\t acc_test=81.93\n"
     ]
    }
   ],
   "source": [
    "results = []\n",
    "for i in range(1):\n",
    "    print(f\"Run {i+1}/10\")\n",
    "\n",
    "    # Import data\n",
    "    dl_train_all, dl_val_all, dl_test_all = load_all_data(normalize=True)\n",
    "\n",
    "    # Model\n",
    "    alpha = LinearAlpha()\n",
    "    beta = LinearBeta(label_encoded=False)\n",
    "    model = Siamese(alpha, beta, weight_aux=0, \n",
    "                    softmax=False, argmax=False, \n",
    "                    strategy='sum')\n",
    "\n",
    "    # Trainer\n",
    "    trainer = Trainer(nb_epochs=25, verbose=False, run='fc_noAux_argmax')\n",
    "\n",
    "    # Training\n",
    "    trainer.fit(model, dl_train_all, dl_val_all, verbose=True)\n",
    "\n",
    "    # Testing\n",
    "    acc = trainer.test(model, dl_test_all, test_verbose=True, return_acc=True)\n",
    "    results.extend([acc])"
   ]
  },
  {
   "cell_type": "code",
   "execution_count": 7,
   "metadata": {},
   "outputs": [
    {
     "name": "stdout",
     "output_type": "stream",
     "text": [
      "Average accuracy:   81.93\n",
      "Standard deviation: nan\n"
     ]
    }
   ],
   "source": [
    "# Print results\n",
    "results = torch.Tensor(results)\n",
    "print(\"Average accuracy:   {:.2f}\".format(results.mean()))\n",
    "print(\"Standard deviation: {:.2f}\".format(results.std()))"
   ]
  },
  {
   "cell_type": "code",
   "execution_count": null,
   "metadata": {},
   "outputs": [],
   "source": []
  },
  {
   "cell_type": "code",
   "execution_count": null,
   "metadata": {},
   "outputs": [],
   "source": []
  }
 ],
 "metadata": {
  "kernelspec": {
   "display_name": "Python 3",
   "language": "python",
   "name": "python3"
  },
  "language_info": {
   "codemirror_mode": {
    "name": "ipython",
    "version": 3
   },
   "file_extension": ".py",
   "mimetype": "text/x-python",
   "name": "python",
   "nbconvert_exporter": "python",
   "pygments_lexer": "ipython3",
   "version": "3.8.3"
  }
 },
 "nbformat": 4,
 "nbformat_minor": 2
}
