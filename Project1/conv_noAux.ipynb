{
 "cells": [
  {
   "cell_type": "code",
   "execution_count": 1,
   "metadata": {},
   "outputs": [],
   "source": [
    "from src.dlc_practical_prologue import generate_pair_sets\n",
    "from src.utils import load_class_data, load_target_data, load_all_data, print_param_count\n",
    "from src.models import *\n",
    "from src.trainer import Trainer\n",
    "import matplotlib.pyplot as plt"
   ]
  },
  {
   "cell_type": "markdown",
   "metadata": {},
   "source": [
    "# Load data"
   ]
  },
  {
   "cell_type": "code",
   "execution_count": 2,
   "metadata": {},
   "outputs": [],
   "source": [
    "dl_train_all, dl_val_all, dl_test_all = load_all_data(normalize=True)"
   ]
  },
  {
   "cell_type": "markdown",
   "metadata": {},
   "source": [
    "# Train / Test"
   ]
  },
  {
   "cell_type": "code",
   "execution_count": 5,
   "metadata": {},
   "outputs": [],
   "source": [
    "# Train siamese network without aux loss\n",
    "\n",
    "# Can use any network with ten output nodes here\n",
    "le_net = LeNet()\n",
    "\n",
    "# Can use any network with ten input and two output nodes here\n",
    "tail_net = TailLinear()\n",
    "\n",
    "nb_epochs = 25\n",
    "n_cv = 1\n",
    "test_accuracies = []"
   ]
  },
  {
   "cell_type": "code",
   "execution_count": 6,
   "metadata": {},
   "outputs": [
    {
     "output_type": "stream",
     "name": "stdout",
     "text": [
      "cv iter 0\n",
      "loss_test=0.64\t acc_test=83.79\n"
     ]
    }
   ],
   "source": [
    "for i in range(n_cv):\n",
    "    print('cv iter', i)\n",
    "    siamese_le_net = Siamese(le_net, target=tail_net, weight_aux=0.)\n",
    "    trainer = Trainer(nb_epochs=nb_epochs)\n",
    "\n",
    "    trainer.fit(siamese_le_net, dl_train_all, dl_val_all, verbose=False)\n",
    "    acc_test = trainer.test(siamese_le_net, dl_test_all, test_verbose=True, return_acc=True)\n",
    "    \n",
    "    test_accuracies.append(acc_test)"
   ]
  },
  {
   "cell_type": "code",
   "execution_count": 13,
   "metadata": {},
   "outputs": [],
   "source": [
    "import numpy as np "
   ]
  },
  {
   "cell_type": "code",
   "execution_count": 14,
   "metadata": {},
   "outputs": [
    {
     "name": "stdout",
     "output_type": "stream",
     "text": [
      "avg test acc 82.167\n",
      "stdev 0.7063717151755153\n"
     ]
    }
   ],
   "source": [
    "avg_test_acc = np.mean(test_accuracies)\n",
    "print('avg test acc', avg_test_acc)\n",
    "stdev_test_acc = np.std(test_accuracies)\n",
    "print('stdev', stdev_test_acc)"
   ]
  },
  {
   "cell_type": "code",
   "execution_count": 10,
   "metadata": {},
   "outputs": [
    {
     "name": "stdout",
     "output_type": "stream",
     "text": [
      "Total number of parameters:     72268\n",
      "Number of trainable parameters: 72268\n"
     ]
    }
   ],
   "source": [
    "print_param_count(siamese_le_net)"
   ]
  },
  {
   "cell_type": "code",
   "execution_count": null,
   "metadata": {},
   "outputs": [],
   "source": []
  },
  {
   "cell_type": "code",
   "execution_count": null,
   "metadata": {},
   "outputs": [],
   "source": []
  }
 ],
 "metadata": {
  "kernelspec": {
   "name": "python380jvsc74a57bd0aee8b7b246df8f9039afb4144a1f6fd8d2ca17a180786b69acc140d282b71a49",
   "display_name": "Python 3.8.0 64-bit"
  }
 },
 "nbformat": 4,
 "nbformat_minor": 2
}