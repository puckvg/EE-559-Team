{
 "cells": [
  {
   "cell_type": "code",
   "execution_count": 1,
   "metadata": {},
   "outputs": [],
   "source": [
    "from src.dlc_practical_prologue import generate_pair_sets\n",
    "from src.utils import load_class_data, load_target_data, load_all_data\n",
    "from src.models import *\n",
    "from src.trainer import Trainer\n",
    "import matplotlib.pyplot as plt"
   ]
  },
  {
   "cell_type": "markdown",
   "metadata": {},
   "source": [
    "# Load data"
   ]
  },
  {
   "cell_type": "code",
   "execution_count": 3,
   "metadata": {},
   "outputs": [],
   "source": [
    "dl_train_all, dl_val_all, dl_test_all = load_all_data(normalize=True)"
   ]
  },
  {
   "cell_type": "markdown",
   "metadata": {},
   "source": [
    "# Train"
   ]
  },
  {
   "cell_type": "code",
   "execution_count": 4,
   "metadata": {},
   "outputs": [
    {
     "name": "stdout",
     "output_type": "stream",
     "text": [
      "# Epoch 1/10:\t loss=0.66\t loss_val=0.56\t acc_val=76.34\n",
      "# Epoch 2/10:\t loss=0.49\t loss_val=0.44\t acc_val=79.91\n",
      "# Epoch 3/10:\t loss=0.37\t loss_val=0.34\t acc_val=86.16\n",
      "# Epoch 4/10:\t loss=0.29\t loss_val=0.31\t acc_val=87.95\n",
      "# Epoch 5/10:\t loss=0.21\t loss_val=0.34\t acc_val=84.38\n",
      "# Epoch 6/10:\t loss=0.16\t loss_val=0.35\t acc_val=83.93\n",
      "# Epoch 7/10:\t loss=0.1\t loss_val=0.37\t acc_val=88.39\n",
      "# Epoch 8/10:\t loss=0.06\t loss_val=0.44\t acc_val=87.05\n",
      "# Epoch 9/10:\t loss=0.05\t loss_val=0.42\t acc_val=87.05\n",
      "# Epoch 10/10:\t loss=0.02\t loss_val=0.51\t acc_val=87.5\n",
      "loss_test=0.74\t acc_test=82.81\n"
     ]
    }
   ],
   "source": [
    "# Train siamese network without aux loss\n",
    "\n",
    "# Can use any network with ten output nodes here\n",
    "le_net = LeNet()\n",
    "\n",
    "siamese_le_net = Siamese(le_net, weight_aux=0.)\n",
    "trainer = Trainer(nb_epochs=10)\n",
    "\n",
    "trainer.fit(siamese_le_net, dl_train_all, dl_val_all)\n",
    "trainer.test(siamese_le_net, dl_test_all)"
   ]
  },
  {
   "cell_type": "code",
   "execution_count": null,
   "metadata": {},
   "outputs": [],
   "source": []
  }
 ],
 "metadata": {
  "kernelspec": {
   "display_name": "Python 3",
   "language": "python",
   "name": "python3"
  },
  "language_info": {
   "codemirror_mode": {
    "name": "ipython",
    "version": 3
   },
   "file_extension": ".py",
   "mimetype": "text/x-python",
   "name": "python",
   "nbconvert_exporter": "python",
   "pygments_lexer": "ipython3",
   "version": "3.8.3"
  }
 },
 "nbformat": 4,
 "nbformat_minor": 2
}
