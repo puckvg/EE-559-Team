{
 "metadata": {
  "language_info": {
   "codemirror_mode": {
    "name": "ipython",
    "version": 3
   },
   "file_extension": ".py",
   "mimetype": "text/x-python",
   "name": "python",
   "nbconvert_exporter": "python",
   "pygments_lexer": "ipython3",
   "version": "3.8.0-final"
  },
  "orig_nbformat": 2,
  "kernelspec": {
   "name": "spring21jodokvieli",
   "display_name": "Python (spring21JodokVieli)",
   "language": "python"
  }
 },
 "nbformat": 4,
 "nbformat_minor": 2,
 "cells": [
  {
   "cell_type": "code",
   "execution_count": 1,
   "metadata": {},
   "outputs": [],
   "source": [
    "import sys\n",
    "sys.path.append('/Users/jodok/02 Code/EE-559-TEAM/Project1')\n",
    "from src.dlc_practical_prologue import generate_pair_sets\n",
    "from src.utils import load_class_data, load_target_data, load_all_data\n",
    "from src.models import *\n",
    "from src.trainer import Trainer\n",
    "import matplotlib.pyplot as plt\n",
    "from torch import nn"
   ]
  },
  {
   "cell_type": "code",
   "execution_count": 2,
   "metadata": {},
   "outputs": [],
   "source": [
    "# Load data with class as target\n",
    "dl_train_class, dl_val_class, dl_test_class = load_class_data()\n",
    "\n",
    "# Load data with larger than as target\n",
    "dl_train_target, dl_val_target, dl_test_target = load_target_data()\n",
    "\n",
    "# Load data with class and larget than as targets\n",
    "dl_train_all, dl_val_all, dl_test_all = load_all_data()"
   ]
  },
  {
   "cell_type": "code",
   "execution_count": 3,
   "metadata": {},
   "outputs": [],
   "source": [
    "class TailNet(BaseModule):\n",
    "    def __init__(self, lr=0.001):\n",
    "        super().__init__(lr)\n",
    "        self.conv1 = nn.Conv1d(1, 32, kernel_size=10, stride=10)\n",
    "        self.fc1 = nn.Linear(64, 128)\n",
    "        self.fc2 = nn.Linear(128, 2)\n",
    "        self.flat = nn.Flatten(start_dim=1)\n",
    "\n",
    "    def forward(self, x):\n",
    "        x = nn.functional.one_hot(x).float()\n",
    "        x = x.view(-1, 1, 20)\n",
    "        x = self.conv1(x)\n",
    "        x = self.flat(x)\n",
    "        x = nn.functional.relu(x)\n",
    "        x = self.fc1(x)\n",
    "        x = nn.functional.relu(x)\n",
    "        x = self.fc2(x)\n",
    "        return x\n",
    "\n",
    "    def training_step(self, batch, batch_idx):\n",
    "        _, x, y = batch\n",
    "        out = self(x)\n",
    "        loss = self.loss(out, y)\n",
    "        return loss\n",
    "    \n",
    "    def validation_step(self, batch, batch_idx):\n",
    "        _, x, y = batch\n",
    "        out = self(x)\n",
    "        loss = self.loss(out, y)\n",
    "        preds = torch.argmax(out, dim=1)\n",
    "        acc = self.accuracy(preds, y)\n",
    "        return loss, acc\n",
    "\n",
    "class TestNet(nn.Module):\n",
    "    def __init__(self):\n",
    "        super().__init__()\n",
    "        self.conv1 = nn.Conv1d(1, 1, kernel_size=10, stride=10)\n",
    "    \n",
    "    def forward(self, x):\n",
    "        x = nn.functional.one_hot(x).float()\n",
    "        x = x.view(-1, 1, 20)\n",
    "        x = self.conv1(x)\n",
    "        return x\n",
    "\n",
    "class TailFullyConv(BaseModule):\n",
    "    def __init__(self, lr=0.001):\n",
    "        super().__init__(lr)\n",
    "        self.conv1 = nn.Conv1d(1, 32, kernel_size=10, stride=10)\n",
    "        self.conv2 = nn.Conv1d(32, 64, kernel_size=1, stride=1)\n",
    "        self.conv3 = nn.Conv1d(64, 2, kernel_size=1, stride=1)\n",
    "        self.flat = nn.Flatten(start_dim=1)\n",
    "\n",
    "    def forward(self, x):\n",
    "        x = nn.functional.one_hot(x).float()\n",
    "        x = x.view(-1, 1, 20)\n",
    "        x = self.conv1(x)\n",
    "        x = nn.functional.relu(x)\n",
    "        x = self.conv2(x)\n",
    "        x = nn.functional.relu(x)\n",
    "        x = self.conv3(x)\n",
    "        x = self.flat(x)\n",
    "        return x\n",
    "\n",
    "    def training_step(self, batch, batch_idx):\n",
    "        _, x, y = batch\n",
    "        out = self(x)\n",
    "        loss = self.loss(out, y)\n",
    "        return loss\n",
    "    \n",
    "    def validation_step(self, batch, batch_idx):\n",
    "        _, x, y = batch\n",
    "        out = self(x)\n",
    "        loss = self.loss(out, y)\n",
    "        preds = torch.argmax(out, dim=1)\n",
    "        acc = self.accuracy(preds, y)\n",
    "        return loss, acc\n",
    "\n",
    "class TailLinear(BaseModule):\n",
    "    def __init__(self, lr=0.001):\n",
    "        super().__init__(lr)\n",
    "        self.fc1 = nn.Linear(20, 128)\n",
    "        self.fc2 = nn.Linear(128, 64)\n",
    "        self.fc3 = nn.Linear(64, 2)\n",
    "        self.flat = nn.Flatten(start_dim=1)\n",
    "\n",
    "    def forward(self, x):\n",
    "        #x = nn.functional.one_hot(x).float()\n",
    "        #x = self.flat(x)\n",
    "        x = self.fc1(x)\n",
    "        x = nn.functional.relu(x)\n",
    "        x = self.fc2(x)\n",
    "        x = nn.functional.relu(x)\n",
    "        x = self.fc3(x)\n",
    "        return x\n",
    "\n",
    "    def training_step(self, batch, batch_idx):\n",
    "        _, x, y = batch\n",
    "        out = self(x)\n",
    "        loss = self.loss(out, y)\n",
    "        return loss\n",
    "    \n",
    "    def validation_step(self, batch, batch_idx):\n",
    "        _, x, y = batch\n",
    "        out = self(x)\n",
    "        loss = self.loss(out, y)\n",
    "        preds = torch.argmax(out, dim=1)\n",
    "        acc = self.accuracy(preds, y)\n",
    "        return loss, acc"
   ]
  },
  {
   "cell_type": "code",
   "execution_count": 39,
   "metadata": {},
   "outputs": [
    {
     "output_type": "stream",
     "name": "stdout",
     "text": [
      "# Epoch 1/5:\t loss=0.66\t loss_val=0.62\t acc_val=69.64\n",
      "# Epoch 2/5:\t loss=0.53\t loss_val=0.39\t acc_val=94.64\n",
      "# Epoch 3/5:\t loss=0.28\t loss_val=0.15\t acc_val=99.55\n",
      "# Epoch 4/5:\t loss=0.11\t loss_val=0.07\t acc_val=100.0\n",
      "# Epoch 5/5:\t loss=0.05\t loss_val=0.03\t acc_val=100.0\n"
     ]
    }
   ],
   "source": [
    "tail = TailLinear()\n",
    "#tail = TailFullyConv()\n",
    "trainer = Trainer(nb_epochs=5)\n",
    "trainer.fit(tail, dl_train_all, dl_val_all)"
   ]
  },
  {
   "cell_type": "code",
   "execution_count": 8,
   "metadata": {},
   "outputs": [
    {
     "output_type": "stream",
     "name": "stdout",
     "text": [
      "# Epoch 1/15:\t loss=2.53\t loss_val=0.68\t acc_val=62.5\n",
      "# Epoch 2/15:\t loss=1.41\t loss_val=0.62\t acc_val=72.32\n",
      "# Epoch 3/15:\t loss=0.98\t loss_val=0.53\t acc_val=72.32\n",
      "# Epoch 4/15:\t loss=0.7\t loss_val=0.51\t acc_val=74.55\n",
      "# Epoch 5/15:\t loss=0.63\t loss_val=0.47\t acc_val=78.57\n",
      "# Epoch 6/15:\t loss=0.64\t loss_val=0.49\t acc_val=77.23\n",
      "# Epoch 7/15:\t loss=0.49\t loss_val=0.52\t acc_val=75.45\n",
      "# Epoch 8/15:\t loss=0.43\t loss_val=0.44\t acc_val=82.14\n",
      "# Epoch 9/15:\t loss=0.37\t loss_val=0.44\t acc_val=81.25\n",
      "# Epoch 10/15:\t loss=0.34\t loss_val=0.42\t acc_val=83.04\n",
      "# Epoch 11/15:\t loss=0.33\t loss_val=0.41\t acc_val=82.14\n",
      "# Epoch 12/15:\t loss=0.3\t loss_val=0.42\t acc_val=83.04\n",
      "# Epoch 13/15:\t loss=0.27\t loss_val=0.39\t acc_val=86.16\n",
      "# Epoch 14/15:\t loss=0.24\t loss_val=0.39\t acc_val=87.5\n",
      "# Epoch 15/15:\t loss=0.22\t loss_val=0.32\t acc_val=90.62\n"
     ]
    }
   ],
   "source": [
    "lenet = LeNet()\n",
    "target_net = TailLinear()\n",
    "siamese = Siamese(auxiliary=lenet, target=target_net, weight_aux=0.5)\n",
    "trainer = Trainer(nb_epochs=25)\n",
    "trainer.fit(siamese, dl_train_all, dl_val_all)"
   ]
  },
  {
   "cell_type": "code",
   "execution_count": 9,
   "metadata": {},
   "outputs": [
    {
     "output_type": "stream",
     "name": "stdout",
     "text": [
      "# Epoch 1/15:\t loss=0.22\t loss_val=0.31\t acc_val=93.3\n",
      "# Epoch 2/15:\t loss=0.19\t loss_val=0.3\t acc_val=92.41\n",
      "# Epoch 3/15:\t loss=0.16\t loss_val=0.26\t acc_val=92.86\n",
      "# Epoch 4/15:\t loss=0.22\t loss_val=0.3\t acc_val=90.18\n",
      "# Epoch 5/15:\t loss=0.19\t loss_val=0.34\t acc_val=88.39\n",
      "# Epoch 6/15:\t loss=0.11\t loss_val=0.28\t acc_val=91.96\n",
      "# Epoch 7/15:\t loss=0.1\t loss_val=0.29\t acc_val=92.86\n",
      "# Epoch 8/15:\t loss=0.08\t loss_val=0.28\t acc_val=93.3\n",
      "# Epoch 9/15:\t loss=0.06\t loss_val=0.3\t acc_val=93.75\n",
      "# Epoch 10/15:\t loss=0.05\t loss_val=0.3\t acc_val=93.75\n",
      "# Epoch 11/15:\t loss=0.05\t loss_val=0.31\t acc_val=93.3\n",
      "# Epoch 12/15:\t loss=0.06\t loss_val=0.43\t acc_val=90.18\n",
      "# Epoch 13/15:\t loss=0.11\t loss_val=0.33\t acc_val=93.75\n",
      "# Epoch 14/15:\t loss=0.1\t loss_val=0.27\t acc_val=93.75\n",
      "# Epoch 15/15:\t loss=0.09\t loss_val=0.31\t acc_val=93.75\n"
     ]
    }
   ],
   "source": [
    "trainer.fit(siamese, dl_train_all, dl_val_all)"
   ]
  },
  {
   "cell_type": "code",
   "execution_count": 36,
   "metadata": {},
   "outputs": [],
   "source": [
    "for batch in dl_train_all:\n",
    "    _, x, y = batch\n",
    "    break"
   ]
  },
  {
   "cell_type": "code",
   "execution_count": 28,
   "metadata": {},
   "outputs": [],
   "source": [
    "test_net = TestNet()\n",
    "out = test_net(x)"
   ]
  },
  {
   "cell_type": "code",
   "execution_count": 35,
   "metadata": {},
   "outputs": [
    {
     "output_type": "execute_result",
     "data": {
      "text/plain": [
       "torch.Size([32, 2])"
      ]
     },
     "metadata": {},
     "execution_count": 35
    }
   ],
   "source": [
    "out.view(-1, 2).size()"
   ]
  },
  {
   "cell_type": "code",
   "execution_count": 20,
   "metadata": {},
   "outputs": [
    {
     "output_type": "execute_result",
     "data": {
      "text/plain": [
       "tensor([0, 0, 1, 0, 1, 0, 0, 1, 1, 0, 1, 1, 1, 1, 0, 1, 0, 0, 1, 0, 0, 1, 1, 0,\n",
       "        0, 1, 0, 0, 1, 0, 1, 0])"
      ]
     },
     "metadata": {},
     "execution_count": 20
    }
   ],
   "source": [
    "torch.argmax(out, dim=2)\n",
    "y"
   ]
  },
  {
   "cell_type": "code",
   "execution_count": 37,
   "metadata": {},
   "outputs": [
    {
     "output_type": "execute_result",
     "data": {
      "text/plain": [
       "torch.Size([32, 2, 10])"
      ]
     },
     "metadata": {},
     "execution_count": 37
    }
   ],
   "source": [
    "x = nn.functional.one_hot(x, num_classes=10)\n",
    "x.size()"
   ]
  },
  {
   "cell_type": "code",
   "execution_count": 13,
   "metadata": {},
   "outputs": [
    {
     "output_type": "execute_result",
     "data": {
      "text/plain": [
       "torch.Size([32, 1, 20])"
      ]
     },
     "metadata": {},
     "execution_count": 13
    }
   ],
   "source": [
    "x.view(-1, 1, 20).float().size()"
   ]
  },
  {
   "cell_type": "code",
   "execution_count": 23,
   "metadata": {},
   "outputs": [
    {
     "output_type": "execute_result",
     "data": {
      "text/plain": [
       "torch.Size([32, 20])"
      ]
     },
     "metadata": {},
     "execution_count": 23
    }
   ],
   "source": [
    "nn.Flatten()(x).size()"
   ]
  },
  {
   "cell_type": "code",
   "execution_count": null,
   "metadata": {},
   "outputs": [],
   "source": []
  }
 ]
}