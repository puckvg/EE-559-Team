{
 "cells": [
  {
   "cell_type": "markdown",
   "metadata": {},
   "source": [
    "# Fully-connected model with auxiliary loss"
   ]
  },
  {
   "cell_type": "code",
   "execution_count": 1,
   "metadata": {},
   "outputs": [],
   "source": [
    "from src.dlc_practical_prologue import generate_pair_sets\n",
    "from src.utils import load_class_data, load_target_data, load_all_data, print_param_count\n",
    "from src.models import *\n",
    "from src.trainer import Trainer\n",
    "import matplotlib.pyplot as plt"
   ]
  },
  {
   "cell_type": "code",
   "execution_count": 2,
   "metadata": {},
   "outputs": [],
   "source": [
    "# Import data\n",
    "dl_train_all, dl_val_all, dl_test_all = load_all_data(normalize=True)"
   ]
  },
  {
   "cell_type": "markdown",
   "metadata": {},
   "source": [
    "## Let's run it"
   ]
  },
  {
   "cell_type": "code",
   "execution_count": 3,
   "metadata": {},
   "outputs": [
    {
     "name": "stdout",
     "output_type": "stream",
     "text": [
      "--- LinearAlpha ---\n",
      "Total number of parameters:     33950\n",
      "Number of trainable parameters: 33950\n",
      "\n",
      "--- LinearBeta ---\n",
      "Total number of parameters:     382\n",
      "Number of trainable parameters: 382\n",
      "\n",
      "--- Full model ----\n",
      "Total number of parameters:     34332\n",
      "Number of trainable parameters: 34332\n"
     ]
    }
   ],
   "source": [
    "# Check the number of parameters of the model\n",
    "print(\"--- LinearAlpha ---\")\n",
    "alpha = LinearAlpha()\n",
    "print_param_count(alpha)\n",
    "\n",
    "print(\"\\n--- LinearBeta ---\")\n",
    "beta = LinearBeta()\n",
    "print_param_count(beta)\n",
    "\n",
    "print(\"\\n--- Full model ----\")\n",
    "model = Siamese(alpha, beta, weight_aux=0)\n",
    "print_param_count(model)"
   ]
  },
  {
   "cell_type": "code",
   "execution_count": 5,
   "metadata": {},
   "outputs": [
    {
     "name": "stdout",
     "output_type": "stream",
     "text": [
      "Run 1/10\n",
      "loss_test=0.66\t acc_test=87.79\n",
      "Run 2/10\n",
      "loss_test=0.43\t acc_test=89.75\n",
      "Run 3/10\n",
      "loss_test=0.52\t acc_test=86.43\n",
      "Run 4/10\n",
      "loss_test=0.45\t acc_test=88.18\n",
      "Run 5/10\n",
      "loss_test=0.62\t acc_test=85.35\n",
      "Run 6/10\n",
      "loss_test=0.74\t acc_test=84.57\n",
      "Run 7/10\n",
      "loss_test=0.73\t acc_test=87.7\n",
      "Run 8/10\n",
      "loss_test=0.65\t acc_test=86.04\n",
      "Run 9/10\n",
      "loss_test=0.55\t acc_test=86.82\n",
      "Run 10/10\n",
      "loss_test=0.75\t acc_test=84.18\n"
     ]
    }
   ],
   "source": [
    "results = []\n",
    "for i in range(10):\n",
    "    print(f\"Run {i+1}/10\")\n",
    "\n",
    "    # Trainer\n",
    "    trainer = Trainer(nb_epochs=25, verbose=False, run='fc_aux_argmax')\n",
    "\n",
    "    # Import data\n",
    "    dl_train_all, dl_val_all, dl_test_all = load_all_data(normalize=True)\n",
    "\n",
    "    # Model\n",
    "    alpha = LinearAlpha()\n",
    "    beta = LinearBeta(label_encoded=False)\n",
    "    model = Siamese(alpha, beta, weight_aux=0.5, \n",
    "                    softmax=False, \n",
    "                    argmax=False, strategy='sum')\n",
    "\n",
    "    # Training\n",
    "    trainer.fit(model, dl_train_all, dl_val_all, verbose=False)\n",
    "\n",
    "    # Testing\n",
    "    acc = trainer.test(model, dl_test_all, test_verbose=True, return_acc=True)\n",
    "    results.extend([acc])"
   ]
  },
  {
   "cell_type": "code",
   "execution_count": 6,
   "metadata": {},
   "outputs": [
    {
     "name": "stdout",
     "output_type": "stream",
     "text": [
      "Average accuracy:   86.68\n",
      "Standard deviation: 1.73\n"
     ]
    }
   ],
   "source": [
    "# Print results\n",
    "results = torch.Tensor(results)\n",
    "print(\"Average accuracy:   {:.2f}\".format(results.mean()))\n",
    "print(\"Standard deviation: {:.2f}\".format(results.std()))"
   ]
  },
  {
   "cell_type": "code",
   "execution_count": null,
   "metadata": {},
   "outputs": [],
   "source": []
  }
 ],
 "metadata": {
  "kernelspec": {
   "display_name": "Python 3",
   "language": "python",
   "name": "python3"
  },
  "language_info": {
   "codemirror_mode": {
    "name": "ipython",
    "version": 3
   },
   "file_extension": ".py",
   "mimetype": "text/x-python",
   "name": "python",
   "nbconvert_exporter": "python",
   "pygments_lexer": "ipython3",
   "version": "3.8.3"
  }
 },
 "nbformat": 4,
 "nbformat_minor": 2
}
