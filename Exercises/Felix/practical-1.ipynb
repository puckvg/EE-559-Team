{
 "cells": [
  {
   "cell_type": "markdown",
   "metadata": {},
   "source": [
    "# Practical Session 1"
   ]
  },
  {
   "cell_type": "code",
   "execution_count": 58,
   "metadata": {},
   "outputs": [],
   "source": [
    "# Imports\n",
    "import torch\n",
    "import time"
   ]
  },
  {
   "cell_type": "markdown",
   "metadata": {},
   "source": [
    "## Multiple views of a storage"
   ]
  },
  {
   "cell_type": "code",
   "execution_count": 22,
   "metadata": {},
   "outputs": [
    {
     "data": {
      "text/plain": [
       "tensor([[1., 2., 1., 1., 1., 1., 2., 1., 1., 1., 1., 2., 1.],\n",
       "        [2., 2., 2., 2., 2., 2., 2., 2., 2., 2., 2., 2., 2.],\n",
       "        [1., 2., 1., 1., 1., 1., 2., 1., 1., 1., 1., 2., 1.],\n",
       "        [1., 2., 1., 3., 3., 1., 2., 1., 3., 3., 1., 2., 1.],\n",
       "        [1., 2., 1., 3., 3., 1., 2., 1., 3., 3., 1., 2., 1.],\n",
       "        [1., 2., 1., 1., 1., 1., 2., 1., 1., 1., 1., 2., 1.],\n",
       "        [2., 2., 2., 2., 2., 2., 2., 2., 2., 2., 2., 2., 2.],\n",
       "        [1., 2., 1., 1., 1., 1., 2., 1., 1., 1., 1., 2., 1.],\n",
       "        [1., 2., 1., 3., 3., 1., 2., 1., 3., 3., 1., 2., 1.],\n",
       "        [1., 2., 1., 3., 3., 1., 2., 1., 3., 3., 1., 2., 1.],\n",
       "        [1., 2., 1., 1., 1., 1., 2., 1., 1., 1., 1., 2., 1.],\n",
       "        [2., 2., 2., 2., 2., 2., 2., 2., 2., 2., 2., 2., 2.],\n",
       "        [1., 2., 1., 1., 1., 1., 2., 1., 1., 1., 1., 2., 1.]])"
      ]
     },
     "execution_count": 22,
     "metadata": {},
     "output_type": "execute_result"
    }
   ],
   "source": [
    "a = torch.ones(13,13)\n",
    "a[:,1], a[:,6], a[:,11] = 2, 2, 2\n",
    "a[1,:], a[6,:], a[11,:] = 2, 2, 2\n",
    "a[3:5,3:5], a[8:10,3:5] = 3, 3\n",
    "a[8:10,8:10], a[3:5,8:10] = 3, 3\n",
    "a"
   ]
  },
  {
   "cell_type": "markdown",
   "metadata": {},
   "source": [
    "## Eigendecomposition"
   ]
  },
  {
   "cell_type": "code",
   "execution_count": 54,
   "metadata": {},
   "outputs": [
    {
     "data": {
      "text/plain": [
       "tensor([ 1.0000,  2.0000, 20.0000, 19.0000,  3.0000, 18.0000,  4.0000, 17.0000,\n",
       "         5.0000, 16.0000,  6.0000, 15.0000,  7.0000, 14.0000,  8.0000, 13.0000,\n",
       "         9.0000, 10.0000, 11.0000, 12.0000])"
      ]
     },
     "execution_count": 54,
     "metadata": {},
     "output_type": "execute_result"
    }
   ],
   "source": [
    "N = 20\n",
    "\n",
    "M = torch.randn(N,N)\n",
    "M_inv = torch.inverse(M)\n",
    "\n",
    "D = torch.diag(torch.arange(1,N+1))\n",
    "A = torch.mm(torch.mm(M_inv, D.float()), M)\n",
    "\n",
    "eigen = torch.eig(A)\n",
    "eigen[0][:,0]"
   ]
  },
  {
   "cell_type": "markdown",
   "metadata": {},
   "source": [
    "## Flops per second"
   ]
  },
  {
   "cell_type": "code",
   "execution_count": 64,
   "metadata": {},
   "outputs": [
    {
     "name": "stdout",
     "output_type": "stream",
     "text": [
      "Processing time:  0.7726388999999472 [s]\n"
     ]
    }
   ],
   "source": [
    "N = 5000\n",
    "\n",
    "A1, A2 = torch.normal(mean=0, std=torch.ones(N,N)), torch.normal(mean=0, std=torch.ones(N,N))\n",
    "\n",
    "t_start = time.perf_counter()\n",
    "torch.mm(A1, A2)\n",
    "t_end = time.perf_counter()\n",
    "\n",
    "print(\"Processing time: \", t_end - t_start, \"[s]\")\n",
    "# torch.mm\n",
    "# time.perf_counter"
   ]
  },
  {
   "cell_type": "markdown",
   "metadata": {},
   "source": [
    "## Playing with strides"
   ]
  },
  {
   "cell_type": "code",
   "execution_count": 116,
   "metadata": {},
   "outputs": [
    {
     "name": "stdout",
     "output_type": "stream",
     "text": [
      "Slow function:  0.0458096000002115 [s]\n",
      "Fast function:  0.0009174000006169081 [s]\n"
     ]
    }
   ],
   "source": [
    "# Slow version\n",
    "def mul_row(m):\n",
    "    N = m.shape[0]\n",
    "    \n",
    "    for i in range(1,N+1):\n",
    "        m[i-1,:] = m[i-1,:]*i\n",
    "    return m\n",
    "  \n",
    "# Fast version\n",
    "def mul_row_fast(m):\n",
    "    f = torch.arange(1,m.shape[0]+1,out=torch.empty(m.shape[0],1))\n",
    "    return torch.mul(f, m)\n",
    "\n",
    "\n",
    "m = torch.full((4, 8), 2.0)\n",
    "\n",
    "m2 = torch.normal(mean=0, std=torch.ones(1000, 400))\n",
    "\n",
    "t1_start = time.perf_counter()\n",
    "mul_row(m2)\n",
    "t1_end = time.perf_counter()\n",
    "\n",
    "t2_start = time.perf_counter()\n",
    "mul_row_fast(m2)\n",
    "t2_end = time.perf_counter()\n",
    "\n",
    "print(\"Slow function: \", t1_end-t1_start, \"[s]\")\n",
    "print(\"Fast function: \", t2_end-t2_start, \"[s]\")\n"
   ]
  }
 ],
 "metadata": {
  "kernelspec": {
   "display_name": "Python 3",
   "language": "python",
   "name": "python3"
  },
  "language_info": {
   "codemirror_mode": {
    "name": "ipython",
    "version": 3
   },
   "file_extension": ".py",
   "mimetype": "text/x-python",
   "name": "python",
   "nbconvert_exporter": "python",
   "pygments_lexer": "ipython3",
   "version": "3.7.9"
  },
  "toc": {
   "base_numbering": 1,
   "nav_menu": {},
   "number_sections": true,
   "sideBar": true,
   "skip_h1_title": true,
   "title_cell": "Table of Contents",
   "title_sidebar": "Contents",
   "toc_cell": false,
   "toc_position": {},
   "toc_section_display": true,
   "toc_window_display": false
  }
 },
 "nbformat": 4,
 "nbformat_minor": 4
}
