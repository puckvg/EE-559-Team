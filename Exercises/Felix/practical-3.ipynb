{
 "metadata": {
  "language_info": {
   "codemirror_mode": {
    "name": "ipython",
    "version": 3
   },
   "file_extension": ".py",
   "mimetype": "text/x-python",
   "name": "python",
   "nbconvert_exporter": "python",
   "pygments_lexer": "ipython3",
   "version": "3.7.9-final"
  },
  "orig_nbformat": 2,
  "kernelspec": {
   "name": "python3",
   "display_name": "Python 3.7.9 64-bit",
   "metadata": {
    "interpreter": {
     "hash": "551027d1b939ec0016f2e01e6bd6ac0e4699d2ec5e4974e783e9fca478101a51"
    }
   }
  }
 },
 "nbformat": 4,
 "nbformat_minor": 2,
 "cells": [
  {
   "source": [
    "# Practical Session 3"
   ],
   "cell_type": "markdown",
   "metadata": {}
  },
  {
   "source": [
    "## Imports"
   ],
   "cell_type": "markdown",
   "metadata": {}
  },
  {
   "cell_type": "code",
   "execution_count": 1,
   "metadata": {},
   "outputs": [],
   "source": [
    "import torch\n",
    "import dlc_practical_prologue as prologue\n",
    "import time"
   ]
  },
  {
   "cell_type": "code",
   "execution_count": 2,
   "metadata": {},
   "outputs": [],
   "source": [
    "if torch.cuda.is_available():\n",
    "    device = torch.device(\"cuda\")"
   ]
  },
  {
   "source": [
    "## Activation function"
   ],
   "cell_type": "markdown",
   "metadata": {}
  },
  {
   "cell_type": "code",
   "execution_count": 3,
   "metadata": {},
   "outputs": [],
   "source": [
    "def sigma(x):\n",
    "    return torch.tanh(x)"
   ]
  },
  {
   "cell_type": "code",
   "execution_count": 4,
   "metadata": {},
   "outputs": [],
   "source": [
    "def dsigma(x):\n",
    "    return 1 - torch.tanh(x).pow(2)"
   ]
  },
  {
   "source": [
    "## Loss"
   ],
   "cell_type": "markdown",
   "metadata": {}
  },
  {
   "cell_type": "code",
   "execution_count": 5,
   "metadata": {},
   "outputs": [],
   "source": [
    "def loss(v, t):\n",
    "    return torch.norm(v - t, p=2).pow(2)"
   ]
  },
  {
   "cell_type": "code",
   "execution_count": 6,
   "metadata": {},
   "outputs": [],
   "source": [
    "def dloss(v, t):\n",
    "    return -2*(t-v)"
   ]
  },
  {
   "source": [
    "## Forward and backward passes"
   ],
   "cell_type": "markdown",
   "metadata": {}
  },
  {
   "cell_type": "code",
   "execution_count": 7,
   "metadata": {},
   "outputs": [],
   "source": [
    "def forward_pass(w1, b1, w2, b2, x):\n",
    "    x0 = x\n",
    "\n",
    "    s1 = torch.mv(w1, x0) + b1\n",
    "    x1 = sigma(s1)\n",
    "\n",
    "    s2 = torch.mv(w2, x1) + b2\n",
    "    x2 = sigma(s2)\n",
    "    \n",
    "    return x0, s1, x1, s2, x2"
   ]
  },
  {
   "cell_type": "code",
   "execution_count": 8,
   "metadata": {},
   "outputs": [],
   "source": [
    "def backward_pass(w1, b1, w2, b2,\n",
    "                  t,\n",
    "                  x, s1, x1, s2, x2,\n",
    "                  dl_dw1, dl_db1, dl_dw2, dl_db2):\n",
    "    \n",
    "\n",
    "    ### Get dimensions\n",
    "    # First layer\n",
    "    D1 = x.size()[0]\n",
    "    C1 = w1.size()[0]\n",
    "\n",
    "    # Second layer\n",
    "    D2 = x1.size()[0]\n",
    "    C2 = w2.size()[0]\n",
    "\n",
    "\n",
    "    ### Calculate derivatives\n",
    "    # Output loss\n",
    "    dl_dx2 = dloss(x2, t)\n",
    "\n",
    "    # Second layer\n",
    "    dl_ds2 = dl_dx2 * dsigma(s2)\n",
    "    dl_dx1 = torch.mv(w2.T, dl_ds2)\n",
    "    dl_dw2_x = torch.mm(dl_ds2.view(C2,1), x1.view(1, D2))\n",
    "    dl_db2_x = dl_ds2 \n",
    "\n",
    "    # First layer\n",
    "    dl_ds1 = dl_dx1 * dsigma(s1)\n",
    "    dl_dw1_x = torch.mm(dl_ds1.view(C1,1), x0.view(1, D1))\n",
    "    dl_db1_x = dl_ds1 \n",
    "\n",
    "\n",
    "    ### Add up gradients\n",
    "    dl_dw1 += dl_dw1_x\n",
    "    dl_db1 += dl_db1_x\n",
    "    dl_dw2 += dl_dw2_x\n",
    "    dl_db2 += dl_db2_x\n",
    "\n",
    "    return dl_dw1, dl_db1, dl_dw2, dl_db2"
   ]
  },
  {
   "cell_type": "code",
   "execution_count": 9,
   "metadata": {},
   "outputs": [],
   "source": [
    "def test_nn(test_input, test_target, train_input, train_target):\n",
    "    ### Initialization\n",
    "    tp_test, tp_train = 0, 0 # true positives\n",
    "    N = test_target.size()[0]\n",
    "\n",
    "    for x_test, t_test, x_train, t_train in zip(test_input, test_target, train_input, train_target):\n",
    "        # Predict output label\n",
    "        _, _, _, _, x2_test = forward_pass(w1, b1, w2, b2, x_test)\n",
    "        _, _, _, _, x2_train = forward_pass(w1, b1, w2, b2, x_train)\n",
    "        \n",
    "        # Check if prediction is correct\n",
    "        if torch.argmax(x2_test).item() == torch.argmax(t_test).item():\n",
    "            tp_test += 1\n",
    "        \n",
    "        if torch.argmax(x2_train).item() == torch.argmax(t_train).item():\n",
    "            tp_train += 1\n",
    "\n",
    "    return ((1-tp_train/N)*100), ((1-tp_test/N)*100)"
   ]
  },
  {
   "source": [
    "## Training the network"
   ],
   "cell_type": "markdown",
   "metadata": {}
  },
  {
   "cell_type": "code",
   "execution_count": 10,
   "metadata": {},
   "outputs": [
    {
     "output_type": "stream",
     "name": "stdout",
     "text": [
      "* Using MNIST\n** Reduce the data-set (use --full for the full thing)\n** Use 1000 train and 1000 test samples\n"
     ]
    }
   ],
   "source": [
    "### Load data\n",
    "# Circumvent problems with MNIST dataset\n",
    "from six.moves import urllib\n",
    "\n",
    "opener = urllib.request.build_opener()\n",
    "opener.addheaders = [('User-agent', 'Mozialla/5.0')]\n",
    "urllib.request.install_opener(opener)\n",
    "\n",
    "train_input, train_target, test_input, test_target = prologue.load_data(one_hot_labels=True, normalize=True, cifar=False)\n",
    "\n",
    "if torch.cuda.is_available():\n",
    "    train_input = train_input.to(device)\n",
    "    train_target = train_target.to(device)\n",
    "    test_input = test_input.to(device)\n",
    "    test_target = test_target.to(device)\n",
    "\n",
    "# Transform targets\n",
    "train_target *= 0.9"
   ]
  },
  {
   "cell_type": "code",
   "execution_count": 11,
   "metadata": {
    "tags": []
   },
   "outputs": [
    {
     "output_type": "stream",
     "name": "stdout",
     "text": [
      "### Start training ###\n",
      "Iteration 50: Train error: 46.60%  ---  Test error: 52.40%\n",
      "Iteration 100: Train error: 17.40%  ---  Test error: 27.10%\n",
      "Iteration 150: Train error: 8.10%  ---  Test error: 19.90%\n",
      "Iteration 200: Train error: 6.10%  ---  Test error: 16.60%\n",
      "Iteration 250: Train error: 5.10%  ---  Test error: 17.30%\n",
      "Iteration 300: Train error: 4.00%  ---  Test error: 15.10%\n",
      "Iteration 350: Train error: 3.00%  ---  Test error: 17.00%\n",
      "Iteration 400: Train error: 2.30%  ---  Test error: 15.80%\n",
      "Iteration 450: Train error: 2.20%  ---  Test error: 16.90%\n",
      "Iteration 500: Train error: 1.00%  ---  Test error: 17.20%\n",
      "Iteration 550: Train error: 0.80%  ---  Test error: 16.20%\n",
      "Iteration 600: Train error: 1.10%  ---  Test error: 17.00%\n",
      "Iteration 650: Train error: 0.40%  ---  Test error: 15.80%\n",
      "Iteration 700: Train error: 0.50%  ---  Test error: 16.50%\n",
      "Iteration 750: Train error: 0.40%  ---  Test error: 16.40%\n",
      "Iteration 800: Train error: 0.30%  ---  Test error: 17.10%\n",
      "Iteration 850: Train error: 0.30%  ---  Test error: 16.60%\n",
      "Iteration 900: Train error: 0.30%  ---  Test error: 16.90%\n",
      "Iteration 950: Train error: 0.30%  ---  Test error: 16.70%\n",
      "Iteration 1000: Train error: 0.20%  ---  Test error: 17.20%\n",
      "Training time: 5.56min\n"
     ]
    }
   ],
   "source": [
    "### Dimensions\n",
    "# Input dimension\n",
    "D1 = train_input.size()[1]\n",
    "# Sucessive dimensions\n",
    "C1 = 50\n",
    "D2 = C1\n",
    "C2 = train_target.size()[1]\n",
    "\n",
    "\n",
    "### Training parameters\n",
    "N_grad_steps = 1000\n",
    "eta = 0.1/train_input.size()[0]\n",
    "\n",
    "\n",
    "### Initialization\n",
    "epsilon = 1e-6\n",
    "w1 = torch.normal(torch.zeros(C1,D1), epsilon)\n",
    "w2 = torch.normal(torch.zeros(C2,D2), epsilon)\n",
    "b1 = torch.normal(torch.zeros(C1), epsilon)\n",
    "b2 = torch.normal(torch.zeros(C2), epsilon)\n",
    "\n",
    "# CUDA\n",
    "if torch.cuda.is_available():\n",
    "    w1 = w1.to(device)\n",
    "    w2 = w2.to(device)\n",
    "    b1 = b1.to(device)\n",
    "    b2 = b2.to(device)\n",
    "\n",
    "print('### Start training ###')\n",
    "start = time.time()\n",
    "### Training steps\n",
    "for i in range(N_grad_steps):\n",
    "    # Print iteration\n",
    "    if (i+1)%50 == 0:\n",
    "        train_error, test_error = test_nn(test_input, test_target, train_input, train_target)\n",
    "        print('Iteration {:d}: Train error: {:.02f}%  ---  Test error: {:.02f}%'.format(i+1, train_error, test_error))\n",
    "\n",
    "    # Reset gradient sum\n",
    "    dl_dw1 = torch.zeros_like(w1)\n",
    "    dl_db1 = torch.zeros_like(b1)\n",
    "    dl_dw2 = torch.zeros(w2.size())\n",
    "    dl_db2 = torch.zeros(b2.size())\n",
    "\n",
    "    # CUDA\n",
    "    if torch.cuda.is_available():\n",
    "        dl_dw1 = dl_dw1.to(device)\n",
    "        dl_dw2 = dl_dw2.to(device)\n",
    "        dl_db1 = dl_db1.to(device)\n",
    "        dl_db2 = dl_db2.to(device)\n",
    "    \n",
    "    # Iterate over training samples\n",
    "    for x, t in zip(train_input, train_target):\n",
    "\n",
    "        ### Forward pass\n",
    "        x0, s1, x1, s2, x2 = forward_pass(w1, b1, w2, b2, x)\n",
    "\n",
    "        ### Backward pass\n",
    "        dl_dw1, dl_db1, dl_dw2, dl_db2 = backward_pass(w1, b1, w2, b2,\n",
    "                                                        t,\n",
    "                                                        x, s1, x1, s2, x2,\n",
    "                                                        dl_dw1, dl_db1, dl_dw2, dl_db2)\n",
    "\n",
    "    ### Gradient step\n",
    "    w1 -= eta * dl_dw1\n",
    "    w2 -= eta * dl_dw2\n",
    "    b1 -= eta * dl_db1\n",
    "    b2 -= eta * dl_db2\n",
    "\n",
    "end = time.time()\n",
    "print('Training time: {:.02f}min'.format((end-start)/60))"
   ]
  },
  {
   "source": [
    "## Testing trained network"
   ],
   "cell_type": "markdown",
   "metadata": {}
  },
  {
   "cell_type": "code",
   "execution_count": 12,
   "metadata": {},
   "outputs": [
    {
     "output_type": "stream",
     "name": "stdout",
     "text": [
      "Train error: 0.10%\nTest error: 17.00%\n"
     ]
    }
   ],
   "source": [
    "train_error, test_error = test_nn(test_input, test_target, train_input, train_target)\n",
    "\n",
    "print('Train error: {:.02f}%'.format(train_error))\n",
    "print('Test error: {:.02f}%'.format(test_error))"
   ]
  },
  {
   "cell_type": "code",
   "execution_count": null,
   "metadata": {},
   "outputs": [],
   "source": []
  }
 ]
}