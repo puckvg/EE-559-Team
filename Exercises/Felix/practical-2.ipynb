{
 "cells": [
  {
   "cell_type": "markdown",
   "metadata": {},
   "source": [
    "# Practical Session 2"
   ]
  },
  {
   "cell_type": "code",
   "execution_count": 1,
   "metadata": {},
   "outputs": [],
   "source": [
    "# Imports\n",
    "import torch\n",
    "from torch import Tensor\n",
    "import random\n",
    "import matplotlib.pyplot as plt\n",
    "\n",
    "import dlc_practical_prologue as prologue"
   ]
  },
  {
   "cell_type": "markdown",
   "metadata": {},
   "source": [
    "## Nearest neighbor"
   ]
  },
  {
   "cell_type": "code",
   "execution_count": 2,
   "metadata": {},
   "outputs": [],
   "source": [
    "def nearest_classification(train_input, train_target, x):\n",
    "    i = torch.argmin(torch.sqrt(torch.sum(torch.square(train_input - x), dim=1)))\n",
    "    return train_target[i]"
   ]
  },
  {
   "source": [
    "## PCA"
   ],
   "cell_type": "markdown",
   "metadata": {}
  },
  {
   "cell_type": "code",
   "execution_count": 3,
   "metadata": {},
   "outputs": [],
   "source": [
    "def PCA(x):\n",
    "    mean = x.mean(0)\n",
    "    b = x - mean\n",
    "    Sigma = b.t() @ b\n",
    "    eigen_values, eigen_vectors = Sigma.eig(True)\n",
    "    right_order = eigen_values[:, 0].abs().sort(descending=True)[1]\n",
    "    # print(right_order)\n",
    "    eigen_vectors = eigen_vectors.t()[right_order]\n",
    "    return mean, eigen_vectors"
   ]
  },
  {
   "cell_type": "markdown",
   "metadata": {},
   "source": [
    "## Error estimation"
   ]
  },
  {
   "cell_type": "code",
   "execution_count": 4,
   "metadata": {},
   "outputs": [],
   "source": [
    "def compute_nb_errors(train_input, train_target, test_input, test_target, mean = None, proj = None):\n",
    "\n",
    "    if mean is not None:\n",
    "        train_input = train_input - mean\n",
    "        test_input = test_input - mean\n",
    "\n",
    "    if proj is not None:\n",
    "        train_input = train_input @ proj.t()\n",
    "        test_input = test_input @ proj.t()\n",
    "\n",
    "    nb_errors = 0\n",
    "\n",
    "    for n in range(test_input.size(0)):\n",
    "        if test_target[n] != nearest_classification(train_input, train_target, test_input[n]):\n",
    "            nb_errors = nb_errors + 1\n",
    "    \n",
    "    return nb_errors"
   ]
  },
  {
   "cell_type": "markdown",
   "metadata": {},
   "source": [
    "## Check that all this makes sense"
   ]
  },
  {
   "cell_type": "code",
   "execution_count": 5,
   "metadata": {},
   "outputs": [
    {
     "output_type": "stream",
     "name": "stdout",
     "text": [
      "* Using CIFAR\n",
      "Files already downloaded and verified\n",
      "Files already downloaded and verified\n",
      "** Reduce the data-set (use --full for the full thing)\n",
      "** Use 1000 train and 1000 test samples\n",
      "Baseline nb_errors 746 error 74.60%\n",
      "Random 100d nb_errors 781 error 78.10%\n",
      "PCA 100d nb_errors 745 error 74.50%\n",
      "PCA 50d nb_errors 737 error 73.70%\n",
      "PCA 10d nb_errors 763 error 76.30%\n",
      "PCA 3d nb_errors 839 error 83.90%\n"
     ]
    }
   ],
   "source": [
    "# Cifar\n",
    "train_input, train_target, test_input, test_target = prologue.load_data(cifar = True)\n",
    "\n",
    "nb_errors = compute_nb_errors(train_input, train_target, test_input, test_target)\n",
    "print('Baseline nb_errors {:d} error {:.02f}%'.format(nb_errors, 100 * nb_errors / test_input.size(0)))\n",
    "\n",
    "##\n",
    "\n",
    "basis = train_input.new(100, train_input.size(1)).normal_()\n",
    "\n",
    "nb_errors = compute_nb_errors(train_input, train_target, test_input, test_target, None, basis)\n",
    "print('Random {:d}d nb_errors {:d} error {:.02f}%'.format(basis.size(0), nb_errors, 100 * nb_errors / test_input.size(0)))\n",
    "\n",
    "##\n",
    "\n",
    "mean, basis = PCA(train_input)\n",
    "\n",
    "for d in [ 100, 50, 10, 3 ]:\n",
    "    nb_errors = compute_nb_errors(train_input, train_target, test_input, test_target, mean, basis[:d])\n",
    "    print('PCA {:d}d nb_errors {:d} error {:.02f}%'.format(d, nb_errors, 100 * nb_errors / test_input.size(0)))"
   ]
  }
 ],
 "metadata": {
  "kernelspec": {
   "display_name": "Python 3",
   "language": "python",
   "name": "python3"
  },
  "language_info": {
   "codemirror_mode": {
    "name": "ipython",
    "version": 3
   },
   "file_extension": ".py",
   "mimetype": "text/x-python",
   "name": "python",
   "nbconvert_exporter": "python",
   "pygments_lexer": "ipython3",
   "version": "3.7.9-final"
  },
  "toc": {
   "base_numbering": 1,
   "nav_menu": {},
   "number_sections": true,
   "sideBar": true,
   "skip_h1_title": true,
   "title_cell": "Table of Contents",
   "title_sidebar": "Contents",
   "toc_cell": false,
   "toc_position": {},
   "toc_section_display": true,
   "toc_window_display": false
  }
 },
 "nbformat": 4,
 "nbformat_minor": 4
}